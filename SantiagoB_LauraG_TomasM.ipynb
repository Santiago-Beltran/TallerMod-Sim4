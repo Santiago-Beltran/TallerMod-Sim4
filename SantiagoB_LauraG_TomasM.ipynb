{
 "cells": [
  {
   "cell_type": "markdown",
   "id": "8a39dac4-eb3d-48da-8db5-fd5bde5d95ba",
   "metadata": {},
   "source": [
    "## Parte 1 Taller Modelación y Simulación 4\n",
    "\n",
    "### Integrantes:\n",
    "+ Santiago Beltrán\n",
    "+ Laura González \n",
    "+ Tomás Macías"
   ]
  },
  {
   "cell_type": "markdown",
   "id": "e6b12d18-16cc-4597-bc95-743025605985",
   "metadata": {},
   "source": [
    "### Entendimiento del negocio (CRISP-DM)\n",
    "Incluye: Explicación de la problemática, preguntas de negocio que se quieren responder, posibles riesgos, las limitaciones existentes y los criterios de éxito.  \n",
    "\n",
    "Usamos como guía \"https://pdf4pro.com/amp/download?data_id=73581e&slug=crisp-dm-1-the-modeling-agency-com\".\n"
   ]
  },
  {
   "cell_type": "markdown",
   "id": "61730152-75fe-4c03-9ed3-52977ab2e995",
   "metadata": {},
   "source": []
  },
  {
   "cell_type": "markdown",
   "id": "7be1998b-a4dd-4f91-8c0f-7f19ff8ba4ad",
   "metadata": {},
   "source": [
    "### Carga de datos \n",
    "Excluímos, según las instrucciones, las variables: oprior, z30, zprior, preanti, str2, strat, offtrt, cd40, cd420, cd80, cd820."
   ]
  },
  {
   "cell_type": "code",
   "execution_count": null,
   "id": "57828457-2ebe-4b32-ab06-1bfe8aae712d",
   "metadata": {},
   "outputs": [],
   "source": []
  },
  {
   "cell_type": "markdown",
   "id": "ca6bae35-a350-48f8-82a9-f9343e92274e",
   "metadata": {},
   "source": [
    "### Diccionario de datos\n",
    "Descripción de la tabla, volumetría, descripción y tipo de cada columna, etc\n",
    "\n",
    "\"DiccionarioDeDatos.xlsx\""
   ]
  },
  {
   "cell_type": "markdown",
   "id": "70be53ce-4341-4219-8e2e-78ef4e80f9f7",
   "metadata": {},
   "source": [
    "### Un primer análisis\n",
    "#### Vistazo a los datos (head)"
   ]
  },
  {
   "cell_type": "code",
   "execution_count": null,
   "id": "37e36a9a-7e12-47a9-a3a9-fe3dc69ae8a3",
   "metadata": {},
   "outputs": [],
   "source": []
  },
  {
   "cell_type": "markdown",
   "id": "6d0b60c5-8fb0-4d8e-aeb3-58d1eb0b07c1",
   "metadata": {},
   "source": [
    "#### Estadísticos descriptivos (describe)"
   ]
  },
  {
   "cell_type": "code",
   "execution_count": null,
   "id": "de0b84fd-9fcc-45e0-acb7-917fc24e9967",
   "metadata": {},
   "outputs": [],
   "source": []
  },
  {
   "cell_type": "markdown",
   "id": "5fc84f50-dff4-49b3-a822-74c6b6cb099d",
   "metadata": {},
   "source": [
    "#### Análisis de lo visto hasta el momento"
   ]
  },
  {
   "cell_type": "code",
   "execution_count": null,
   "id": "f5aebb3e-3ed3-4006-8b74-2a63921d1f48",
   "metadata": {},
   "outputs": [],
   "source": [
    "1.  Completitud\n",
    "2. Conformidad/Validez (orden de fechas)\n",
    "3. Consistencia (entre otros datos)\n",
    "\n",
    "1. Precisión/ exactitud (un solo valor)\n",
    "2. Duplicidad/Unicidad\n",
    "3. Integridad"
   ]
  },
  {
   "cell_type": "markdown",
   "id": "4fb0d61a-dc65-456a-99b8-6121db7f62ab",
   "metadata": {},
   "source": [
    "### Análisis de calidad de los datos\n",
    "#### - Completitud:"
   ]
  },
  {
   "cell_type": "code",
   "execution_count": null,
   "id": "367b156b-b974-49a4-b9be-afa5c5c8eab7",
   "metadata": {},
   "outputs": [],
   "source": []
  },
  {
   "cell_type": "markdown",
   "id": "9abee500-388d-4865-a96f-684a67d0c087",
   "metadata": {},
   "source": [
    "#### - Consistencia:"
   ]
  },
  {
   "cell_type": "code",
   "execution_count": null,
   "id": "86a08f17-8d33-493b-9e7b-8bf0a1cd5301",
   "metadata": {},
   "outputs": [],
   "source": []
  },
  {
   "cell_type": "markdown",
   "id": "e9621e4b-e94b-4bdc-8895-748ab42d7510",
   "metadata": {},
   "source": [
    "#### - Conformidad/Validez:"
   ]
  },
  {
   "cell_type": "code",
   "execution_count": null,
   "id": "71c6cedc-af31-4618-9807-c79fb90b9d46",
   "metadata": {},
   "outputs": [],
   "source": []
  },
  {
   "cell_type": "markdown",
   "id": "e538d9c0-ffdb-4bb9-b7aa-09aa6700c3b5",
   "metadata": {},
   "source": [
    "#### - Precisión/Exactitud:"
   ]
  },
  {
   "cell_type": "code",
   "execution_count": null,
   "id": "928dfbeb-69ed-4237-be10-47b42fdab5aa",
   "metadata": {},
   "outputs": [],
   "source": []
  },
  {
   "cell_type": "markdown",
   "id": "43ee0db7-bd4e-408f-9d95-fe9d7e946f23",
   "metadata": {},
   "source": [
    "#### - Duplicidad/Unicidad:"
   ]
  },
  {
   "cell_type": "code",
   "execution_count": null,
   "id": "3988797a-9489-4d16-b3d3-f7d6af2a1201",
   "metadata": {},
   "outputs": [],
   "source": []
  },
  {
   "cell_type": "markdown",
   "id": "ce0e6592-db32-4583-a29b-83bbe0bfe250",
   "metadata": {},
   "source": [
    "#### - Integridad:"
   ]
  },
  {
   "cell_type": "code",
   "execution_count": null,
   "id": "69bcea3b-cb57-4d5e-91d3-0de1314d66c4",
   "metadata": {},
   "outputs": [],
   "source": []
  },
  {
   "cell_type": "markdown",
   "id": "bbb80b59-713b-4748-af14-94f2ac5a6d96",
   "metadata": {},
   "source": [
    "#### Resultado"
   ]
  },
  {
   "cell_type": "code",
   "execution_count": null,
   "id": "8b7aff4c-0b50-40f6-999e-6f30edaf6fc5",
   "metadata": {},
   "outputs": [],
   "source": []
  },
  {
   "cell_type": "markdown",
   "id": "e28f6198-aff2-4109-b48c-b60fc6e4df75",
   "metadata": {},
   "source": [
    "### Conclusiones"
   ]
  },
  {
   "cell_type": "code",
   "execution_count": null,
   "id": "ae64a223-7cf9-491f-827d-99ea1986691b",
   "metadata": {},
   "outputs": [],
   "source": []
  }
 ],
 "metadata": {
  "kernelspec": {
   "display_name": "Python 3 (ipykernel)",
   "language": "python",
   "name": "python3"
  },
  "language_info": {
   "codemirror_mode": {
    "name": "ipython",
    "version": 3
   },
   "file_extension": ".py",
   "mimetype": "text/x-python",
   "name": "python",
   "nbconvert_exporter": "python",
   "pygments_lexer": "ipython3",
   "version": "3.13.0"
  }
 },
 "nbformat": 4,
 "nbformat_minor": 5
}
