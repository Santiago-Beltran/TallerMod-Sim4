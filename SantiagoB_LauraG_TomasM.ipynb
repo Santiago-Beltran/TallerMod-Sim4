{
 "cells": [
  {
   "cell_type": "markdown",
   "id": "8a39dac4-eb3d-48da-8db5-fd5bde5d95ba",
   "metadata": {},
   "source": [
    "## Parte 1 Taller Modelación y Simulación 4\n",
    "\n",
    "### Integrantes:\n",
    "+ Santiago Beltrán\n",
    "+ Laura González \n",
    "+ Tomás Macías"
   ]
  },
  {
   "cell_type": "markdown",
   "id": "e6b12d18-16cc-4597-bc95-743025605985",
   "metadata": {},
   "source": [
    "### Entendimiento del negocio (CRISP-DM)\n",
    "Incluye: Explicación de la problemática, preguntas de negocio que se quieren responder, posibles riesgos, las limitaciones existentes y los criterios de éxito.  \n",
    "\n",
    "Usamos como guía \"https://pdf4pro.com/amp/download?data_id=73581e&slug=crisp-dm-1-the-modeling-agency-com\".\n",
    "\n",
    "Repositorio del dataset: \"https://archive.ics.uci.edu/dataset/890/aids+clinical+trials+group+study+175\"\n"
   ]
  },
  {
   "cell_type": "markdown",
   "id": "61730152-75fe-4c03-9ed3-52977ab2e995",
   "metadata": {},
   "source": [
    "En el entendimiento del negocio, según nuestra guía, se realizan las siguientes tareas: \n",
    "- Determinar los objetivos del negocio\n",
    "- Evaluar el panorama\n",
    "- Determinar las metas de la minería de datos\n",
    "- Producir un plan del proyecto\n",
    "\n"
   ]
  },
  {
   "cell_type": "markdown",
   "id": "866cc1e7-a1f5-4e3d-996c-28c541cf5b28",
   "metadata": {},
   "source": [
    "#### Evaluar el panorama\n",
    "El conjunto de datos que se nos proporciona lleva por nombre “Conjunto de datos del Estudio 175 del Grupo de Ensayos Clínicos sobre el SIDA”. Esta recopilación fue financiada por el Instituto Nacional de Alergias y Enfermedades Infecciosas, así como por las Unidades del Centro General de Investigación, respaldadas por el Centro Nacional de Recursos para la Investigación, ambos organismos de los Estados Unidos.\n",
    "\n",
    "Los datos representan historiales clínicos de pacientes mayores de 12 años, estadounidenses con SIDA. Los pacientes fueron seleccionados de manera aleatoria, exceptuando aquellos que poseían algunas de las condiciones siguientes: alergias al ddc, ddl o AZT; neuropatía periférica de grado 2 o mayor; pancreatitis aguda o crónica; terapia aguda para una infección o enfermedad en los últios 14 días; reciente abuso de alcohol. Para este estudio, se asignó a cada paciente un tratamiento al azar de AZT, AZT y ddl, AZT y ddc, o ddl; esto se realizó durante al menos dos años\n",
    "\n",
    "El SIDA es causado por el VIH (Virus de la Inmunodeficiencia Humana), este no tiene cura. El VIH fue identificado en 1983 (https://www.nobelprize.org/prizes/medicine/2008/barre-sinoussi/facts/), mientras que el dataset fue publicado, por primera vez, 13 años después (1996)."
   ]
  },
  {
   "cell_type": "markdown",
   "id": "556c4358-6621-4556-807c-e1bc4dd814fd",
   "metadata": {},
   "source": [
    "#### Determinar los objetivos del negocio\n",
    "Conociéndo la fuente de los datos, así como los organismos que financiaron este estudio, los objetivos del negocio serán los siguientes:\n",
    "- Describir la población afectada.\n",
    "- Determinar la eficacia y seguridad de distintos tratamientos, para encontrar el que mejor prevenga la progresión del VIH\n",
    "- Predecir qué pacientes morirán en cierto intervalo de tiempo.\n",
    "\n",
    "### Preguntas de negocio.\n",
    "- ¿Cómo se puede describir la población afectada por VIH y posteriormente SIDA?\n",
    "- ¿Cual es la eficacia de cada tratamiento suministrado, y cual provee una mejor prevención al progreso del VIH?\n",
    "- ¿Qué pacientes son propensos a morir en un intervalo de tiempo determinado?\n",
    "\n",
    "\n",
    "#### Éxito del negocio\n",
    "El éxito de negocio se da en el caso de que se pueda determinar y predecir correctamente la muerte de pacientes, y tomar la decisión correcta respecto a la seguridad y eficacia de los tratamientos usados en los pacientes que padecen de VIH o SIDA.\n",
    "\n",
    "#### Riesgos del negocio\n",
    "Existen algunos riesgos para llevar a cabo este negocio, estos son: mal uso de tratamiento de datos personales del paciente e información sensible (como la raza, orientación sexual, etc); que el tratamiento pueda causar algún efecto secundario a un paciente, de manera que afecte significativamente y de manera negativa al paciente; que el paciente decida retirarse del tratamiento por motivos personales, antes del tiempo determinado.\n",
    "\n",
    "### Limitaciones del negocio\n",
    "Una limitación posible del negocio es la confiabilidad de los datos por la época en los cuales fueron registrados. Es decir, posibles respuestas erróneamente diligenciadas al poder contener información sensible. Otra limitación es la restricción geográfica y demográfica, al ser todos los pacientes Americanos, lo que limita la variabilidad socioeconómica, étnica y geográfica. \n",
    "\n"
   ]
  },
  {
   "cell_type": "markdown",
   "id": "d5e51a39-f721-4f07-9dbf-189e9410bc27",
   "metadata": {},
   "source": [
    "#### Determinar las metas de la minería de datos\n",
    "El propósito del dataset, según su repositorio, fue recopilar información útil para determinar los rendimientos de tipos de tratamiento del VIH. Además, servir para entrenar modelos predictivos que puedan determinar si un paciente morirá cierto tiempo después \n",
    "\n",
    "Para esto se recolectaron 23 características, excluímos algunas de estas según las instrucciones del taller.\n",
    "\n"
   ]
  },
  {
   "cell_type": "markdown",
   "id": "8c3c71de-cfd6-4cc7-aae7-92d763bd1f08",
   "metadata": {},
   "source": [
    "#### Producir un plan del proyecto\n",
    "El plan inicial es el siguiente:\n",
    "1. Crear un repositorio en Github para sincronizar labores del equipo.\n",
    "2. Crear un diccionario de datos para entender con qué se trabaja.\n",
    "3. Una vez cargados los datos, realizar un análisis exploratorio con el objetivo de clasificar su calidad.\n",
    "4. Verificar si los datos son adecuados para los objetivos del negocio. En caso contrario, replantear estos últimos.\n",
    "5. Caracterizar la población incluída en el dataset, hacer esto visualmente. **(Primer objetivo)**\n",
    "6. Consultar los tratamientos presentes en el conjunto de datos a fin de entender qué significa esta variable.\n",
    "7. Describir numérica y visualmente la efectividad de los distintos tratamientos usados en la población estudiada. **(Segundo objetivo)**\n",
    "9. Desarrollar un modelo predictivo que permita determinar, en cierto intervalo de tiempo, qué pacientes morirán. **(Tercer objetivo)**\n",
    "   - Explorar distintos modelos predictivos y, según las capacidades técnicas y recursos disponibles, seleccionar el más adecuado para el proyecto.\n",
    " \n",
    "\n",
    "*Este plan debe considerarse un borrador inicial. Será ajustado conforme se evalúe la efectividad de la metodología aplicada.*"
   ]
  },
  {
   "cell_type": "markdown",
   "id": "7be1998b-a4dd-4f91-8c0f-7f19ff8ba4ad",
   "metadata": {},
   "source": [
    "### Carga de datos \n",
    "Excluímos, según las instrucciones, las variables: oprior, z30, zprior, preanti, str2, strat, offtrt, cd40, cd420, cd80, cd820."
   ]
  },
  {
   "cell_type": "code",
   "execution_count": 2,
   "id": "57828457-2ebe-4b32-ab06-1bfe8aae712d",
   "metadata": {},
   "outputs": [
    {
     "data": {
      "text/html": [
       "<div>\n",
       "<style scoped>\n",
       "    .dataframe tbody tr th:only-of-type {\n",
       "        vertical-align: middle;\n",
       "    }\n",
       "\n",
       "    .dataframe tbody tr th {\n",
       "        vertical-align: top;\n",
       "    }\n",
       "\n",
       "    .dataframe thead th {\n",
       "        text-align: right;\n",
       "    }\n",
       "</style>\n",
       "<table border=\"1\" class=\"dataframe\">\n",
       "  <thead>\n",
       "    <tr style=\"text-align: right;\">\n",
       "      <th></th>\n",
       "      <th>pidnum</th>\n",
       "      <th>cid</th>\n",
       "      <th>time</th>\n",
       "      <th>trt</th>\n",
       "      <th>age</th>\n",
       "      <th>wtkg</th>\n",
       "      <th>hemo</th>\n",
       "      <th>homo</th>\n",
       "      <th>drugs</th>\n",
       "      <th>karnof</th>\n",
       "      <th>race</th>\n",
       "      <th>gender</th>\n",
       "      <th>symptom</th>\n",
       "      <th>treat</th>\n",
       "    </tr>\n",
       "  </thead>\n",
       "  <tbody>\n",
       "    <tr>\n",
       "      <th>0</th>\n",
       "      <td>10056</td>\n",
       "      <td>0</td>\n",
       "      <td>948</td>\n",
       "      <td>2</td>\n",
       "      <td>48</td>\n",
       "      <td>89.8128</td>\n",
       "      <td>0</td>\n",
       "      <td>0</td>\n",
       "      <td>0</td>\n",
       "      <td>100</td>\n",
       "      <td>0</td>\n",
       "      <td>0</td>\n",
       "      <td>0</td>\n",
       "      <td>1</td>\n",
       "    </tr>\n",
       "    <tr>\n",
       "      <th>1</th>\n",
       "      <td>10059</td>\n",
       "      <td>1</td>\n",
       "      <td>1002</td>\n",
       "      <td>3</td>\n",
       "      <td>61</td>\n",
       "      <td>49.4424</td>\n",
       "      <td>0</td>\n",
       "      <td>0</td>\n",
       "      <td>0</td>\n",
       "      <td>90</td>\n",
       "      <td>0</td>\n",
       "      <td>0</td>\n",
       "      <td>0</td>\n",
       "      <td>1</td>\n",
       "    </tr>\n",
       "    <tr>\n",
       "      <th>2</th>\n",
       "      <td>10089</td>\n",
       "      <td>0</td>\n",
       "      <td>961</td>\n",
       "      <td>3</td>\n",
       "      <td>45</td>\n",
       "      <td>88.4520</td>\n",
       "      <td>0</td>\n",
       "      <td>1</td>\n",
       "      <td>1</td>\n",
       "      <td>90</td>\n",
       "      <td>0</td>\n",
       "      <td>1</td>\n",
       "      <td>0</td>\n",
       "      <td>1</td>\n",
       "    </tr>\n",
       "    <tr>\n",
       "      <th>3</th>\n",
       "      <td>10093</td>\n",
       "      <td>0</td>\n",
       "      <td>1166</td>\n",
       "      <td>3</td>\n",
       "      <td>47</td>\n",
       "      <td>85.2768</td>\n",
       "      <td>0</td>\n",
       "      <td>1</td>\n",
       "      <td>0</td>\n",
       "      <td>100</td>\n",
       "      <td>0</td>\n",
       "      <td>1</td>\n",
       "      <td>0</td>\n",
       "      <td>1</td>\n",
       "    </tr>\n",
       "    <tr>\n",
       "      <th>4</th>\n",
       "      <td>10124</td>\n",
       "      <td>0</td>\n",
       "      <td>1090</td>\n",
       "      <td>0</td>\n",
       "      <td>43</td>\n",
       "      <td>66.6792</td>\n",
       "      <td>0</td>\n",
       "      <td>1</td>\n",
       "      <td>0</td>\n",
       "      <td>100</td>\n",
       "      <td>0</td>\n",
       "      <td>1</td>\n",
       "      <td>0</td>\n",
       "      <td>0</td>\n",
       "    </tr>\n",
       "    <tr>\n",
       "      <th>...</th>\n",
       "      <td>...</td>\n",
       "      <td>...</td>\n",
       "      <td>...</td>\n",
       "      <td>...</td>\n",
       "      <td>...</td>\n",
       "      <td>...</td>\n",
       "      <td>...</td>\n",
       "      <td>...</td>\n",
       "      <td>...</td>\n",
       "      <td>...</td>\n",
       "      <td>...</td>\n",
       "      <td>...</td>\n",
       "      <td>...</td>\n",
       "      <td>...</td>\n",
       "    </tr>\n",
       "    <tr>\n",
       "      <th>2134</th>\n",
       "      <td>990021</td>\n",
       "      <td>0</td>\n",
       "      <td>1091</td>\n",
       "      <td>3</td>\n",
       "      <td>21</td>\n",
       "      <td>53.2980</td>\n",
       "      <td>1</td>\n",
       "      <td>0</td>\n",
       "      <td>0</td>\n",
       "      <td>100</td>\n",
       "      <td>0</td>\n",
       "      <td>1</td>\n",
       "      <td>0</td>\n",
       "      <td>1</td>\n",
       "    </tr>\n",
       "    <tr>\n",
       "      <th>2135</th>\n",
       "      <td>990026</td>\n",
       "      <td>0</td>\n",
       "      <td>395</td>\n",
       "      <td>0</td>\n",
       "      <td>17</td>\n",
       "      <td>102.9672</td>\n",
       "      <td>1</td>\n",
       "      <td>0</td>\n",
       "      <td>0</td>\n",
       "      <td>100</td>\n",
       "      <td>1</td>\n",
       "      <td>1</td>\n",
       "      <td>0</td>\n",
       "      <td>0</td>\n",
       "    </tr>\n",
       "    <tr>\n",
       "      <th>2136</th>\n",
       "      <td>990030</td>\n",
       "      <td>0</td>\n",
       "      <td>1104</td>\n",
       "      <td>2</td>\n",
       "      <td>53</td>\n",
       "      <td>69.8544</td>\n",
       "      <td>1</td>\n",
       "      <td>1</td>\n",
       "      <td>0</td>\n",
       "      <td>90</td>\n",
       "      <td>1</td>\n",
       "      <td>1</td>\n",
       "      <td>0</td>\n",
       "      <td>1</td>\n",
       "    </tr>\n",
       "    <tr>\n",
       "      <th>2137</th>\n",
       "      <td>990071</td>\n",
       "      <td>1</td>\n",
       "      <td>465</td>\n",
       "      <td>0</td>\n",
       "      <td>14</td>\n",
       "      <td>60.0000</td>\n",
       "      <td>1</td>\n",
       "      <td>0</td>\n",
       "      <td>0</td>\n",
       "      <td>100</td>\n",
       "      <td>0</td>\n",
       "      <td>1</td>\n",
       "      <td>0</td>\n",
       "      <td>0</td>\n",
       "    </tr>\n",
       "    <tr>\n",
       "      <th>2138</th>\n",
       "      <td>990077</td>\n",
       "      <td>0</td>\n",
       "      <td>1045</td>\n",
       "      <td>3</td>\n",
       "      <td>45</td>\n",
       "      <td>77.3000</td>\n",
       "      <td>1</td>\n",
       "      <td>0</td>\n",
       "      <td>0</td>\n",
       "      <td>100</td>\n",
       "      <td>0</td>\n",
       "      <td>1</td>\n",
       "      <td>0</td>\n",
       "      <td>1</td>\n",
       "    </tr>\n",
       "  </tbody>\n",
       "</table>\n",
       "<p>2139 rows × 14 columns</p>\n",
       "</div>"
      ],
      "text/plain": [
       "      pidnum  cid  time  trt  age      wtkg  hemo  homo  drugs  karnof  race  \\\n",
       "0      10056    0   948    2   48   89.8128     0     0      0     100     0   \n",
       "1      10059    1  1002    3   61   49.4424     0     0      0      90     0   \n",
       "2      10089    0   961    3   45   88.4520     0     1      1      90     0   \n",
       "3      10093    0  1166    3   47   85.2768     0     1      0     100     0   \n",
       "4      10124    0  1090    0   43   66.6792     0     1      0     100     0   \n",
       "...      ...  ...   ...  ...  ...       ...   ...   ...    ...     ...   ...   \n",
       "2134  990021    0  1091    3   21   53.2980     1     0      0     100     0   \n",
       "2135  990026    0   395    0   17  102.9672     1     0      0     100     1   \n",
       "2136  990030    0  1104    2   53   69.8544     1     1      0      90     1   \n",
       "2137  990071    1   465    0   14   60.0000     1     0      0     100     0   \n",
       "2138  990077    0  1045    3   45   77.3000     1     0      0     100     0   \n",
       "\n",
       "      gender  symptom  treat  \n",
       "0          0        0      1  \n",
       "1          0        0      1  \n",
       "2          1        0      1  \n",
       "3          1        0      1  \n",
       "4          1        0      0  \n",
       "...      ...      ...    ...  \n",
       "2134       1        0      1  \n",
       "2135       1        0      0  \n",
       "2136       1        0      1  \n",
       "2137       1        0      0  \n",
       "2138       1        0      1  \n",
       "\n",
       "[2139 rows x 14 columns]"
      ]
     },
     "execution_count": 2,
     "metadata": {},
     "output_type": "execute_result"
    }
   ],
   "source": [
    "import pandas as pd\n",
    "urlcsv = \"http://archive.ics.uci.edu/static/public/890/data.csv\"\n",
    "dfs = pd.read_csv(urlcsv)\n",
    "no_data = [\"oprior\", \"z30\", \"zprior\", \"preanti\", \"str2\", \"strat\", \"offtrt\", \"cd40\", \"cd420\", \"cd80\", \"cd820\"]\n",
    "df = dfs.drop(no_data, axis=1)\n",
    "df"
   ]
  },
  {
   "cell_type": "markdown",
   "id": "ca6bae35-a350-48f8-82a9-f9343e92274e",
   "metadata": {},
   "source": [
    "### Diccionario de datos\n",
    "Descripción de la tabla, volumetría, descripción y tipo de cada columna, etc\n",
    "\n",
    "\"DiccionarioDeDatos.xlsx\""
   ]
  },
  {
   "cell_type": "markdown",
   "id": "70be53ce-4341-4219-8e2e-78ef4e80f9f7",
   "metadata": {},
   "source": [
    "### Un primer análisis\n",
    "#### Vistazo a los datos (head)"
   ]
  },
  {
   "cell_type": "code",
   "execution_count": 2,
   "id": "37e36a9a-7e12-47a9-a3a9-fe3dc69ae8a3",
   "metadata": {},
   "outputs": [
    {
     "data": {
      "text/html": [
       "<div>\n",
       "<style scoped>\n",
       "    .dataframe tbody tr th:only-of-type {\n",
       "        vertical-align: middle;\n",
       "    }\n",
       "\n",
       "    .dataframe tbody tr th {\n",
       "        vertical-align: top;\n",
       "    }\n",
       "\n",
       "    .dataframe thead th {\n",
       "        text-align: right;\n",
       "    }\n",
       "</style>\n",
       "<table border=\"1\" class=\"dataframe\">\n",
       "  <thead>\n",
       "    <tr style=\"text-align: right;\">\n",
       "      <th></th>\n",
       "      <th>pidnum</th>\n",
       "      <th>cid</th>\n",
       "      <th>time</th>\n",
       "      <th>trt</th>\n",
       "      <th>age</th>\n",
       "      <th>wtkg</th>\n",
       "      <th>hemo</th>\n",
       "      <th>homo</th>\n",
       "      <th>drugs</th>\n",
       "      <th>karnof</th>\n",
       "      <th>race</th>\n",
       "      <th>gender</th>\n",
       "      <th>symptom</th>\n",
       "      <th>treat</th>\n",
       "    </tr>\n",
       "  </thead>\n",
       "  <tbody>\n",
       "    <tr>\n",
       "      <th>0</th>\n",
       "      <td>10056</td>\n",
       "      <td>0</td>\n",
       "      <td>948</td>\n",
       "      <td>2</td>\n",
       "      <td>48</td>\n",
       "      <td>89.8128</td>\n",
       "      <td>0</td>\n",
       "      <td>0</td>\n",
       "      <td>0</td>\n",
       "      <td>100</td>\n",
       "      <td>0</td>\n",
       "      <td>0</td>\n",
       "      <td>0</td>\n",
       "      <td>1</td>\n",
       "    </tr>\n",
       "    <tr>\n",
       "      <th>1</th>\n",
       "      <td>10059</td>\n",
       "      <td>1</td>\n",
       "      <td>1002</td>\n",
       "      <td>3</td>\n",
       "      <td>61</td>\n",
       "      <td>49.4424</td>\n",
       "      <td>0</td>\n",
       "      <td>0</td>\n",
       "      <td>0</td>\n",
       "      <td>90</td>\n",
       "      <td>0</td>\n",
       "      <td>0</td>\n",
       "      <td>0</td>\n",
       "      <td>1</td>\n",
       "    </tr>\n",
       "    <tr>\n",
       "      <th>2</th>\n",
       "      <td>10089</td>\n",
       "      <td>0</td>\n",
       "      <td>961</td>\n",
       "      <td>3</td>\n",
       "      <td>45</td>\n",
       "      <td>88.4520</td>\n",
       "      <td>0</td>\n",
       "      <td>1</td>\n",
       "      <td>1</td>\n",
       "      <td>90</td>\n",
       "      <td>0</td>\n",
       "      <td>1</td>\n",
       "      <td>0</td>\n",
       "      <td>1</td>\n",
       "    </tr>\n",
       "    <tr>\n",
       "      <th>3</th>\n",
       "      <td>10093</td>\n",
       "      <td>0</td>\n",
       "      <td>1166</td>\n",
       "      <td>3</td>\n",
       "      <td>47</td>\n",
       "      <td>85.2768</td>\n",
       "      <td>0</td>\n",
       "      <td>1</td>\n",
       "      <td>0</td>\n",
       "      <td>100</td>\n",
       "      <td>0</td>\n",
       "      <td>1</td>\n",
       "      <td>0</td>\n",
       "      <td>1</td>\n",
       "    </tr>\n",
       "    <tr>\n",
       "      <th>4</th>\n",
       "      <td>10124</td>\n",
       "      <td>0</td>\n",
       "      <td>1090</td>\n",
       "      <td>0</td>\n",
       "      <td>43</td>\n",
       "      <td>66.6792</td>\n",
       "      <td>0</td>\n",
       "      <td>1</td>\n",
       "      <td>0</td>\n",
       "      <td>100</td>\n",
       "      <td>0</td>\n",
       "      <td>1</td>\n",
       "      <td>0</td>\n",
       "      <td>0</td>\n",
       "    </tr>\n",
       "  </tbody>\n",
       "</table>\n",
       "</div>"
      ],
      "text/plain": [
       "   pidnum  cid  time  trt  age     wtkg  hemo  homo  drugs  karnof  race  \\\n",
       "0   10056    0   948    2   48  89.8128     0     0      0     100     0   \n",
       "1   10059    1  1002    3   61  49.4424     0     0      0      90     0   \n",
       "2   10089    0   961    3   45  88.4520     0     1      1      90     0   \n",
       "3   10093    0  1166    3   47  85.2768     0     1      0     100     0   \n",
       "4   10124    0  1090    0   43  66.6792     0     1      0     100     0   \n",
       "\n",
       "   gender  symptom  treat  \n",
       "0       0        0      1  \n",
       "1       0        0      1  \n",
       "2       1        0      1  \n",
       "3       1        0      1  \n",
       "4       1        0      0  "
      ]
     },
     "execution_count": 2,
     "metadata": {},
     "output_type": "execute_result"
    }
   ],
   "source": [
    "df.head()"
   ]
  },
  {
   "cell_type": "code",
   "execution_count": 3,
   "id": "de0b84fd-9fcc-45e0-acb7-917fc24e9967",
   "metadata": {},
   "outputs": [
    {
     "data": {
      "text/html": [
       "<div>\n",
       "<style scoped>\n",
       "    .dataframe tbody tr th:only-of-type {\n",
       "        vertical-align: middle;\n",
       "    }\n",
       "\n",
       "    .dataframe tbody tr th {\n",
       "        vertical-align: top;\n",
       "    }\n",
       "\n",
       "    .dataframe thead th {\n",
       "        text-align: right;\n",
       "    }\n",
       "</style>\n",
       "<table border=\"1\" class=\"dataframe\">\n",
       "  <thead>\n",
       "    <tr style=\"text-align: right;\">\n",
       "      <th></th>\n",
       "      <th>pidnum</th>\n",
       "      <th>cid</th>\n",
       "      <th>time</th>\n",
       "      <th>trt</th>\n",
       "      <th>age</th>\n",
       "      <th>wtkg</th>\n",
       "      <th>hemo</th>\n",
       "      <th>homo</th>\n",
       "      <th>drugs</th>\n",
       "      <th>karnof</th>\n",
       "      <th>race</th>\n",
       "      <th>gender</th>\n",
       "      <th>symptom</th>\n",
       "      <th>treat</th>\n",
       "    </tr>\n",
       "  </thead>\n",
       "  <tbody>\n",
       "    <tr>\n",
       "      <th>count</th>\n",
       "      <td>2139.00</td>\n",
       "      <td>2139.00</td>\n",
       "      <td>2139.00</td>\n",
       "      <td>2139.00</td>\n",
       "      <td>2139.00</td>\n",
       "      <td>2139.00</td>\n",
       "      <td>2139.00</td>\n",
       "      <td>2139.00</td>\n",
       "      <td>2139.00</td>\n",
       "      <td>2139.00</td>\n",
       "      <td>2139.00</td>\n",
       "      <td>2139.00</td>\n",
       "      <td>2139.00</td>\n",
       "      <td>2139.00</td>\n",
       "    </tr>\n",
       "    <tr>\n",
       "      <th>mean</th>\n",
       "      <td>248778.25</td>\n",
       "      <td>0.24</td>\n",
       "      <td>879.10</td>\n",
       "      <td>1.52</td>\n",
       "      <td>35.25</td>\n",
       "      <td>75.13</td>\n",
       "      <td>0.08</td>\n",
       "      <td>0.66</td>\n",
       "      <td>0.13</td>\n",
       "      <td>95.45</td>\n",
       "      <td>0.29</td>\n",
       "      <td>0.83</td>\n",
       "      <td>0.17</td>\n",
       "      <td>0.75</td>\n",
       "    </tr>\n",
       "    <tr>\n",
       "      <th>std</th>\n",
       "      <td>234237.29</td>\n",
       "      <td>0.43</td>\n",
       "      <td>292.27</td>\n",
       "      <td>1.13</td>\n",
       "      <td>8.71</td>\n",
       "      <td>13.26</td>\n",
       "      <td>0.28</td>\n",
       "      <td>0.47</td>\n",
       "      <td>0.34</td>\n",
       "      <td>5.90</td>\n",
       "      <td>0.45</td>\n",
       "      <td>0.38</td>\n",
       "      <td>0.38</td>\n",
       "      <td>0.43</td>\n",
       "    </tr>\n",
       "    <tr>\n",
       "      <th>min</th>\n",
       "      <td>10056.00</td>\n",
       "      <td>0.00</td>\n",
       "      <td>14.00</td>\n",
       "      <td>0.00</td>\n",
       "      <td>12.00</td>\n",
       "      <td>31.00</td>\n",
       "      <td>0.00</td>\n",
       "      <td>0.00</td>\n",
       "      <td>0.00</td>\n",
       "      <td>70.00</td>\n",
       "      <td>0.00</td>\n",
       "      <td>0.00</td>\n",
       "      <td>0.00</td>\n",
       "      <td>0.00</td>\n",
       "    </tr>\n",
       "    <tr>\n",
       "      <th>25%</th>\n",
       "      <td>81446.50</td>\n",
       "      <td>0.00</td>\n",
       "      <td>727.00</td>\n",
       "      <td>1.00</td>\n",
       "      <td>29.00</td>\n",
       "      <td>66.68</td>\n",
       "      <td>0.00</td>\n",
       "      <td>0.00</td>\n",
       "      <td>0.00</td>\n",
       "      <td>90.00</td>\n",
       "      <td>0.00</td>\n",
       "      <td>1.00</td>\n",
       "      <td>0.00</td>\n",
       "      <td>1.00</td>\n",
       "    </tr>\n",
       "    <tr>\n",
       "      <th>50%</th>\n",
       "      <td>190566.00</td>\n",
       "      <td>0.00</td>\n",
       "      <td>997.00</td>\n",
       "      <td>2.00</td>\n",
       "      <td>34.00</td>\n",
       "      <td>74.39</td>\n",
       "      <td>0.00</td>\n",
       "      <td>1.00</td>\n",
       "      <td>0.00</td>\n",
       "      <td>100.00</td>\n",
       "      <td>0.00</td>\n",
       "      <td>1.00</td>\n",
       "      <td>0.00</td>\n",
       "      <td>1.00</td>\n",
       "    </tr>\n",
       "    <tr>\n",
       "      <th>75%</th>\n",
       "      <td>280277.00</td>\n",
       "      <td>0.00</td>\n",
       "      <td>1091.00</td>\n",
       "      <td>3.00</td>\n",
       "      <td>40.00</td>\n",
       "      <td>82.56</td>\n",
       "      <td>0.00</td>\n",
       "      <td>1.00</td>\n",
       "      <td>0.00</td>\n",
       "      <td>100.00</td>\n",
       "      <td>1.00</td>\n",
       "      <td>1.00</td>\n",
       "      <td>0.00</td>\n",
       "      <td>1.00</td>\n",
       "    </tr>\n",
       "    <tr>\n",
       "      <th>max</th>\n",
       "      <td>990077.00</td>\n",
       "      <td>1.00</td>\n",
       "      <td>1231.00</td>\n",
       "      <td>3.00</td>\n",
       "      <td>70.00</td>\n",
       "      <td>159.94</td>\n",
       "      <td>1.00</td>\n",
       "      <td>1.00</td>\n",
       "      <td>1.00</td>\n",
       "      <td>100.00</td>\n",
       "      <td>1.00</td>\n",
       "      <td>1.00</td>\n",
       "      <td>1.00</td>\n",
       "      <td>1.00</td>\n",
       "    </tr>\n",
       "  </tbody>\n",
       "</table>\n",
       "</div>"
      ],
      "text/plain": [
       "          pidnum      cid     time      trt      age     wtkg     hemo  \\\n",
       "count    2139.00  2139.00  2139.00  2139.00  2139.00  2139.00  2139.00   \n",
       "mean   248778.25     0.24   879.10     1.52    35.25    75.13     0.08   \n",
       "std    234237.29     0.43   292.27     1.13     8.71    13.26     0.28   \n",
       "min     10056.00     0.00    14.00     0.00    12.00    31.00     0.00   \n",
       "25%     81446.50     0.00   727.00     1.00    29.00    66.68     0.00   \n",
       "50%    190566.00     0.00   997.00     2.00    34.00    74.39     0.00   \n",
       "75%    280277.00     0.00  1091.00     3.00    40.00    82.56     0.00   \n",
       "max    990077.00     1.00  1231.00     3.00    70.00   159.94     1.00   \n",
       "\n",
       "          homo    drugs   karnof     race   gender  symptom    treat  \n",
       "count  2139.00  2139.00  2139.00  2139.00  2139.00  2139.00  2139.00  \n",
       "mean      0.66     0.13    95.45     0.29     0.83     0.17     0.75  \n",
       "std       0.47     0.34     5.90     0.45     0.38     0.38     0.43  \n",
       "min       0.00     0.00    70.00     0.00     0.00     0.00     0.00  \n",
       "25%       0.00     0.00    90.00     0.00     1.00     0.00     1.00  \n",
       "50%       1.00     0.00   100.00     0.00     1.00     0.00     1.00  \n",
       "75%       1.00     0.00   100.00     1.00     1.00     0.00     1.00  \n",
       "max       1.00     1.00   100.00     1.00     1.00     1.00     1.00  "
      ]
     },
     "execution_count": 3,
     "metadata": {},
     "output_type": "execute_result"
    }
   ],
   "source": [
    "df.describe().round(2)"
   ]
  },
  {
   "cell_type": "markdown",
   "id": "6d0b60c5-8fb0-4d8e-aeb3-58d1eb0b07c1",
   "metadata": {},
   "source": [
    "#### Estadísticos descriptivos (describe)"
   ]
  },
  {
   "cell_type": "markdown",
   "id": "5fc84f50-dff4-49b3-a822-74c6b6cb099d",
   "metadata": {},
   "source": [
    "#### Análisis de lo visto hasta el momento\n",
    "\n"
   ]
  },
  {
   "cell_type": "markdown",
   "id": "1ae7b00a-3ead-4723-8f20-91ce88fe155b",
   "metadata": {},
   "source": [
    "**Hay 2139 registros**, a continuación un análisis variable a variable excluyendo el id del paciente.\n",
    "\n",
    "- Time (Tiempo hasta fallecimiento o pérdida de registro del paciente): Se supone sobre esta variable que es tiempo en días, pues no se encontró información al respecto. En promedio pasan $879$ días hasta que el paciente fallece o se pierde registro del mismo, hay una desviación estandar significativa que representa aproximadamente un tercio del promedio. Notablemente, el primer cuartil (25%) se haya $997 - 727 = 270$ unidades a la izquierda de la media (50%), esta último se haya a $1091 - 997 = 94$ unidades a la izquierda del tercer cuartil (75%), esto sugiere una distribución con asimetría negativa. A esta misma conclusión llegamos comparando mediana y media.\n",
    "\n",
    "- Trt (Tipo de tratamiento): Al ser un categórico no resultan muy útiles los estadísticos descriptivos del promedio, desviación estándar, entre otros. Podemos asegurar que se usaron todos los tratamientos pues todos aparecen.\n",
    "\n",
    "- Age (edad): El promedio de la edad de la población estudiada es de 35.25 años. Sin embargo, los pacientes van desde los 12 hasta los 70 años. La mediana es de 34 años, lo cual, junto al promedio, puede indicar una distribución con asimetría positiva lo que denota en este caso que la población tiende a ser menor al promedio.\n",
    "\n",
    "- Wtkg (peso en kg): En promedio, los pacientes pesan 75.13 kg. El rango de pesos es, al igual que de edades, bastante amplio. Concretamente el rango de pesos es de $159.94 - 31 = 128.94$ kg. La diferencia entre la media y la mediana es de $75.13 - 74.39 = 0.74 \\approx 0$. Esto sugiere una distribución centradada.\n",
    "\n",
    "- Hemo (condición hemofilia): A partir de los estadísticos descriptivos vemos que esta condición es algo rara, pues al menos el 75% no la tienen. Vemos que está en el dataset pues en la tabla el máximo es 1.\n",
    "\n",
    "- Homo (ser homosexual [binario]): El promedio de 2139 filas de esta variable binaria (con valores 0 y 1) es de $0.66$. A partir de esto podemos saber que el 66% de los pacientes con SIDA son homosexuales, esto contrasta con la proporción entre personas sanas (en nuestra experiencia), por tanto es posible que la población homosexual esté más expuesta al SIDA.\n",
    "\n",
    "- Drugs (antecedentes con drogas intravenosas): Haciendo similar análisis a la variable Homo, se estima que un 13% de la población tiene un historial de uso de drogas. \n",
    "\n",
    "- Karnof (escala Karnofsky): Los estadísticos descriptivos muestran que, en general, los pacientes tienen síntomas leves (promedio 95.45 con desviación estandar de sólo 5). El mínimo en la escala registrado es de 70 lo cuál es, según esta, equivalente a ser capaz de cuidarse por si mismo pero no de hacer alguna activdad o trabajo normal.\n",
    "\n",
    "- Race (blanco o no blanco): Igual análisis a las demás variables binarias, el 29% de los pacientes son blancos. Esto contrasta con la distribución racial en EEUU, nos preguntamos si existe algún sesgo en la toma de datos, tal vez algún hospital en una zona con esta proporción de habitantes accedió a dar sus registros o puede ser que las personas no blancas estén más expuestas a desarrollar SIDA o a contagiarse de VIH.\n",
    "\n",
    "- Gender (género hombre / mujer): EL promedio es de 0.83, como 1 representa \"Hombre\" para esta variable binaria, el 83% de los pacientes son hombres. Esto, junto con la prevalencia de personas homosexuales en la muestra, parece indicar ya sea un sesgo a elegir hombres homosexuales, o una predisposición de estos a contagiarse.\n",
    "\n",
    "- Symptom (síntomas clínicos al inicio): El promedio es de 0.17, 1 representa \"Sintomático\" para la variable binaria. Entonces, el 17% de los pacientes presentaba síntomas clínicos al inicio. Que tantos pacientes sean asintomáticos resulta interesante pues significa que sospechaban haber sido contagiados. \n",
    "\n",
    "- Treat (binario si se usa ZDV sólo o no): El promedio es de 0.75, es decir, el 75% de los pacientes son tratados utilizando solamente ZDV.\n",
    "\n",
    "- Cid (indicador de censura binario): El promedio es de 0.24, es decir, el 24% de los pacientes del estudio fallecieron. "
   ]
  },
  {
   "cell_type": "markdown",
   "id": "4fb0d61a-dc65-456a-99b8-6121db7f62ab",
   "metadata": {},
   "source": [
    "### Análisis de calidad de los datos"
   ]
  },
  {
   "cell_type": "markdown",
   "id": "9155b49d-1994-4d31-ad37-69cecf6d7ff0",
   "metadata": {},
   "source": [
    "#### ¿ Qué dimensiones de calidad de datos se van a analizar?\n",
    "\n",
    "1. Completitud:\n",
    "La dimensión de completitud consiste en el porcentaje de datos llenos en comparación a el total de datos.\n",
    " \n",
    "2. Conformidad / Validez:\n",
    "Significa que los datos deben ser representados con un formato constante, adheriendose a un tipo de dato específico.\n",
    " \n",
    "3. Consistencia:\n",
    "Los datos son congruentes entre sí, todas las relaciones existentes entre las variables son ciertas y pueden representar situaciones del mundo real, se identifican relaciones anómalas.\n",
    "\n",
    "4. Precisión/ Exactitud:\n",
    "El dato por si solo es coherente, lógico y verdadero. Se usa para saber la diferencia entre los datos almacenados con los reales.\n",
    "\n",
    "5. Duplicidad / Unicidad:\n",
    "Se refiere a la ocurrencia única de un objeto al ser grabado en el dataset.\n",
    "\n",
    "6. Integridad:\n",
    "Es el grado en el que las varias fuentes de datos están sincronizadas, y que los cambios que hay en una fuente se refleje en otra."
   ]
  },
  {
   "cell_type": "markdown",
   "id": "28c49ae9-2bb3-4146-9d7b-120281f4a6b2",
   "metadata": {},
   "source": [
    "#### - Completitud:"
   ]
  },
  {
   "cell_type": "code",
   "execution_count": 4,
   "id": "367b156b-b974-49a4-b9be-afa5c5c8eab7",
   "metadata": {},
   "outputs": [
    {
     "data": {
      "text/plain": [
       "pidnum     0\n",
       "cid        0\n",
       "time       0\n",
       "trt        0\n",
       "age        0\n",
       "wtkg       0\n",
       "hemo       0\n",
       "homo       0\n",
       "drugs      0\n",
       "karnof     0\n",
       "race       0\n",
       "gender     0\n",
       "symptom    0\n",
       "treat      0\n",
       "dtype: int64"
      ]
     },
     "execution_count": 4,
     "metadata": {},
     "output_type": "execute_result"
    }
   ],
   "source": [
    "#Para revisar datos incompletos, sumar nulos.\n",
    "df.isna().sum()"
   ]
  },
  {
   "cell_type": "markdown",
   "id": "5cc09301-b5b2-4548-a9d7-19cfa92c4ac2",
   "metadata": {},
   "source": [
    "Se ve que todas las columnas tienen 0 datos nulos."
   ]
  },
  {
   "cell_type": "markdown",
   "id": "9abee500-388d-4865-a96f-684a67d0c087",
   "metadata": {},
   "source": [
    "#### - Conformidad/Validez:"
   ]
  },
  {
   "cell_type": "markdown",
   "id": "2e7d4c02-0491-4f71-a2ef-5c5ed29df472",
   "metadata": {},
   "source": [
    "Para analizar la validez revisaremos que todas las variables realmente son del tipo que dicen ser."
   ]
  },
  {
   "cell_type": "markdown",
   "id": "e69ff2a7-f0ed-4ea8-89ab-4b07195535dc",
   "metadata": {},
   "source": [
    "**Sólo hay hombres y mujeres**\n"
   ]
  },
  {
   "cell_type": "code",
   "execution_count": 5,
   "id": "2efdd86d-b713-4870-a681-5ba4fa9e9925",
   "metadata": {},
   "outputs": [
    {
     "data": {
      "text/html": [
       "<div>\n",
       "<style scoped>\n",
       "    .dataframe tbody tr th:only-of-type {\n",
       "        vertical-align: middle;\n",
       "    }\n",
       "\n",
       "    .dataframe tbody tr th {\n",
       "        vertical-align: top;\n",
       "    }\n",
       "\n",
       "    .dataframe thead th {\n",
       "        text-align: right;\n",
       "    }\n",
       "</style>\n",
       "<table border=\"1\" class=\"dataframe\">\n",
       "  <thead>\n",
       "    <tr style=\"text-align: right;\">\n",
       "      <th></th>\n",
       "      <th>pidnum</th>\n",
       "      <th>cid</th>\n",
       "      <th>time</th>\n",
       "      <th>trt</th>\n",
       "      <th>age</th>\n",
       "      <th>wtkg</th>\n",
       "      <th>hemo</th>\n",
       "      <th>homo</th>\n",
       "      <th>drugs</th>\n",
       "      <th>karnof</th>\n",
       "      <th>race</th>\n",
       "      <th>gender</th>\n",
       "      <th>symptom</th>\n",
       "      <th>treat</th>\n",
       "    </tr>\n",
       "  </thead>\n",
       "  <tbody>\n",
       "  </tbody>\n",
       "</table>\n",
       "</div>"
      ],
      "text/plain": [
       "Empty DataFrame\n",
       "Columns: [pidnum, cid, time, trt, age, wtkg, hemo, homo, drugs, karnof, race, gender, symptom, treat]\n",
       "Index: []"
      ]
     },
     "execution_count": 5,
     "metadata": {},
     "output_type": "execute_result"
    }
   ],
   "source": [
    "df[(df[\"time\"]<=0 )| (df[\"wtkg\"]<= 0)]"
   ]
  },
  {
   "cell_type": "markdown",
   "id": "ba0ee9f5-0fb2-438d-9327-66e308144834",
   "metadata": {},
   "source": [
    "**No hay tiempo ni peso negativo**"
   ]
  },
  {
   "cell_type": "code",
   "execution_count": 6,
   "id": "21bd916e-9a14-4510-8aba-04c716e90fe9",
   "metadata": {},
   "outputs": [
    {
     "data": {
      "text/plain": [
       "trt\n",
       "0    532\n",
       "1    522\n",
       "2    524\n",
       "3    561\n",
       "Name: count, dtype: int64"
      ]
     },
     "execution_count": 6,
     "metadata": {},
     "output_type": "execute_result"
    }
   ],
   "source": [
    "# Según el repositorio, hay 4 tratamientos posibles [0, 1, 2, 3] esto se confirma aquí.\n",
    "df[\"trt\"].value_counts().sort_index()"
   ]
  },
  {
   "cell_type": "markdown",
   "id": "40a27ce0-4234-490e-8c28-c9a06260977f",
   "metadata": {},
   "source": [
    "**Verificación de variables binarias**"
   ]
  },
  {
   "cell_type": "code",
   "execution_count": 7,
   "id": "1dccfc0d-0b20-4e10-bfa2-f9daf088b01b",
   "metadata": {},
   "outputs": [
    {
     "data": {
      "text/plain": [
       "homo\n",
       "1    1414\n",
       "0     725\n",
       "Name: count, dtype: int64"
      ]
     },
     "execution_count": 7,
     "metadata": {},
     "output_type": "execute_result"
    }
   ],
   "source": [
    "df[\"homo\"].value_counts()"
   ]
  },
  {
   "cell_type": "code",
   "execution_count": 8,
   "id": "f53e4f61-49ee-4a6f-b100-def8c5ca5fdf",
   "metadata": {},
   "outputs": [
    {
     "data": {
      "text/plain": [
       "gender\n",
       "1    1771\n",
       "0     368\n",
       "Name: count, dtype: int64"
      ]
     },
     "execution_count": 8,
     "metadata": {},
     "output_type": "execute_result"
    }
   ],
   "source": [
    "df[\"gender\"].value_counts()"
   ]
  },
  {
   "cell_type": "code",
   "execution_count": 9,
   "id": "4dc53cdc-812a-48bf-a9b1-eba0f0004fee",
   "metadata": {},
   "outputs": [
    {
     "data": {
      "text/plain": [
       "cid\n",
       "0    1618\n",
       "1     521\n",
       "Name: count, dtype: int64"
      ]
     },
     "execution_count": 9,
     "metadata": {},
     "output_type": "execute_result"
    }
   ],
   "source": [
    "df[\"cid\"].value_counts()"
   ]
  },
  {
   "cell_type": "code",
   "execution_count": 10,
   "id": "07bde331-7fbc-48e6-b1ed-556013204cd5",
   "metadata": {},
   "outputs": [
    {
     "data": {
      "text/plain": [
       "hemo\n",
       "0    1959\n",
       "1     180\n",
       "Name: count, dtype: int64"
      ]
     },
     "execution_count": 10,
     "metadata": {},
     "output_type": "execute_result"
    }
   ],
   "source": [
    "df[\"hemo\"].value_counts()"
   ]
  },
  {
   "cell_type": "code",
   "execution_count": 11,
   "id": "0f202725-e9d0-4e8f-b075-f4f2d757f529",
   "metadata": {},
   "outputs": [
    {
     "data": {
      "text/plain": [
       "race\n",
       "0    1522\n",
       "1     617\n",
       "Name: count, dtype: int64"
      ]
     },
     "execution_count": 11,
     "metadata": {},
     "output_type": "execute_result"
    }
   ],
   "source": [
    "df[\"race\"].value_counts()"
   ]
  },
  {
   "cell_type": "code",
   "execution_count": 12,
   "id": "d3ede32f-c35f-4e6f-9f19-d643198234c1",
   "metadata": {},
   "outputs": [
    {
     "data": {
      "text/plain": [
       "symptom\n",
       "0    1769\n",
       "1     370\n",
       "Name: count, dtype: int64"
      ]
     },
     "execution_count": 12,
     "metadata": {},
     "output_type": "execute_result"
    }
   ],
   "source": [
    "df[\"symptom\"].value_counts()"
   ]
  },
  {
   "cell_type": "code",
   "execution_count": 13,
   "id": "a02696ea-3dba-4bf3-ae29-45cdf99e4650",
   "metadata": {},
   "outputs": [
    {
     "data": {
      "text/plain": [
       "treat\n",
       "1    1607\n",
       "0     532\n",
       "Name: count, dtype: int64"
      ]
     },
     "execution_count": 13,
     "metadata": {},
     "output_type": "execute_result"
    }
   ],
   "source": [
    "df[\"treat\"].value_counts()"
   ]
  },
  {
   "cell_type": "code",
   "execution_count": 14,
   "id": "9108f874-166b-42c2-9f4a-8cb372e3bd3b",
   "metadata": {},
   "outputs": [
    {
     "data": {
      "text/plain": [
       "drugs\n",
       "0    1858\n",
       "1     281\n",
       "Name: count, dtype: int64"
      ]
     },
     "execution_count": 14,
     "metadata": {},
     "output_type": "execute_result"
    }
   ],
   "source": [
    "df[\"drugs\"].value_counts()"
   ]
  },
  {
   "cell_type": "code",
   "execution_count": 15,
   "id": "14613295-587b-432c-a0bc-df3d6e5d9d7a",
   "metadata": {},
   "outputs": [
    {
     "data": {
      "text/html": [
       "<div>\n",
       "<style scoped>\n",
       "    .dataframe tbody tr th:only-of-type {\n",
       "        vertical-align: middle;\n",
       "    }\n",
       "\n",
       "    .dataframe tbody tr th {\n",
       "        vertical-align: top;\n",
       "    }\n",
       "\n",
       "    .dataframe thead th {\n",
       "        text-align: right;\n",
       "    }\n",
       "</style>\n",
       "<table border=\"1\" class=\"dataframe\">\n",
       "  <thead>\n",
       "    <tr style=\"text-align: right;\">\n",
       "      <th></th>\n",
       "      <th>pidnum</th>\n",
       "      <th>cid</th>\n",
       "      <th>time</th>\n",
       "      <th>trt</th>\n",
       "      <th>age</th>\n",
       "      <th>wtkg</th>\n",
       "      <th>hemo</th>\n",
       "      <th>homo</th>\n",
       "      <th>drugs</th>\n",
       "      <th>karnof</th>\n",
       "      <th>race</th>\n",
       "      <th>gender</th>\n",
       "      <th>symptom</th>\n",
       "      <th>treat</th>\n",
       "    </tr>\n",
       "  </thead>\n",
       "  <tbody>\n",
       "  </tbody>\n",
       "</table>\n",
       "</div>"
      ],
      "text/plain": [
       "Empty DataFrame\n",
       "Columns: [pidnum, cid, time, trt, age, wtkg, hemo, homo, drugs, karnof, race, gender, symptom, treat]\n",
       "Index: []"
      ]
     },
     "execution_count": 15,
     "metadata": {},
     "output_type": "execute_result"
    }
   ],
   "source": [
    "# Los valores de la Escala Karnofsky se definen en el intervalo [0, 100].\n",
    "# No hay ningún dato fuera de este rango, es consistente.\n",
    "df[(df[\"karnof\"] < 0) | (df[\"karnof\"] > 100)]"
   ]
  },
  {
   "cell_type": "code",
   "execution_count": 16,
   "id": "b8d75800-71c7-4f93-b76f-161effc559f1",
   "metadata": {},
   "outputs": [
    {
     "data": {
      "text/plain": [
       "age\n",
       "12    3\n",
       "13    3\n",
       "14    6\n",
       "15    3\n",
       "16    7\n",
       "17    4\n",
       "18    7\n",
       "19    7\n",
       "61    2\n",
       "62    5\n",
       "63    6\n",
       "64    2\n",
       "65    3\n",
       "66    1\n",
       "67    2\n",
       "68    2\n",
       "69    1\n",
       "70    2\n",
       "Name: count, dtype: int64"
      ]
     },
     "execution_count": 16,
     "metadata": {},
     "output_type": "execute_result"
    }
   ],
   "source": [
    "# Se confirma el rango de edades visualmente\n",
    "\n",
    "df[(df[\"age\"] < 20) | (df['age'] > 60)]['age'].value_counts().sort_index()"
   ]
  },
  {
   "cell_type": "markdown",
   "id": "b25746c5-9405-497d-a2ac-ba6aca19ef43",
   "metadata": {},
   "source": [
    "El resto de las variables enteras y binarias cuentan con valores que no se salen de lo que son."
   ]
  },
  {
   "cell_type": "markdown",
   "id": "e9621e4b-e94b-4bdc-8895-748ab42d7510",
   "metadata": {},
   "source": [
    "#### - Consistencia:\n"
   ]
  },
  {
   "cell_type": "code",
   "execution_count": 17,
   "id": "71c6cedc-af31-4618-9807-c79fb90b9d46",
   "metadata": {},
   "outputs": [
    {
     "data": {
      "text/html": [
       "<div>\n",
       "<style scoped>\n",
       "    .dataframe tbody tr th:only-of-type {\n",
       "        vertical-align: middle;\n",
       "    }\n",
       "\n",
       "    .dataframe tbody tr th {\n",
       "        vertical-align: top;\n",
       "    }\n",
       "\n",
       "    .dataframe thead th {\n",
       "        text-align: right;\n",
       "    }\n",
       "</style>\n",
       "<table border=\"1\" class=\"dataframe\">\n",
       "  <thead>\n",
       "    <tr style=\"text-align: right;\">\n",
       "      <th></th>\n",
       "      <th>mean</th>\n",
       "      <th>std</th>\n",
       "      <th>min</th>\n",
       "      <th>max</th>\n",
       "    </tr>\n",
       "  </thead>\n",
       "  <tbody>\n",
       "    <tr>\n",
       "      <th>wtkg</th>\n",
       "      <td>75.125311</td>\n",
       "      <td>13.263164</td>\n",
       "      <td>31.0</td>\n",
       "      <td>159.93936</td>\n",
       "    </tr>\n",
       "    <tr>\n",
       "      <th>age</th>\n",
       "      <td>35.248247</td>\n",
       "      <td>8.709026</td>\n",
       "      <td>12.0</td>\n",
       "      <td>70.00000</td>\n",
       "    </tr>\n",
       "    <tr>\n",
       "      <th>karnof</th>\n",
       "      <td>95.446470</td>\n",
       "      <td>5.900985</td>\n",
       "      <td>70.0</td>\n",
       "      <td>100.00000</td>\n",
       "    </tr>\n",
       "  </tbody>\n",
       "</table>\n",
       "</div>"
      ],
      "text/plain": [
       "             mean        std   min        max\n",
       "wtkg    75.125311  13.263164  31.0  159.93936\n",
       "age     35.248247   8.709026  12.0   70.00000\n",
       "karnof  95.446470   5.900985  70.0  100.00000"
      ]
     },
     "execution_count": 17,
     "metadata": {},
     "output_type": "execute_result"
    }
   ],
   "source": [
    "df[[\"wtkg\", \"age\", \"karnof\"]].describe().T[[\"mean\",\"std\",\"min\",\"max\"]]"
   ]
  },
  {
   "cell_type": "markdown",
   "id": "7873ba20-2c92-40ac-a778-1896e53b8b10",
   "metadata": {},
   "source": [
    "Note que el peso tiene una variación enorme, hay individuos de 31 kilos y otros de 160. Esto puede representar anomalías. A continuación valores que pueden estimar valores extremos de obesidad y desnutrición"
   ]
  },
  {
   "cell_type": "code",
   "execution_count": 18,
   "id": "6df7b791-1a91-4e68-8441-9755dd177098",
   "metadata": {},
   "outputs": [
    {
     "name": "stdout",
     "output_type": "stream",
     "text": [
      "12\n",
      "1\n"
     ]
    }
   ],
   "source": [
    "print(df[df[\"wtkg\"] > 120].shape[0])\n",
    "print(df[ (df[\"wtkg\"] < 40) & (df[\"age\"]>15)].shape[0])"
   ]
  },
  {
   "cell_type": "code",
   "execution_count": 5,
   "id": "aa321ebd-b8dd-4ef1-bcf4-6bd214ef186a",
   "metadata": {},
   "outputs": [
    {
     "data": {
      "text/html": [
       "<div>\n",
       "<style scoped>\n",
       "    .dataframe tbody tr th:only-of-type {\n",
       "        vertical-align: middle;\n",
       "    }\n",
       "\n",
       "    .dataframe tbody tr th {\n",
       "        vertical-align: top;\n",
       "    }\n",
       "\n",
       "    .dataframe thead th {\n",
       "        text-align: right;\n",
       "    }\n",
       "</style>\n",
       "<table border=\"1\" class=\"dataframe\">\n",
       "  <thead>\n",
       "    <tr style=\"text-align: right;\">\n",
       "      <th></th>\n",
       "      <th>pidnum</th>\n",
       "      <th>age</th>\n",
       "      <th>wtkg</th>\n",
       "    </tr>\n",
       "  </thead>\n",
       "  <tbody>\n",
       "    <tr>\n",
       "      <th>304</th>\n",
       "      <td>50629</td>\n",
       "      <td>46</td>\n",
       "      <td>123.37920</td>\n",
       "    </tr>\n",
       "    <tr>\n",
       "      <th>629</th>\n",
       "      <td>110717</td>\n",
       "      <td>36</td>\n",
       "      <td>120.65760</td>\n",
       "    </tr>\n",
       "    <tr>\n",
       "      <th>945</th>\n",
       "      <td>170972</td>\n",
       "      <td>38</td>\n",
       "      <td>130.63680</td>\n",
       "    </tr>\n",
       "    <tr>\n",
       "      <th>1060</th>\n",
       "      <td>190408</td>\n",
       "      <td>39</td>\n",
       "      <td>127.70000</td>\n",
       "    </tr>\n",
       "    <tr>\n",
       "      <th>1084</th>\n",
       "      <td>210039</td>\n",
       "      <td>30</td>\n",
       "      <td>149.00000</td>\n",
       "    </tr>\n",
       "    <tr>\n",
       "      <th>1177</th>\n",
       "      <td>220432</td>\n",
       "      <td>30</td>\n",
       "      <td>129.00000</td>\n",
       "    </tr>\n",
       "    <tr>\n",
       "      <th>1441</th>\n",
       "      <td>251059</td>\n",
       "      <td>45</td>\n",
       "      <td>127.00800</td>\n",
       "    </tr>\n",
       "    <tr>\n",
       "      <th>1569</th>\n",
       "      <td>270883</td>\n",
       "      <td>28</td>\n",
       "      <td>125.64720</td>\n",
       "    </tr>\n",
       "    <tr>\n",
       "      <th>1622</th>\n",
       "      <td>300517</td>\n",
       "      <td>31</td>\n",
       "      <td>122.47200</td>\n",
       "    </tr>\n",
       "    <tr>\n",
       "      <th>1707</th>\n",
       "      <td>320357</td>\n",
       "      <td>28</td>\n",
       "      <td>159.93936</td>\n",
       "    </tr>\n",
       "    <tr>\n",
       "      <th>1773</th>\n",
       "      <td>330242</td>\n",
       "      <td>30</td>\n",
       "      <td>135.17280</td>\n",
       "    </tr>\n",
       "    <tr>\n",
       "      <th>1837</th>\n",
       "      <td>520014</td>\n",
       "      <td>33</td>\n",
       "      <td>120.65760</td>\n",
       "    </tr>\n",
       "  </tbody>\n",
       "</table>\n",
       "</div>"
      ],
      "text/plain": [
       "      pidnum  age       wtkg\n",
       "304    50629   46  123.37920\n",
       "629   110717   36  120.65760\n",
       "945   170972   38  130.63680\n",
       "1060  190408   39  127.70000\n",
       "1084  210039   30  149.00000\n",
       "1177  220432   30  129.00000\n",
       "1441  251059   45  127.00800\n",
       "1569  270883   28  125.64720\n",
       "1622  300517   31  122.47200\n",
       "1707  320357   28  159.93936\n",
       "1773  330242   30  135.17280\n",
       "1837  520014   33  120.65760"
      ]
     },
     "execution_count": 5,
     "metadata": {},
     "output_type": "execute_result"
    }
   ],
   "source": [
    "# Revisemos estos registros\n",
    "\n",
    "df[df[\"wtkg\"] > 120][[\"pidnum\", \"age\", \"wtkg\"]]\n",
    "\n",
    "# Se ve razonable."
   ]
  },
  {
   "cell_type": "code",
   "execution_count": 8,
   "id": "96167761-bc74-4e37-853b-64ce2a61ce80",
   "metadata": {},
   "outputs": [
    {
     "data": {
      "text/html": [
       "<div>\n",
       "<style scoped>\n",
       "    .dataframe tbody tr th:only-of-type {\n",
       "        vertical-align: middle;\n",
       "    }\n",
       "\n",
       "    .dataframe tbody tr th {\n",
       "        vertical-align: top;\n",
       "    }\n",
       "\n",
       "    .dataframe thead th {\n",
       "        text-align: right;\n",
       "    }\n",
       "</style>\n",
       "<table border=\"1\" class=\"dataframe\">\n",
       "  <thead>\n",
       "    <tr style=\"text-align: right;\">\n",
       "      <th></th>\n",
       "      <th>pidnum</th>\n",
       "      <th>cid</th>\n",
       "      <th>time</th>\n",
       "      <th>trt</th>\n",
       "      <th>age</th>\n",
       "      <th>wtkg</th>\n",
       "      <th>hemo</th>\n",
       "      <th>homo</th>\n",
       "      <th>drugs</th>\n",
       "      <th>karnof</th>\n",
       "      <th>race</th>\n",
       "      <th>gender</th>\n",
       "      <th>symptom</th>\n",
       "      <th>treat</th>\n",
       "    </tr>\n",
       "  </thead>\n",
       "  <tbody>\n",
       "    <tr>\n",
       "      <th>1931</th>\n",
       "      <td>610043</td>\n",
       "      <td>0</td>\n",
       "      <td>225</td>\n",
       "      <td>2</td>\n",
       "      <td>30</td>\n",
       "      <td>36.78696</td>\n",
       "      <td>0</td>\n",
       "      <td>1</td>\n",
       "      <td>0</td>\n",
       "      <td>90</td>\n",
       "      <td>0</td>\n",
       "      <td>1</td>\n",
       "      <td>0</td>\n",
       "      <td>1</td>\n",
       "    </tr>\n",
       "  </tbody>\n",
       "</table>\n",
       "</div>"
      ],
      "text/plain": [
       "      pidnum  cid  time  trt  age      wtkg  hemo  homo  drugs  karnof  race  \\\n",
       "1931  610043    0   225    2   30  36.78696     0     1      0      90     0   \n",
       "\n",
       "      gender  symptom  treat  \n",
       "1931       1        0      1  "
      ]
     },
     "execution_count": 8,
     "metadata": {},
     "output_type": "execute_result"
    }
   ],
   "source": [
    "df[(df[\"wtkg\"] < 40) & (df[\"age\"]>15)]\n",
    "\n",
    "# Esta persona tiene 30 años y pesa 36.78 kg con un karnof de 90. Se ve sospechoso."
   ]
  },
  {
   "cell_type": "code",
   "execution_count": 19,
   "id": "9c56d325-43b7-4192-ac48-9c30a1922c35",
   "metadata": {},
   "outputs": [
    {
     "data": {
      "text/html": [
       "<div>\n",
       "<style scoped>\n",
       "    .dataframe tbody tr th:only-of-type {\n",
       "        vertical-align: middle;\n",
       "    }\n",
       "\n",
       "    .dataframe tbody tr th {\n",
       "        vertical-align: top;\n",
       "    }\n",
       "\n",
       "    .dataframe thead th {\n",
       "        text-align: right;\n",
       "    }\n",
       "</style>\n",
       "<table border=\"1\" class=\"dataframe\">\n",
       "  <thead>\n",
       "    <tr style=\"text-align: right;\">\n",
       "      <th></th>\n",
       "      <th>pidnum</th>\n",
       "      <th>cid</th>\n",
       "      <th>time</th>\n",
       "      <th>trt</th>\n",
       "      <th>age</th>\n",
       "      <th>wtkg</th>\n",
       "      <th>hemo</th>\n",
       "      <th>homo</th>\n",
       "      <th>drugs</th>\n",
       "      <th>karnof</th>\n",
       "      <th>race</th>\n",
       "      <th>gender</th>\n",
       "      <th>symptom</th>\n",
       "      <th>treat</th>\n",
       "    </tr>\n",
       "  </thead>\n",
       "  <tbody>\n",
       "    <tr>\n",
       "      <th>1931</th>\n",
       "      <td>610043</td>\n",
       "      <td>0</td>\n",
       "      <td>225</td>\n",
       "      <td>2</td>\n",
       "      <td>30</td>\n",
       "      <td>36.78696</td>\n",
       "      <td>0</td>\n",
       "      <td>1</td>\n",
       "      <td>0</td>\n",
       "      <td>90</td>\n",
       "      <td>0</td>\n",
       "      <td>1</td>\n",
       "      <td>0</td>\n",
       "      <td>1</td>\n",
       "    </tr>\n",
       "    <tr>\n",
       "      <th>2014</th>\n",
       "      <td>910034</td>\n",
       "      <td>0</td>\n",
       "      <td>1121</td>\n",
       "      <td>2</td>\n",
       "      <td>13</td>\n",
       "      <td>32.65920</td>\n",
       "      <td>1</td>\n",
       "      <td>0</td>\n",
       "      <td>0</td>\n",
       "      <td>100</td>\n",
       "      <td>0</td>\n",
       "      <td>1</td>\n",
       "      <td>1</td>\n",
       "      <td>1</td>\n",
       "    </tr>\n",
       "    <tr>\n",
       "      <th>2072</th>\n",
       "      <td>950056</td>\n",
       "      <td>1</td>\n",
       "      <td>324</td>\n",
       "      <td>1</td>\n",
       "      <td>12</td>\n",
       "      <td>31.00000</td>\n",
       "      <td>1</td>\n",
       "      <td>0</td>\n",
       "      <td>0</td>\n",
       "      <td>100</td>\n",
       "      <td>0</td>\n",
       "      <td>1</td>\n",
       "      <td>0</td>\n",
       "      <td>1</td>\n",
       "    </tr>\n",
       "  </tbody>\n",
       "</table>\n",
       "</div>"
      ],
      "text/plain": [
       "      pidnum  cid  time  trt  age      wtkg  hemo  homo  drugs  karnof  race  \\\n",
       "1931  610043    0   225    2   30  36.78696     0     1      0      90     0   \n",
       "2014  910034    0  1121    2   13  32.65920     1     0      0     100     0   \n",
       "2072  950056    1   324    1   12  31.00000     1     0      0     100     0   \n",
       "\n",
       "      gender  symptom  treat  \n",
       "1931       1        0      1  \n",
       "2014       1        1      1  \n",
       "2072       1        0      1  "
      ]
     },
     "execution_count": 19,
     "metadata": {},
     "output_type": "execute_result"
    }
   ],
   "source": [
    "df[(df[\"wtkg\"] < 40)]"
   ]
  },
  {
   "cell_type": "code",
   "execution_count": 27,
   "id": "dadd9947-63af-481f-8ca1-7fe12c0d919f",
   "metadata": {},
   "outputs": [
    {
     "name": "stdout",
     "output_type": "stream",
     "text": [
      "532\n",
      "532\n"
     ]
    }
   ],
   "source": [
    "# La variable treat se puede obtener de trt, entonces, cuando trt sea 0 treat debe ser 0. \n",
    "# Vemos que no hay instancias donde esto no se cumpla. La variable treat es lo que dice ser.\n",
    "\n",
    "print(df[(df[\"trt\"] == 0) & (df[\"treat\"] == 0)].shape[0])\n",
    "print(df[df[\"treat\"] == 0].shape[0])"
   ]
  },
  {
   "cell_type": "code",
   "execution_count": null,
   "id": "8c42e0ef-ed6b-4f7d-b96f-7beb70b97669",
   "metadata": {},
   "outputs": [],
   "source": []
  },
  {
   "cell_type": "code",
   "execution_count": 20,
   "id": "af277066-51d3-43e8-a174-0c87ee3ac125",
   "metadata": {},
   "outputs": [
    {
     "name": "stdout",
     "output_type": "stream",
     "text": [
      "             age    karnof\n",
      "age     1.000000 -0.084544\n",
      "karnof -0.084544  1.000000\n"
     ]
    },
    {
     "data": {
      "image/png": "[encoded data removed]",
      "text/plain": [
       "<Figure size 640x480 with 1 Axes>"
      ]
     },
     "metadata": {},
     "output_type": "display_data"
    }
   ],
   "source": [
    "import matplotlib.pyplot as plt\n",
    "print(df[['age', 'karnof']].corr(method='spearman'))\n",
    "plt.scatter(df['age'], df['karnof'])\n",
    "plt.xlabel('Edad')\n",
    "plt.ylabel('Índice Karnofsky')\n",
    "plt.show()\n"
   ]
  },
  {
   "cell_type": "markdown",
   "id": "aa361bb4-6b51-4363-bb91-a345e46210e5",
   "metadata": {},
   "source": [
    "Hay una correlacion negativa entre edad y karnofsky, el cual es esperado al debilitarse el sistema inmune y reducirse la funcionalidad física de los pacientes."
   ]
  },
  {
   "cell_type": "code",
   "execution_count": 21,
   "id": "c359b73c-420a-46a5-921a-f7720e17fb96",
   "metadata": {},
   "outputs": [
    {
     "name": "stdout",
     "output_type": "stream",
     "text": [
      "            wtkg    karnof\n",
      "wtkg    1.000000  0.040878\n",
      "karnof  0.040878  1.000000\n"
     ]
    },
    {
     "data": {
      "image/png": "[encoded data removed]",
      "text/plain": [
       "<Figure size 640x480 with 1 Axes>"
      ]
     },
     "metadata": {},
     "output_type": "display_data"
    }
   ],
   "source": [
    "print(df[['wtkg', 'karnof']].corr(method='spearman'))\n",
    "plt.scatter(df['wtkg'], df['karnof'])\n",
    "plt.xlabel('Peso')\n",
    "plt.ylabel('Índice Karnofsky')\n",
    "plt.show()"
   ]
  },
  {
   "cell_type": "markdown",
   "id": "3bbabf6a-15cb-41d4-bc76-bfc1f39fbdfc",
   "metadata": {},
   "source": [
    "La correlación entre peso y karnofsky puede variar, al tener menor puntaje en pesos extremos, pero valores altos en pesos saludables"
   ]
  },
  {
   "cell_type": "code",
   "execution_count": 24,
   "id": "fc1773b3-4d83-482c-abee-d03fdc339379",
   "metadata": {},
   "outputs": [
    {
     "data": {
      "image/png": "[encoded data removed]",
      "text/plain": [
       "<Figure size 500x500 with 2 Axes>"
      ]
     },
     "metadata": {},
     "output_type": "display_data"
    }
   ],
   "source": [
    "import seaborn as sns\n",
    "import matplotlib.pyplot as plt\n",
    "\n",
    "vars_numericas = [\"time\", \"age\", \"wtkg\", \"karnof\"]\n",
    "corr = df[vars_numericas].corr(method=\"pearson\")\n",
    "\n",
    "plt.figure(figsize=(5, 5))\n",
    "sns.heatmap(corr, annot=True, fmt=\".2f\", cmap=\"BuPu\")\n",
    "plt.title(\"Matriz de correlación entre variables continuas\")\n",
    "plt.show()\n"
   ]
  },
  {
   "cell_type": "code",
   "execution_count": 25,
   "id": "0d69b4a5-352a-4c22-98c4-7458cf94c445",
   "metadata": {},
   "outputs": [
    {
     "data": {
      "image/png": "[encoded data removed]",
      "text/plain": [
       "<Figure size 800x600 with 1 Axes>"
      ]
     },
     "metadata": {},
     "output_type": "display_data"
    },
    {
     "data": {
      "text/html": [
       "<div>\n",
       "<style scoped>\n",
       "    .dataframe tbody tr th:only-of-type {\n",
       "        vertical-align: middle;\n",
       "    }\n",
       "\n",
       "    .dataframe tbody tr th {\n",
       "        vertical-align: top;\n",
       "    }\n",
       "\n",
       "    .dataframe thead th {\n",
       "        text-align: right;\n",
       "    }\n",
       "</style>\n",
       "<table border=\"1\" class=\"dataframe\">\n",
       "  <thead>\n",
       "    <tr style=\"text-align: right;\">\n",
       "      <th></th>\n",
       "      <th>age</th>\n",
       "      <th>wtkg</th>\n",
       "    </tr>\n",
       "  </thead>\n",
       "  <tbody>\n",
       "    <tr>\n",
       "      <th>1</th>\n",
       "      <td>61</td>\n",
       "      <td>49.4424</td>\n",
       "    </tr>\n",
       "    <tr>\n",
       "      <th>49</th>\n",
       "      <td>67</td>\n",
       "      <td>71.0000</td>\n",
       "    </tr>\n",
       "    <tr>\n",
       "      <th>104</th>\n",
       "      <td>70</td>\n",
       "      <td>73.9368</td>\n",
       "    </tr>\n",
       "    <tr>\n",
       "      <th>271</th>\n",
       "      <td>68</td>\n",
       "      <td>90.5000</td>\n",
       "    </tr>\n",
       "    <tr>\n",
       "      <th>518</th>\n",
       "      <td>68</td>\n",
       "      <td>70.7616</td>\n",
       "    </tr>\n",
       "  </tbody>\n",
       "</table>\n",
       "</div>"
      ],
      "text/plain": [
       "     age     wtkg\n",
       "1     61  49.4424\n",
       "49    67  71.0000\n",
       "104   70  73.9368\n",
       "271   68  90.5000\n",
       "518   68  70.7616"
      ]
     },
     "execution_count": 25,
     "metadata": {},
     "output_type": "execute_result"
    }
   ],
   "source": [
    "import pandas as pd\n",
    "import numpy as np\n",
    "from scipy.stats import chi2\n",
    "import matplotlib.pyplot as plt\n",
    "\n",
    "# Cargar los datos nuevamente\n",
    "file_path = \"http://archive.ics.uci.edu/static/public/890/data.csv\"\n",
    "df = pd.read_csv(file_path)\n",
    "\n",
    "# Seleccionar variables relevantes\n",
    "data = df[['age', 'wtkg']].dropna()\n",
    "\n",
    "# Calcular media y matriz de covarianza\n",
    "mean_vec = np.mean(data, axis=0)\n",
    "cov_matrix = np.cov(data, rowvar=False)\n",
    "inv_cov_matrix = np.linalg.inv(cov_matrix)\n",
    "\n",
    "# Función para distancia de Mahalanobis\n",
    "def mahalanobis_distance(x, mean_vec, inv_cov_matrix):\n",
    "    x_minus_mu = x - mean_vec\n",
    "    return np.sqrt(x_minus_mu @ inv_cov_matrix @ x_minus_mu.T)\n",
    "\n",
    "# Calcular distancias\n",
    "distances = data.apply(lambda row: mahalanobis_distance(row, mean_vec, inv_cov_matrix), axis=1)\n",
    "\n",
    "# Umbral para p < 0.001\n",
    "threshold = np.sqrt(chi2.ppf(0.999, df=data.shape[1]))\n",
    "outliers = distances > threshold\n",
    "outlier_points = data[outliers]\n",
    "\n",
    "# Gráfico\n",
    "plt.figure(figsize=(8, 6))\n",
    "plt.scatter(data['age'], data['wtkg'], c='blue', label='Datos normales')\n",
    "plt.scatter(outlier_points['age'], outlier_points['wtkg'], c='red', label='Outliers')\n",
    "plt.xlabel('Edad')\n",
    "plt.ylabel('Peso (kg)')\n",
    "plt.title('Outliers (Distancia de Mahalanobis)')\n",
    "plt.legend()\n",
    "plt.grid(True)\n",
    "plt.show()\n",
    "\n",
    "outlier_points.head()"
   ]
  },
  {
   "cell_type": "markdown",
   "id": "e538d9c0-ffdb-4bb9-b7aa-09aa6700c3b5",
   "metadata": {},
   "source": [
    "#### - Precisión/Exactitud:"
   ]
  },
  {
   "cell_type": "markdown",
   "id": "744fe8d0-df9b-4466-8fe7-7a85c6b1b095",
   "metadata": {},
   "source": [
    "Para la precisión se analizará si las variables están en rangos normales, especificamente para el peso y la edad. \n"
   ]
  },
  {
   "cell_type": "code",
   "execution_count": 28,
   "id": "928dfbeb-69ed-4237-be10-47b42fdab5aa",
   "metadata": {},
   "outputs": [
    {
     "data": {
      "text/html": [
       "<div>\n",
       "<style scoped>\n",
       "    .dataframe tbody tr th:only-of-type {\n",
       "        vertical-align: middle;\n",
       "    }\n",
       "\n",
       "    .dataframe tbody tr th {\n",
       "        vertical-align: top;\n",
       "    }\n",
       "\n",
       "    .dataframe thead th {\n",
       "        text-align: right;\n",
       "    }\n",
       "</style>\n",
       "<table border=\"1\" class=\"dataframe\">\n",
       "  <thead>\n",
       "    <tr style=\"text-align: right;\">\n",
       "      <th></th>\n",
       "      <th>pidnum</th>\n",
       "      <th>cid</th>\n",
       "      <th>time</th>\n",
       "      <th>trt</th>\n",
       "      <th>age</th>\n",
       "      <th>wtkg</th>\n",
       "      <th>hemo</th>\n",
       "      <th>homo</th>\n",
       "      <th>drugs</th>\n",
       "      <th>karnof</th>\n",
       "      <th>race</th>\n",
       "      <th>gender</th>\n",
       "      <th>symptom</th>\n",
       "      <th>treat</th>\n",
       "    </tr>\n",
       "  </thead>\n",
       "  <tbody>\n",
       "  </tbody>\n",
       "</table>\n",
       "</div>"
      ],
      "text/plain": [
       "Empty DataFrame\n",
       "Columns: [pidnum, cid, time, trt, age, wtkg, hemo, homo, drugs, karnof, race, gender, symptom, treat]\n",
       "Index: []"
      ]
     },
     "execution_count": 28,
     "metadata": {},
     "output_type": "execute_result"
    }
   ],
   "source": [
    "df[(df[\"wtkg\"] > 200 ) | (df[\"wtkg\"] < 20)]"
   ]
  },
  {
   "cell_type": "code",
   "execution_count": 30,
   "id": "a7b72955-794d-4381-bbdb-cd5ff9de2a7f",
   "metadata": {},
   "outputs": [
    {
     "data": {
      "text/html": [
       "<div>\n",
       "<style scoped>\n",
       "    .dataframe tbody tr th:only-of-type {\n",
       "        vertical-align: middle;\n",
       "    }\n",
       "\n",
       "    .dataframe tbody tr th {\n",
       "        vertical-align: top;\n",
       "    }\n",
       "\n",
       "    .dataframe thead th {\n",
       "        text-align: right;\n",
       "    }\n",
       "</style>\n",
       "<table border=\"1\" class=\"dataframe\">\n",
       "  <thead>\n",
       "    <tr style=\"text-align: right;\">\n",
       "      <th></th>\n",
       "      <th>pidnum</th>\n",
       "      <th>cid</th>\n",
       "      <th>time</th>\n",
       "      <th>trt</th>\n",
       "      <th>age</th>\n",
       "      <th>wtkg</th>\n",
       "      <th>hemo</th>\n",
       "      <th>homo</th>\n",
       "      <th>drugs</th>\n",
       "      <th>karnof</th>\n",
       "      <th>race</th>\n",
       "      <th>gender</th>\n",
       "      <th>symptom</th>\n",
       "      <th>treat</th>\n",
       "    </tr>\n",
       "  </thead>\n",
       "  <tbody>\n",
       "  </tbody>\n",
       "</table>\n",
       "</div>"
      ],
      "text/plain": [
       "Empty DataFrame\n",
       "Columns: [pidnum, cid, time, trt, age, wtkg, hemo, homo, drugs, karnof, race, gender, symptom, treat]\n",
       "Index: []"
      ]
     },
     "execution_count": 30,
     "metadata": {},
     "output_type": "execute_result"
    }
   ],
   "source": [
    "df[(df[\"age\"] > 100) | (df[\"age\"]<0)]"
   ]
  },
  {
   "cell_type": "markdown",
   "id": "43ee0db7-bd4e-408f-9d95-fe9d7e946f23",
   "metadata": {},
   "source": [
    "#### - Duplicidad/Unicidad:"
   ]
  },
  {
   "cell_type": "code",
   "execution_count": 22,
   "id": "3988797a-9489-4d16-b3d3-f7d6af2a1201",
   "metadata": {},
   "outputs": [
    {
     "data": {
      "text/plain": [
       "np.int64(0)"
      ]
     },
     "execution_count": 22,
     "metadata": {},
     "output_type": "execute_result"
    }
   ],
   "source": [
    "df.duplicated().sum()"
   ]
  },
  {
   "cell_type": "markdown",
   "id": "5245b75d-6475-4648-8ab4-7668f294f749",
   "metadata": {},
   "source": [
    "No existen registros repetidos"
   ]
  },
  {
   "cell_type": "code",
   "execution_count": 23,
   "id": "50411417-c9e9-4b51-b041-9004f3110f6c",
   "metadata": {},
   "outputs": [
    {
     "data": {
      "text/plain": [
       "True"
      ]
     },
     "execution_count": 23,
     "metadata": {},
     "output_type": "execute_result"
    }
   ],
   "source": [
    "# Cada paciente tiene un id único.\n",
    "df['pidnum'].is_unique"
   ]
  },
  {
   "cell_type": "markdown",
   "id": "ce0e6592-db32-4583-a29b-83bbe0bfe250",
   "metadata": {},
   "source": [
    "#### - Integridad:"
   ]
  },
  {
   "cell_type": "markdown",
   "id": "2f320cfb-9e6f-4cfa-9bc5-1625d9668c81",
   "metadata": {},
   "source": [
    "Todos los datos provienen de una misma fuente, al sólo haber una fuente de datos es evidente que debe estar sincronizada consigo misma. Es decir, los datos cumplen con la dimensión de calidad \"integridad\". "
   ]
  }
 ],
 "metadata": {
  "kernelspec": {
   "display_name": "Python [conda env:base] *",
   "language": "python",
   "name": "conda-base-py"
  },
  "language_info": {
   "codemirror_mode": {
    "name": "ipython",
    "version": 3
   },
   "file_extension": ".py",
   "mimetype": "text/x-python",
   "name": "python",
   "nbconvert_exporter": "python",
   "pygments_lexer": "ipython3",
   "version": "3.13.5"
  }
 },
 "nbformat": 4,
 "nbformat_minor": 5
}
