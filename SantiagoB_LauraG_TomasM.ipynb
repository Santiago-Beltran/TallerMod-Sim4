{
 "cells": [
  {
   "cell_type": "markdown",
   "id": "8a39dac4-eb3d-48da-8db5-fd5bde5d95ba",
   "metadata": {},
   "source": [
    "## Parte 1 Taller Modelación y Simulación 4\n",
    "\n",
    "### Integrantes:\n",
    "+ Santiago Beltrán\n",
    "+ Laura González \n",
    "+ Tomás Macías"
   ]
  },
  {
   "cell_type": "markdown",
   "id": "e6b12d18-16cc-4597-bc95-743025605985",
   "metadata": {},
   "source": [
    "### Entendimiento del negocio (CRISP-DM)\n",
    "Incluye: Explicación de la problemática, preguntas de negocio que se quieren responder, posibles riesgos, las limitaciones existentes y los criterios de éxito.  \n",
    "\n",
    "Usamos como guía \"https://pdf4pro.com/amp/download?data_id=73581e&slug=crisp-dm-1-the-modeling-agency-com\".\n",
    "\n",
    "Repositorio del dataset: \"https://archive.ics.uci.edu/dataset/890/aids+clinical+trials+group+study+175\"\n"
   ]
  },
  {
   "cell_type": "markdown",
   "id": "61730152-75fe-4c03-9ed3-52977ab2e995",
   "metadata": {},
   "source": [
    "En el entendimiento del negocio, según nuestra guía, se realizan las siguientes tareas: \n",
    "- Determinar los objetivos del negocio\n",
    "- Evaluar el panorama\n",
    "- Determinar las metas de la minería de datos\n",
    "- Producir un plan del proyecto\n",
    "\n"
   ]
  },
  {
   "cell_type": "markdown",
   "id": "866cc1e7-a1f5-4e3d-996c-28c541cf5b28",
   "metadata": {},
   "source": [
    "#### Evaluar el panorama\n",
    "El conjunto de datos que se nos proporciona lleva por nombre “Conjunto de datos del Estudio 175 del Grupo de Ensayos Clínicos sobre el SIDA”. Esta recopilación fue financiada por el Instituto Nacional de Alergias y Enfermedades Infecciosas, así como por las Unidades del Centro General de Investigación, respaldadas por el Centro Nacional de Recursos para la Investigación, ambos organismos de los Estados Unidos.\n",
    "\n",
    "Los datos representan historiales clínicos de pacientes mayores de 12 años, estadounidenses con SIDA. Los pacientes fueron seleccionados de manera aleatoria, exceptuando aquellos que poseían algunas de las condiciones siguientes: alergias al ddc, ddl o AZT; neuropatía periférica de grado 2 o mayor; pancreatitis aguda o crónica; terapia aguda para una infección o enfermedad en los últios 14 días; reciente abuso de alcohol. Para este estudio, se asignó a cada paciente un tratamiento al azar de AZT, AZT y ddl, AZT y ddc, o ddl; esto se realizó durante al menos dos años\n",
    "\n",
    "El SIDA es causado por el VIH (Virus de la Inmunodeficiencia Humana), este no tiene cura. El VIH fue identificado en 1983 (https://www.nobelprize.org/prizes/medicine/2008/barre-sinoussi/facts/), mientras que el dataset fue publicado, por primera vez, 13 años después (1996)."
   ]
  },
  {
   "cell_type": "markdown",
   "id": "556c4358-6621-4556-807c-e1bc4dd814fd",
   "metadata": {},
   "source": [
    "#### Determinar los objetivos del negocio\n",
    "Conociéndo la fuente de los datos, así como los organismos que financiaron este estudio, los objetivos del negocio serán los siguientes:\n",
    "- Describir la población afectada.\n",
    "- Determinar la eficacia y seguridad de distintos tratamientos, para encontrar el que mejor prevenga la progresión del VIH\n",
    "- Predecir qué pacientes morirán en cierto intervalo de tiempo.\n",
    "\n",
    "### Preguntas de negocio.\n",
    "- ¿Cómo se puede describir la población afectada por VIH y posteriormente SIDA?\n",
    "- ¿Cual es la eficacia de cada tratamiento suministrado, y cual provee una mejor prevención al progreso del VIH?\n",
    "- ¿Qué pacientes son propensos a morir en un intervalo de tiempo determinado?\n",
    "\n",
    "\n",
    "#### Éxito del negocio\n",
    "El éxito de negocio se da en el caso de que se pueda determinar y predecir correctamente la muerte de pacientes, y tomar la decisión correcta respecto a la seguridad y eficacia de los tratamientos usados en los pacientes que padecen de VIH o SIDA.\n",
    "\n",
    "#### Riesgos del negocio\n",
    "Existen algunos riesgos para llevar a cabo este negocio, estos son: mal uso de tratamiento de datos personales del paciente e información sensible (como la raza, orientación sexual, etc); que el tratamiento pueda causar algún efecto secundario a un paciente, de manera que afecte significativamente y de manera negativa al paciente; que el paciente decida retirarse del tratamiento por motivos personales, antes del tiempo determinado.\n",
    "\n",
    "### Limitaciones del negocio\n",
    "Una limitación posible del negocio es la confiabilidad de los datos por la época en los cuales fueron registrados. Es decir, posibles respuestas erróneamente diligenciadas al poder contener información sensible. Otra limitación es la restricción geográfica y demográfica, al ser todos los pacientes Americanos, lo que limita la variabilidad socioeconómica, étnica y geográfica. \n",
    "\n"
   ]
  },
  {
   "cell_type": "markdown",
   "id": "d5e51a39-f721-4f07-9dbf-189e9410bc27",
   "metadata": {},
   "source": [
    "#### Determinar las metas de la minería de datos\n",
    "El propósito del dataset, según su repositorio, fue recopilar información útil para determinar los rendimientos de tipos de tratamiento del VIH. Además, servir para entrenar modelos predictivos que puedan determinar si un paciente morirá cierto tiempo después \n",
    "\n",
    "Para esto se recolectaron 23 características, excluímos algunas de estas según las instrucciones del taller.\n",
    "\n"
   ]
  },
  {
   "cell_type": "markdown",
   "id": "8c3c71de-cfd6-4cc7-aae7-92d763bd1f08",
   "metadata": {},
   "source": [
    "#### Producir un plan del proyecto\n",
    "El plan inicial es el siguiente:\n",
    "1. Crear un repositorio en Github para sincronizar labores del equipo.\n",
    "2. Crear un diccionario de datos para entender con qué se trabaja.\n",
    "3. Una vez cargados los datos, realizar un análisis exploratorio con el objetivo de clasificar su calidad.\n",
    "4. Verificar si los datos son adecuados para los objetivos del negocio. En caso contrario, replantear estos últimos.\n",
    "5. Caracterizar la población incluída en el dataset, hacer esto visualmente. **(Primer objetivo)**\n",
    "6. Consultar los tratamientos presentes en el conjunto de datos a fin de entender qué significa esta variable.\n",
    "7. Describir numérica y visualmente la efectividad de los distintos tratamientos usados en la población estudiada. **(Segundo objetivo)**\n",
    "9. Desarrollar un modelo predictivo que permita determinar, en cierto intervalo de tiempo, qué pacientes morirán. **(Tercer objetivo)**\n",
    "   - Explorar distintos modelos predictivos y, según las capacidades técnicas y recursos disponibles, seleccionar el más adecuado para el proyecto.\n",
    " \n",
    "\n",
    "*Este plan debe considerarse un borrador inicial. Será ajustado conforme se evalúe la efectividad de la metodología aplicada.*"
   ]
  },
  {
   "cell_type": "markdown",
   "id": "7be1998b-a4dd-4f91-8c0f-7f19ff8ba4ad",
   "metadata": {},
   "source": [
    "### Carga de datos \n",
    "Excluímos, según las instrucciones, las variables: oprior, z30, zprior, preanti, str2, strat, offtrt, cd40, cd420, cd80, cd820."
   ]
  },
  {
   "cell_type": "code",
   "execution_count": 2,
   "id": "57828457-2ebe-4b32-ab06-1bfe8aae712d",
   "metadata": {},
   "outputs": [
    {
     "data": {
      "text/html": [
       "<div>\n",
       "<style scoped>\n",
       "    .dataframe tbody tr th:only-of-type {\n",
       "        vertical-align: middle;\n",
       "    }\n",
       "\n",
       "    .dataframe tbody tr th {\n",
       "        vertical-align: top;\n",
       "    }\n",
       "\n",
       "    .dataframe thead th {\n",
       "        text-align: right;\n",
       "    }\n",
       "</style>\n",
       "<table border=\"1\" class=\"dataframe\">\n",
       "  <thead>\n",
       "    <tr style=\"text-align: right;\">\n",
       "      <th></th>\n",
       "      <th>pidnum</th>\n",
       "      <th>cid</th>\n",
       "      <th>time</th>\n",
       "      <th>trt</th>\n",
       "      <th>age</th>\n",
       "      <th>wtkg</th>\n",
       "      <th>hemo</th>\n",
       "      <th>homo</th>\n",
       "      <th>drugs</th>\n",
       "      <th>karnof</th>\n",
       "      <th>race</th>\n",
       "      <th>gender</th>\n",
       "      <th>symptom</th>\n",
       "      <th>treat</th>\n",
       "    </tr>\n",
       "  </thead>\n",
       "  <tbody>\n",
       "    <tr>\n",
       "      <th>0</th>\n",
       "      <td>10056</td>\n",
       "      <td>0</td>\n",
       "      <td>948</td>\n",
       "      <td>2</td>\n",
       "      <td>48</td>\n",
       "      <td>89.8128</td>\n",
       "      <td>0</td>\n",
       "      <td>0</td>\n",
       "      <td>0</td>\n",
       "      <td>100</td>\n",
       "      <td>0</td>\n",
       "      <td>0</td>\n",
       "      <td>0</td>\n",
       "      <td>1</td>\n",
       "    </tr>\n",
       "    <tr>\n",
       "      <th>1</th>\n",
       "      <td>10059</td>\n",
       "      <td>1</td>\n",
       "      <td>1002</td>\n",
       "      <td>3</td>\n",
       "      <td>61</td>\n",
       "      <td>49.4424</td>\n",
       "      <td>0</td>\n",
       "      <td>0</td>\n",
       "      <td>0</td>\n",
       "      <td>90</td>\n",
       "      <td>0</td>\n",
       "      <td>0</td>\n",
       "      <td>0</td>\n",
       "      <td>1</td>\n",
       "    </tr>\n",
       "    <tr>\n",
       "      <th>2</th>\n",
       "      <td>10089</td>\n",
       "      <td>0</td>\n",
       "      <td>961</td>\n",
       "      <td>3</td>\n",
       "      <td>45</td>\n",
       "      <td>88.4520</td>\n",
       "      <td>0</td>\n",
       "      <td>1</td>\n",
       "      <td>1</td>\n",
       "      <td>90</td>\n",
       "      <td>0</td>\n",
       "      <td>1</td>\n",
       "      <td>0</td>\n",
       "      <td>1</td>\n",
       "    </tr>\n",
       "    <tr>\n",
       "      <th>3</th>\n",
       "      <td>10093</td>\n",
       "      <td>0</td>\n",
       "      <td>1166</td>\n",
       "      <td>3</td>\n",
       "      <td>47</td>\n",
       "      <td>85.2768</td>\n",
       "      <td>0</td>\n",
       "      <td>1</td>\n",
       "      <td>0</td>\n",
       "      <td>100</td>\n",
       "      <td>0</td>\n",
       "      <td>1</td>\n",
       "      <td>0</td>\n",
       "      <td>1</td>\n",
       "    </tr>\n",
       "    <tr>\n",
       "      <th>4</th>\n",
       "      <td>10124</td>\n",
       "      <td>0</td>\n",
       "      <td>1090</td>\n",
       "      <td>0</td>\n",
       "      <td>43</td>\n",
       "      <td>66.6792</td>\n",
       "      <td>0</td>\n",
       "      <td>1</td>\n",
       "      <td>0</td>\n",
       "      <td>100</td>\n",
       "      <td>0</td>\n",
       "      <td>1</td>\n",
       "      <td>0</td>\n",
       "      <td>0</td>\n",
       "    </tr>\n",
       "    <tr>\n",
       "      <th>...</th>\n",
       "      <td>...</td>\n",
       "      <td>...</td>\n",
       "      <td>...</td>\n",
       "      <td>...</td>\n",
       "      <td>...</td>\n",
       "      <td>...</td>\n",
       "      <td>...</td>\n",
       "      <td>...</td>\n",
       "      <td>...</td>\n",
       "      <td>...</td>\n",
       "      <td>...</td>\n",
       "      <td>...</td>\n",
       "      <td>...</td>\n",
       "      <td>...</td>\n",
       "    </tr>\n",
       "    <tr>\n",
       "      <th>2134</th>\n",
       "      <td>990021</td>\n",
       "      <td>0</td>\n",
       "      <td>1091</td>\n",
       "      <td>3</td>\n",
       "      <td>21</td>\n",
       "      <td>53.2980</td>\n",
       "      <td>1</td>\n",
       "      <td>0</td>\n",
       "      <td>0</td>\n",
       "      <td>100</td>\n",
       "      <td>0</td>\n",
       "      <td>1</td>\n",
       "      <td>0</td>\n",
       "      <td>1</td>\n",
       "    </tr>\n",
       "    <tr>\n",
       "      <th>2135</th>\n",
       "      <td>990026</td>\n",
       "      <td>0</td>\n",
       "      <td>395</td>\n",
       "      <td>0</td>\n",
       "      <td>17</td>\n",
       "      <td>102.9672</td>\n",
       "      <td>1</td>\n",
       "      <td>0</td>\n",
       "      <td>0</td>\n",
       "      <td>100</td>\n",
       "      <td>1</td>\n",
       "      <td>1</td>\n",
       "      <td>0</td>\n",
       "      <td>0</td>\n",
       "    </tr>\n",
       "    <tr>\n",
       "      <th>2136</th>\n",
       "      <td>990030</td>\n",
       "      <td>0</td>\n",
       "      <td>1104</td>\n",
       "      <td>2</td>\n",
       "      <td>53</td>\n",
       "      <td>69.8544</td>\n",
       "      <td>1</td>\n",
       "      <td>1</td>\n",
       "      <td>0</td>\n",
       "      <td>90</td>\n",
       "      <td>1</td>\n",
       "      <td>1</td>\n",
       "      <td>0</td>\n",
       "      <td>1</td>\n",
       "    </tr>\n",
       "    <tr>\n",
       "      <th>2137</th>\n",
       "      <td>990071</td>\n",
       "      <td>1</td>\n",
       "      <td>465</td>\n",
       "      <td>0</td>\n",
       "      <td>14</td>\n",
       "      <td>60.0000</td>\n",
       "      <td>1</td>\n",
       "      <td>0</td>\n",
       "      <td>0</td>\n",
       "      <td>100</td>\n",
       "      <td>0</td>\n",
       "      <td>1</td>\n",
       "      <td>0</td>\n",
       "      <td>0</td>\n",
       "    </tr>\n",
       "    <tr>\n",
       "      <th>2138</th>\n",
       "      <td>990077</td>\n",
       "      <td>0</td>\n",
       "      <td>1045</td>\n",
       "      <td>3</td>\n",
       "      <td>45</td>\n",
       "      <td>77.3000</td>\n",
       "      <td>1</td>\n",
       "      <td>0</td>\n",
       "      <td>0</td>\n",
       "      <td>100</td>\n",
       "      <td>0</td>\n",
       "      <td>1</td>\n",
       "      <td>0</td>\n",
       "      <td>1</td>\n",
       "    </tr>\n",
       "  </tbody>\n",
       "</table>\n",
       "<p>2139 rows × 14 columns</p>\n",
       "</div>"
      ],
      "text/plain": [
       "      pidnum  cid  time  trt  age      wtkg  hemo  homo  drugs  karnof  race  \\\n",
       "0      10056    0   948    2   48   89.8128     0     0      0     100     0   \n",
       "1      10059    1  1002    3   61   49.4424     0     0      0      90     0   \n",
       "2      10089    0   961    3   45   88.4520     0     1      1      90     0   \n",
       "3      10093    0  1166    3   47   85.2768     0     1      0     100     0   \n",
       "4      10124    0  1090    0   43   66.6792     0     1      0     100     0   \n",
       "...      ...  ...   ...  ...  ...       ...   ...   ...    ...     ...   ...   \n",
       "2134  990021    0  1091    3   21   53.2980     1     0      0     100     0   \n",
       "2135  990026    0   395    0   17  102.9672     1     0      0     100     1   \n",
       "2136  990030    0  1104    2   53   69.8544     1     1      0      90     1   \n",
       "2137  990071    1   465    0   14   60.0000     1     0      0     100     0   \n",
       "2138  990077    0  1045    3   45   77.3000     1     0      0     100     0   \n",
       "\n",
       "      gender  symptom  treat  \n",
       "0          0        0      1  \n",
       "1          0        0      1  \n",
       "2          1        0      1  \n",
       "3          1        0      1  \n",
       "4          1        0      0  \n",
       "...      ...      ...    ...  \n",
       "2134       1        0      1  \n",
       "2135       1        0      0  \n",
       "2136       1        0      1  \n",
       "2137       1        0      0  \n",
       "2138       1        0      1  \n",
       "\n",
       "[2139 rows x 14 columns]"
      ]
     },
     "execution_count": 2,
     "metadata": {},
     "output_type": "execute_result"
    }
   ],
   "source": [
    "import pandas as pd\n",
    "urlcsv = \"http://archive.ics.uci.edu/static/public/890/data.csv\"\n",
    "dfs = pd.read_csv(urlcsv)\n",
    "no_data = [\"oprior\", \"z30\", \"zprior\", \"preanti\", \"str2\", \"strat\", \"offtrt\", \"cd40\", \"cd420\", \"cd80\", \"cd820\"]\n",
    "df = dfs.drop(no_data, axis=1)\n",
    "df"
   ]
  },
  {
   "cell_type": "markdown",
   "id": "ca6bae35-a350-48f8-82a9-f9343e92274e",
   "metadata": {},
   "source": [
    "### Diccionario de datos\n",
    "Descripción de la tabla, volumetría, descripción y tipo de cada columna, etc\n",
    "\n",
    "\"DiccionarioDeDatos.xlsx\""
   ]
  },
  {
   "cell_type": "markdown",
   "id": "70be53ce-4341-4219-8e2e-78ef4e80f9f7",
   "metadata": {},
   "source": [
    "### Un primer análisis\n",
    "#### Vistazo a los datos (head)"
   ]
  },
  {
   "cell_type": "code",
   "execution_count": 3,
   "id": "37e36a9a-7e12-47a9-a3a9-fe3dc69ae8a3",
   "metadata": {},
   "outputs": [
    {
     "data": {
      "text/html": [
       "<div>\n",
       "<style scoped>\n",
       "    .dataframe tbody tr th:only-of-type {\n",
       "        vertical-align: middle;\n",
       "    }\n",
       "\n",
       "    .dataframe tbody tr th {\n",
       "        vertical-align: top;\n",
       "    }\n",
       "\n",
       "    .dataframe thead th {\n",
       "        text-align: right;\n",
       "    }\n",
       "</style>\n",
       "<table border=\"1\" class=\"dataframe\">\n",
       "  <thead>\n",
       "    <tr style=\"text-align: right;\">\n",
       "      <th></th>\n",
       "      <th>pidnum</th>\n",
       "      <th>cid</th>\n",
       "      <th>time</th>\n",
       "      <th>trt</th>\n",
       "      <th>age</th>\n",
       "      <th>wtkg</th>\n",
       "      <th>hemo</th>\n",
       "      <th>homo</th>\n",
       "      <th>drugs</th>\n",
       "      <th>karnof</th>\n",
       "      <th>race</th>\n",
       "      <th>gender</th>\n",
       "      <th>symptom</th>\n",
       "      <th>treat</th>\n",
       "    </tr>\n",
       "  </thead>\n",
       "  <tbody>\n",
       "    <tr>\n",
       "      <th>0</th>\n",
       "      <td>10056</td>\n",
       "      <td>0</td>\n",
       "      <td>948</td>\n",
       "      <td>2</td>\n",
       "      <td>48</td>\n",
       "      <td>89.8128</td>\n",
       "      <td>0</td>\n",
       "      <td>0</td>\n",
       "      <td>0</td>\n",
       "      <td>100</td>\n",
       "      <td>0</td>\n",
       "      <td>0</td>\n",
       "      <td>0</td>\n",
       "      <td>1</td>\n",
       "    </tr>\n",
       "    <tr>\n",
       "      <th>1</th>\n",
       "      <td>10059</td>\n",
       "      <td>1</td>\n",
       "      <td>1002</td>\n",
       "      <td>3</td>\n",
       "      <td>61</td>\n",
       "      <td>49.4424</td>\n",
       "      <td>0</td>\n",
       "      <td>0</td>\n",
       "      <td>0</td>\n",
       "      <td>90</td>\n",
       "      <td>0</td>\n",
       "      <td>0</td>\n",
       "      <td>0</td>\n",
       "      <td>1</td>\n",
       "    </tr>\n",
       "    <tr>\n",
       "      <th>2</th>\n",
       "      <td>10089</td>\n",
       "      <td>0</td>\n",
       "      <td>961</td>\n",
       "      <td>3</td>\n",
       "      <td>45</td>\n",
       "      <td>88.4520</td>\n",
       "      <td>0</td>\n",
       "      <td>1</td>\n",
       "      <td>1</td>\n",
       "      <td>90</td>\n",
       "      <td>0</td>\n",
       "      <td>1</td>\n",
       "      <td>0</td>\n",
       "      <td>1</td>\n",
       "    </tr>\n",
       "    <tr>\n",
       "      <th>3</th>\n",
       "      <td>10093</td>\n",
       "      <td>0</td>\n",
       "      <td>1166</td>\n",
       "      <td>3</td>\n",
       "      <td>47</td>\n",
       "      <td>85.2768</td>\n",
       "      <td>0</td>\n",
       "      <td>1</td>\n",
       "      <td>0</td>\n",
       "      <td>100</td>\n",
       "      <td>0</td>\n",
       "      <td>1</td>\n",
       "      <td>0</td>\n",
       "      <td>1</td>\n",
       "    </tr>\n",
       "    <tr>\n",
       "      <th>4</th>\n",
       "      <td>10124</td>\n",
       "      <td>0</td>\n",
       "      <td>1090</td>\n",
       "      <td>0</td>\n",
       "      <td>43</td>\n",
       "      <td>66.6792</td>\n",
       "      <td>0</td>\n",
       "      <td>1</td>\n",
       "      <td>0</td>\n",
       "      <td>100</td>\n",
       "      <td>0</td>\n",
       "      <td>1</td>\n",
       "      <td>0</td>\n",
       "      <td>0</td>\n",
       "    </tr>\n",
       "  </tbody>\n",
       "</table>\n",
       "</div>"
      ],
      "text/plain": [
       "   pidnum  cid  time  trt  age     wtkg  hemo  homo  drugs  karnof  race  \\\n",
       "0   10056    0   948    2   48  89.8128     0     0      0     100     0   \n",
       "1   10059    1  1002    3   61  49.4424     0     0      0      90     0   \n",
       "2   10089    0   961    3   45  88.4520     0     1      1      90     0   \n",
       "3   10093    0  1166    3   47  85.2768     0     1      0     100     0   \n",
       "4   10124    0  1090    0   43  66.6792     0     1      0     100     0   \n",
       "\n",
       "   gender  symptom  treat  \n",
       "0       0        0      1  \n",
       "1       0        0      1  \n",
       "2       1        0      1  \n",
       "3       1        0      1  \n",
       "4       1        0      0  "
      ]
     },
     "execution_count": 3,
     "metadata": {},
     "output_type": "execute_result"
    }
   ],
   "source": [
    "df.head()"
   ]
  },
  {
   "cell_type": "code",
   "execution_count": 4,
   "id": "de0b84fd-9fcc-45e0-acb7-917fc24e9967",
   "metadata": {},
   "outputs": [
    {
     "data": {
      "text/html": [
       "<div>\n",
       "<style scoped>\n",
       "    .dataframe tbody tr th:only-of-type {\n",
       "        vertical-align: middle;\n",
       "    }\n",
       "\n",
       "    .dataframe tbody tr th {\n",
       "        vertical-align: top;\n",
       "    }\n",
       "\n",
       "    .dataframe thead th {\n",
       "        text-align: right;\n",
       "    }\n",
       "</style>\n",
       "<table border=\"1\" class=\"dataframe\">\n",
       "  <thead>\n",
       "    <tr style=\"text-align: right;\">\n",
       "      <th></th>\n",
       "      <th>pidnum</th>\n",
       "      <th>cid</th>\n",
       "      <th>time</th>\n",
       "      <th>trt</th>\n",
       "      <th>age</th>\n",
       "      <th>wtkg</th>\n",
       "      <th>hemo</th>\n",
       "      <th>homo</th>\n",
       "      <th>drugs</th>\n",
       "      <th>karnof</th>\n",
       "      <th>race</th>\n",
       "      <th>gender</th>\n",
       "      <th>symptom</th>\n",
       "      <th>treat</th>\n",
       "    </tr>\n",
       "  </thead>\n",
       "  <tbody>\n",
       "    <tr>\n",
       "      <th>count</th>\n",
       "      <td>2139.00</td>\n",
       "      <td>2139.00</td>\n",
       "      <td>2139.00</td>\n",
       "      <td>2139.00</td>\n",
       "      <td>2139.00</td>\n",
       "      <td>2139.00</td>\n",
       "      <td>2139.00</td>\n",
       "      <td>2139.00</td>\n",
       "      <td>2139.00</td>\n",
       "      <td>2139.00</td>\n",
       "      <td>2139.00</td>\n",
       "      <td>2139.00</td>\n",
       "      <td>2139.00</td>\n",
       "      <td>2139.00</td>\n",
       "    </tr>\n",
       "    <tr>\n",
       "      <th>mean</th>\n",
       "      <td>248778.25</td>\n",
       "      <td>0.24</td>\n",
       "      <td>879.10</td>\n",
       "      <td>1.52</td>\n",
       "      <td>35.25</td>\n",
       "      <td>75.13</td>\n",
       "      <td>0.08</td>\n",
       "      <td>0.66</td>\n",
       "      <td>0.13</td>\n",
       "      <td>95.45</td>\n",
       "      <td>0.29</td>\n",
       "      <td>0.83</td>\n",
       "      <td>0.17</td>\n",
       "      <td>0.75</td>\n",
       "    </tr>\n",
       "    <tr>\n",
       "      <th>std</th>\n",
       "      <td>234237.29</td>\n",
       "      <td>0.43</td>\n",
       "      <td>292.27</td>\n",
       "      <td>1.13</td>\n",
       "      <td>8.71</td>\n",
       "      <td>13.26</td>\n",
       "      <td>0.28</td>\n",
       "      <td>0.47</td>\n",
       "      <td>0.34</td>\n",
       "      <td>5.90</td>\n",
       "      <td>0.45</td>\n",
       "      <td>0.38</td>\n",
       "      <td>0.38</td>\n",
       "      <td>0.43</td>\n",
       "    </tr>\n",
       "    <tr>\n",
       "      <th>min</th>\n",
       "      <td>10056.00</td>\n",
       "      <td>0.00</td>\n",
       "      <td>14.00</td>\n",
       "      <td>0.00</td>\n",
       "      <td>12.00</td>\n",
       "      <td>31.00</td>\n",
       "      <td>0.00</td>\n",
       "      <td>0.00</td>\n",
       "      <td>0.00</td>\n",
       "      <td>70.00</td>\n",
       "      <td>0.00</td>\n",
       "      <td>0.00</td>\n",
       "      <td>0.00</td>\n",
       "      <td>0.00</td>\n",
       "    </tr>\n",
       "    <tr>\n",
       "      <th>25%</th>\n",
       "      <td>81446.50</td>\n",
       "      <td>0.00</td>\n",
       "      <td>727.00</td>\n",
       "      <td>1.00</td>\n",
       "      <td>29.00</td>\n",
       "      <td>66.68</td>\n",
       "      <td>0.00</td>\n",
       "      <td>0.00</td>\n",
       "      <td>0.00</td>\n",
       "      <td>90.00</td>\n",
       "      <td>0.00</td>\n",
       "      <td>1.00</td>\n",
       "      <td>0.00</td>\n",
       "      <td>1.00</td>\n",
       "    </tr>\n",
       "    <tr>\n",
       "      <th>50%</th>\n",
       "      <td>190566.00</td>\n",
       "      <td>0.00</td>\n",
       "      <td>997.00</td>\n",
       "      <td>2.00</td>\n",
       "      <td>34.00</td>\n",
       "      <td>74.39</td>\n",
       "      <td>0.00</td>\n",
       "      <td>1.00</td>\n",
       "      <td>0.00</td>\n",
       "      <td>100.00</td>\n",
       "      <td>0.00</td>\n",
       "      <td>1.00</td>\n",
       "      <td>0.00</td>\n",
       "      <td>1.00</td>\n",
       "    </tr>\n",
       "    <tr>\n",
       "      <th>75%</th>\n",
       "      <td>280277.00</td>\n",
       "      <td>0.00</td>\n",
       "      <td>1091.00</td>\n",
       "      <td>3.00</td>\n",
       "      <td>40.00</td>\n",
       "      <td>82.56</td>\n",
       "      <td>0.00</td>\n",
       "      <td>1.00</td>\n",
       "      <td>0.00</td>\n",
       "      <td>100.00</td>\n",
       "      <td>1.00</td>\n",
       "      <td>1.00</td>\n",
       "      <td>0.00</td>\n",
       "      <td>1.00</td>\n",
       "    </tr>\n",
       "    <tr>\n",
       "      <th>max</th>\n",
       "      <td>990077.00</td>\n",
       "      <td>1.00</td>\n",
       "      <td>1231.00</td>\n",
       "      <td>3.00</td>\n",
       "      <td>70.00</td>\n",
       "      <td>159.94</td>\n",
       "      <td>1.00</td>\n",
       "      <td>1.00</td>\n",
       "      <td>1.00</td>\n",
       "      <td>100.00</td>\n",
       "      <td>1.00</td>\n",
       "      <td>1.00</td>\n",
       "      <td>1.00</td>\n",
       "      <td>1.00</td>\n",
       "    </tr>\n",
       "  </tbody>\n",
       "</table>\n",
       "</div>"
      ],
      "text/plain": [
       "          pidnum      cid     time      trt      age     wtkg     hemo  \\\n",
       "count    2139.00  2139.00  2139.00  2139.00  2139.00  2139.00  2139.00   \n",
       "mean   248778.25     0.24   879.10     1.52    35.25    75.13     0.08   \n",
       "std    234237.29     0.43   292.27     1.13     8.71    13.26     0.28   \n",
       "min     10056.00     0.00    14.00     0.00    12.00    31.00     0.00   \n",
       "25%     81446.50     0.00   727.00     1.00    29.00    66.68     0.00   \n",
       "50%    190566.00     0.00   997.00     2.00    34.00    74.39     0.00   \n",
       "75%    280277.00     0.00  1091.00     3.00    40.00    82.56     0.00   \n",
       "max    990077.00     1.00  1231.00     3.00    70.00   159.94     1.00   \n",
       "\n",
       "          homo    drugs   karnof     race   gender  symptom    treat  \n",
       "count  2139.00  2139.00  2139.00  2139.00  2139.00  2139.00  2139.00  \n",
       "mean      0.66     0.13    95.45     0.29     0.83     0.17     0.75  \n",
       "std       0.47     0.34     5.90     0.45     0.38     0.38     0.43  \n",
       "min       0.00     0.00    70.00     0.00     0.00     0.00     0.00  \n",
       "25%       0.00     0.00    90.00     0.00     1.00     0.00     1.00  \n",
       "50%       1.00     0.00   100.00     0.00     1.00     0.00     1.00  \n",
       "75%       1.00     0.00   100.00     1.00     1.00     0.00     1.00  \n",
       "max       1.00     1.00   100.00     1.00     1.00     1.00     1.00  "
      ]
     },
     "execution_count": 4,
     "metadata": {},
     "output_type": "execute_result"
    }
   ],
   "source": [
    "df.describe().round(2)"
   ]
  },
  {
   "cell_type": "markdown",
   "id": "6d0b60c5-8fb0-4d8e-aeb3-58d1eb0b07c1",
   "metadata": {},
   "source": [
    "#### Estadísticos descriptivos (describe)"
   ]
  },
  {
   "cell_type": "markdown",
   "id": "5fc84f50-dff4-49b3-a822-74c6b6cb099d",
   "metadata": {},
   "source": [
    "#### Análisis de lo visto hasta el momento\n",
    "\n"
   ]
  },
  {
   "cell_type": "markdown",
   "id": "1ae7b00a-3ead-4723-8f20-91ce88fe155b",
   "metadata": {},
   "source": [
    "**Hay 2139 registros**, a continuación un análisis variable a variable excluyendo el id del paciente.\n",
    "\n",
    "- Time (Tiempo hasta fallecimiento o pérdida de registro del paciente): Se supone sobre esta variable que es tiempo en días, pues no se encontró información al respecto. En promedio pasan $879$ días hasta que el paciente fallece o se pierde registro del mismo, hay una desviación estandar significativa que representa aproximadamente un tercio del promedio. Notablemente, el primer cuartil (25%) se haya $997 - 727 = 270$ unidades a la izquierda de la media (50%), esta último se haya a $1091 - 997 = 94$ unidades a la izquierda del tercer cuartil (75%), esto sugiere una distribución con asimetría negativa. A esta misma conclusión llegamos comparando mediana y media.\n",
    "\n",
    "- Trt (Tipo de tratamiento): Al ser un categórico no resultan muy útiles los estadísticos descriptivos del promedio, desviación estándar, entre otros. Podemos asegurar que se usaron todos los tratamientos pues todos aparecen.\n",
    "\n",
    "- Age (edad): El promedio de la edad de la población estudiada es de 35.25 años. Sin embargo, los pacientes van desde los 12 hasta los 70 años. La mediana es de 34 años, lo cual, junto al promedio, puede indicar una distribución con asimetría positiva lo que denota en este caso que la población tiende a ser menor al promedio.\n",
    "\n",
    "- Wtkg (peso en kg): En promedio, los pacientes pesan 75.13 kg. El rango de pesos es, al igual que de edades, bastante amplio. Concretamente el rango de pesos es de $159.94 - 31 = 128.94$ kg. La diferencia entre la media y la mediana es de $75.13 - 74.39 = 0.74 \\approx 0$. Esto sugiere una distribución centradada.\n",
    "\n",
    "- Hemo (condición hemofilia): A partir de los estadísticos descriptivos vemos que esta condición es algo rara, pues al menos el 75% no la tienen. Vemos que está en el dataset pues en la tabla el máximo es 1.\n",
    "\n",
    "- Homo (ser homosexual [binario]): El promedio de 2139 filas de esta variable binaria (con valores 0 y 1) es de $0.66$. A partir de esto podemos saber que el 66% de los pacientes con SIDA son homosexuales, esto contrasta con la proporción entre personas sanas (en nuestra experiencia), por tanto es posible que la población homosexual esté más expuesta al SIDA.\n",
    "\n",
    "- Drugs (antecedentes con drogas intravenosas): Haciendo similar análisis a la variable Homo, se estima que un 13% de la población tiene un historial de uso de drogas. \n",
    "\n",
    "- Karnof (escala Karnofsky): Los estadísticos descriptivos muestran que, en general, los pacientes tienen síntomas leves (promedio 95.45 con desviación estandar de sólo 5). El mínimo en la escala registrado es de 70 lo cuál es, según esta, equivalente a ser capaz de cuidarse por si mismo pero no de hacer alguna activdad o trabajo normal.\n",
    "\n",
    "- Race (blanco o no blanco): Igual análisis a las demás variables binarias, el 29% de los pacientes son no blancos, esto corresponde a la distribución racial estadounidense.\n",
    "\n",
    "- Gender (género hombre / mujer): EL promedio es de 0.83, como 1 representa \"Hombre\" para esta variable binaria, el 83% de los pacientes son hombres. Esto, junto con la prevalencia de personas homosexuales en la muestra, parece indicar ya sea un sesgo a elegir hombres homosexuales, o una predisposición de estos a contagiarse.\n",
    "\n",
    "- Symptom (síntomas clínicos al inicio): El promedio es de 0.17, 1 representa \"Sintomático\" para la variable binaria. Entonces, el 17% de los pacientes presentaba síntomas clínicos al inicio. Que tantos pacientes sean asintomáticos resulta interesante pues significa que sospechaban haber sido contagiados. \n",
    "\n",
    "- Treat (binario si se usa ZDV sólo o no): El promedio es de 0.75, es decir, el 75% de los pacientes son tratados utilizando solamente ZDV.\n",
    "\n",
    "- Cid (indicador de censura binario): El promedio es de 0.24, es decir, el 24% de los pacientes del estudio fallecieron. Aquí puede haber confusión sobre el significado de Cid, decidimos interpretarlo como 1 es fallecimiento derivado del propósito del dataset, de lo contrario: ¿cómo podría este servir para entrenar un modelo que prediga quienes fallecen en un intervalo dado?."
   ]
  },
  {
   "cell_type": "markdown",
   "id": "4fb0d61a-dc65-456a-99b8-6121db7f62ab",
   "metadata": {},
   "source": [
    "### Análisis de calidad de los datos"
   ]
  },
  {
   "cell_type": "markdown",
   "id": "9155b49d-1994-4d31-ad37-69cecf6d7ff0",
   "metadata": {},
   "source": [
    "#### ¿ Qué dimensiones de calidad de datos se van a analizar?\n",
    "\n",
    "1. Completitud:\n",
    "La dimensión de completitud consiste en el porcentaje de datos llenos en comparación a el total de datos.\n",
    " \n",
    "2. Conformidad / Validez:\n",
    "Significa que los datos deben ser representados con un formato constante, adheriendose a un tipo de dato específico.\n",
    " \n",
    "3. Consistencia:\n",
    "Los datos son congruentes entre sí, todas las relaciones existentes entre las variables son ciertas y pueden representar situaciones del mundo real, se identifican relaciones anómalas.\n",
    "\n",
    "4. Precisión/ Exactitud:\n",
    "El dato por si solo es coherente, lógico y verdadero. Se usa para saber la diferencia entre los datos almacenados con los reales.\n",
    "\n",
    "5. Duplicidad / Unicidad:\n",
    "Se refiere a la ocurrencia única de un objeto al ser grabado en el dataset.\n",
    "\n",
    "6. Integridad:\n",
    "Es el grado en el que las varias fuentes de datos están sincronizadas, y que los cambios que hay en una fuente se refleje en otra."
   ]
  },
  {
   "cell_type": "markdown",
   "id": "28c49ae9-2bb3-4146-9d7b-120281f4a6b2",
   "metadata": {},
   "source": [
    "#### - Completitud:"
   ]
  },
  {
   "cell_type": "code",
   "execution_count": 5,
   "id": "367b156b-b974-49a4-b9be-afa5c5c8eab7",
   "metadata": {},
   "outputs": [
    {
     "data": {
      "text/plain": [
       "pidnum     0\n",
       "cid        0\n",
       "time       0\n",
       "trt        0\n",
       "age        0\n",
       "wtkg       0\n",
       "hemo       0\n",
       "homo       0\n",
       "drugs      0\n",
       "karnof     0\n",
       "race       0\n",
       "gender     0\n",
       "symptom    0\n",
       "treat      0\n",
       "dtype: int64"
      ]
     },
     "execution_count": 5,
     "metadata": {},
     "output_type": "execute_result"
    }
   ],
   "source": [
    "#Para revisar datos incompletos, sumar nulos.\n",
    "df.isna().sum()"
   ]
  },
  {
   "cell_type": "markdown",
   "id": "5cc09301-b5b2-4548-a9d7-19cfa92c4ac2",
   "metadata": {},
   "source": [
    "Se ve que todas las columnas tienen 0 datos nulos. Debido a que no hay datos faltantes, no hay que hacer un tratamiento para ellos."
   ]
  },
  {
   "cell_type": "markdown",
   "id": "dcc30391-68a2-4cca-b0e2-96abdd09ae35",
   "metadata": {},
   "source": [
    "Sin embargo, se considera que aunque las columnas no tienen datos incompletos, se podría completar el dataset con otras variables como la estatura, ya que puede ser útil para detectar anomalías y crear el índice de masa corporal. Este índice puede tener mayor correlación con otras variables, pero la información se pierde. \n",
    "Además, se podrían agregar otras variables que describan la salud del paciente, y que influyen en la progresión o mortalidad. La falta de estas hace que no se logre predecir correctamente, al ingorar variables explicativas actuales.\n"
   ]
  },
  {
   "cell_type": "markdown",
   "id": "9abee500-388d-4865-a96f-684a67d0c087",
   "metadata": {},
   "source": [
    "#### - Conformidad/Validez:"
   ]
  },
  {
   "cell_type": "markdown",
   "id": "2e7d4c02-0491-4f71-a2ef-5c5ed29df472",
   "metadata": {},
   "source": [
    "Para analizar la validez revisaremos que todas las variables realmente son del tipo que dicen ser."
   ]
  },
  {
   "cell_type": "markdown",
   "id": "e69ff2a7-f0ed-4ea8-89ab-4b07195535dc",
   "metadata": {},
   "source": [
    "**Sólo hay hombres y mujeres**\n"
   ]
  },
  {
   "cell_type": "code",
   "execution_count": 6,
   "id": "2efdd86d-b713-4870-a681-5ba4fa9e9925",
   "metadata": {},
   "outputs": [
    {
     "data": {
      "text/html": [
       "<div>\n",
       "<style scoped>\n",
       "    .dataframe tbody tr th:only-of-type {\n",
       "        vertical-align: middle;\n",
       "    }\n",
       "\n",
       "    .dataframe tbody tr th {\n",
       "        vertical-align: top;\n",
       "    }\n",
       "\n",
       "    .dataframe thead th {\n",
       "        text-align: right;\n",
       "    }\n",
       "</style>\n",
       "<table border=\"1\" class=\"dataframe\">\n",
       "  <thead>\n",
       "    <tr style=\"text-align: right;\">\n",
       "      <th></th>\n",
       "      <th>pidnum</th>\n",
       "      <th>cid</th>\n",
       "      <th>time</th>\n",
       "      <th>trt</th>\n",
       "      <th>age</th>\n",
       "      <th>wtkg</th>\n",
       "      <th>hemo</th>\n",
       "      <th>homo</th>\n",
       "      <th>drugs</th>\n",
       "      <th>karnof</th>\n",
       "      <th>race</th>\n",
       "      <th>gender</th>\n",
       "      <th>symptom</th>\n",
       "      <th>treat</th>\n",
       "    </tr>\n",
       "  </thead>\n",
       "  <tbody>\n",
       "  </tbody>\n",
       "</table>\n",
       "</div>"
      ],
      "text/plain": [
       "Empty DataFrame\n",
       "Columns: [pidnum, cid, time, trt, age, wtkg, hemo, homo, drugs, karnof, race, gender, symptom, treat]\n",
       "Index: []"
      ]
     },
     "execution_count": 6,
     "metadata": {},
     "output_type": "execute_result"
    }
   ],
   "source": [
    "df[(df[\"time\"]<=0 )| (df[\"wtkg\"]<= 0)]"
   ]
  },
  {
   "cell_type": "markdown",
   "id": "ba0ee9f5-0fb2-438d-9327-66e308144834",
   "metadata": {},
   "source": [
    "**No hay tiempo ni peso negativo**"
   ]
  },
  {
   "cell_type": "code",
   "execution_count": 7,
   "id": "21bd916e-9a14-4510-8aba-04c716e90fe9",
   "metadata": {},
   "outputs": [
    {
     "data": {
      "text/plain": [
       "trt\n",
       "0    532\n",
       "1    522\n",
       "2    524\n",
       "3    561\n",
       "Name: count, dtype: int64"
      ]
     },
     "execution_count": 7,
     "metadata": {},
     "output_type": "execute_result"
    }
   ],
   "source": [
    "# Según el repositorio, hay 4 tratamientos posibles [0, 1, 2, 3] esto se confirma aquí.\n",
    "df[\"trt\"].value_counts().sort_index()"
   ]
  },
  {
   "cell_type": "markdown",
   "id": "40a27ce0-4234-490e-8c28-c9a06260977f",
   "metadata": {},
   "source": [
    "**Verificación de variables binarias**"
   ]
  },
  {
   "cell_type": "code",
   "execution_count": 8,
   "id": "1dccfc0d-0b20-4e10-bfa2-f9daf088b01b",
   "metadata": {},
   "outputs": [
    {
     "data": {
      "text/plain": [
       "homo\n",
       "1    1414\n",
       "0     725\n",
       "Name: count, dtype: int64"
      ]
     },
     "execution_count": 8,
     "metadata": {},
     "output_type": "execute_result"
    }
   ],
   "source": [
    "df[\"homo\"].value_counts()"
   ]
  },
  {
   "cell_type": "code",
   "execution_count": 9,
   "id": "f53e4f61-49ee-4a6f-b100-def8c5ca5fdf",
   "metadata": {},
   "outputs": [
    {
     "data": {
      "text/plain": [
       "gender\n",
       "1    1771\n",
       "0     368\n",
       "Name: count, dtype: int64"
      ]
     },
     "execution_count": 9,
     "metadata": {},
     "output_type": "execute_result"
    }
   ],
   "source": [
    "df[\"gender\"].value_counts()"
   ]
  },
  {
   "cell_type": "code",
   "execution_count": 10,
   "id": "4dc53cdc-812a-48bf-a9b1-eba0f0004fee",
   "metadata": {},
   "outputs": [
    {
     "data": {
      "text/plain": [
       "cid\n",
       "0    1618\n",
       "1     521\n",
       "Name: count, dtype: int64"
      ]
     },
     "execution_count": 10,
     "metadata": {},
     "output_type": "execute_result"
    }
   ],
   "source": [
    "df[\"cid\"].value_counts()"
   ]
  },
  {
   "cell_type": "code",
   "execution_count": 11,
   "id": "07bde331-7fbc-48e6-b1ed-556013204cd5",
   "metadata": {},
   "outputs": [
    {
     "data": {
      "text/plain": [
       "hemo\n",
       "0    1959\n",
       "1     180\n",
       "Name: count, dtype: int64"
      ]
     },
     "execution_count": 11,
     "metadata": {},
     "output_type": "execute_result"
    }
   ],
   "source": [
    "df[\"hemo\"].value_counts()"
   ]
  },
  {
   "cell_type": "code",
   "execution_count": 12,
   "id": "0f202725-e9d0-4e8f-b075-f4f2d757f529",
   "metadata": {},
   "outputs": [
    {
     "data": {
      "text/plain": [
       "race\n",
       "0    1522\n",
       "1     617\n",
       "Name: count, dtype: int64"
      ]
     },
     "execution_count": 12,
     "metadata": {},
     "output_type": "execute_result"
    }
   ],
   "source": [
    "df[\"race\"].value_counts()"
   ]
  },
  {
   "cell_type": "code",
   "execution_count": 13,
   "id": "d3ede32f-c35f-4e6f-9f19-d643198234c1",
   "metadata": {},
   "outputs": [
    {
     "data": {
      "text/plain": [
       "symptom\n",
       "0    1769\n",
       "1     370\n",
       "Name: count, dtype: int64"
      ]
     },
     "execution_count": 13,
     "metadata": {},
     "output_type": "execute_result"
    }
   ],
   "source": [
    "df[\"symptom\"].value_counts()"
   ]
  },
  {
   "cell_type": "code",
   "execution_count": 14,
   "id": "a02696ea-3dba-4bf3-ae29-45cdf99e4650",
   "metadata": {},
   "outputs": [
    {
     "data": {
      "text/plain": [
       "treat\n",
       "1    1607\n",
       "0     532\n",
       "Name: count, dtype: int64"
      ]
     },
     "execution_count": 14,
     "metadata": {},
     "output_type": "execute_result"
    }
   ],
   "source": [
    "df[\"treat\"].value_counts()"
   ]
  },
  {
   "cell_type": "code",
   "execution_count": 15,
   "id": "9108f874-166b-42c2-9f4a-8cb372e3bd3b",
   "metadata": {},
   "outputs": [
    {
     "data": {
      "text/plain": [
       "drugs\n",
       "0    1858\n",
       "1     281\n",
       "Name: count, dtype: int64"
      ]
     },
     "execution_count": 15,
     "metadata": {},
     "output_type": "execute_result"
    }
   ],
   "source": [
    "df[\"drugs\"].value_counts()"
   ]
  },
  {
   "cell_type": "code",
   "execution_count": 16,
   "id": "14613295-587b-432c-a0bc-df3d6e5d9d7a",
   "metadata": {},
   "outputs": [
    {
     "data": {
      "text/html": [
       "<div>\n",
       "<style scoped>\n",
       "    .dataframe tbody tr th:only-of-type {\n",
       "        vertical-align: middle;\n",
       "    }\n",
       "\n",
       "    .dataframe tbody tr th {\n",
       "        vertical-align: top;\n",
       "    }\n",
       "\n",
       "    .dataframe thead th {\n",
       "        text-align: right;\n",
       "    }\n",
       "</style>\n",
       "<table border=\"1\" class=\"dataframe\">\n",
       "  <thead>\n",
       "    <tr style=\"text-align: right;\">\n",
       "      <th></th>\n",
       "      <th>pidnum</th>\n",
       "      <th>cid</th>\n",
       "      <th>time</th>\n",
       "      <th>trt</th>\n",
       "      <th>age</th>\n",
       "      <th>wtkg</th>\n",
       "      <th>hemo</th>\n",
       "      <th>homo</th>\n",
       "      <th>drugs</th>\n",
       "      <th>karnof</th>\n",
       "      <th>race</th>\n",
       "      <th>gender</th>\n",
       "      <th>symptom</th>\n",
       "      <th>treat</th>\n",
       "    </tr>\n",
       "  </thead>\n",
       "  <tbody>\n",
       "  </tbody>\n",
       "</table>\n",
       "</div>"
      ],
      "text/plain": [
       "Empty DataFrame\n",
       "Columns: [pidnum, cid, time, trt, age, wtkg, hemo, homo, drugs, karnof, race, gender, symptom, treat]\n",
       "Index: []"
      ]
     },
     "execution_count": 16,
     "metadata": {},
     "output_type": "execute_result"
    }
   ],
   "source": [
    "# Los valores de la Escala Karnofsky se definen en el intervalo [0, 100].\n",
    "# No hay ningún dato fuera de este rango, es consistente.\n",
    "df[(df[\"karnof\"] < 0) | (df[\"karnof\"] > 100)]"
   ]
  },
  {
   "cell_type": "code",
   "execution_count": 17,
   "id": "b8d75800-71c7-4f93-b76f-161effc559f1",
   "metadata": {},
   "outputs": [
    {
     "data": {
      "text/plain": [
       "age\n",
       "12    3\n",
       "13    3\n",
       "14    6\n",
       "15    3\n",
       "16    7\n",
       "17    4\n",
       "18    7\n",
       "19    7\n",
       "61    2\n",
       "62    5\n",
       "63    6\n",
       "64    2\n",
       "65    3\n",
       "66    1\n",
       "67    2\n",
       "68    2\n",
       "69    1\n",
       "70    2\n",
       "Name: count, dtype: int64"
      ]
     },
     "execution_count": 17,
     "metadata": {},
     "output_type": "execute_result"
    }
   ],
   "source": [
    "# Se confirma el rango de edades visualmente\n",
    "\n",
    "df[(df[\"age\"] < 20) | (df['age'] > 60)]['age'].value_counts().sort_index()"
   ]
  },
  {
   "cell_type": "markdown",
   "id": "b25746c5-9405-497d-a2ac-ba6aca19ef43",
   "metadata": {},
   "source": [
    "El resto de las variables enteras y binarias cuentan con valores que no se salen de lo que son."
   ]
  },
  {
   "cell_type": "markdown",
   "id": "e9621e4b-e94b-4bdc-8895-748ab42d7510",
   "metadata": {},
   "source": [
    "#### - Consistencia:\n"
   ]
  },
  {
   "cell_type": "code",
   "execution_count": 18,
   "id": "71c6cedc-af31-4618-9807-c79fb90b9d46",
   "metadata": {},
   "outputs": [
    {
     "data": {
      "text/html": [
       "<div>\n",
       "<style scoped>\n",
       "    .dataframe tbody tr th:only-of-type {\n",
       "        vertical-align: middle;\n",
       "    }\n",
       "\n",
       "    .dataframe tbody tr th {\n",
       "        vertical-align: top;\n",
       "    }\n",
       "\n",
       "    .dataframe thead th {\n",
       "        text-align: right;\n",
       "    }\n",
       "</style>\n",
       "<table border=\"1\" class=\"dataframe\">\n",
       "  <thead>\n",
       "    <tr style=\"text-align: right;\">\n",
       "      <th></th>\n",
       "      <th>mean</th>\n",
       "      <th>std</th>\n",
       "      <th>min</th>\n",
       "      <th>max</th>\n",
       "    </tr>\n",
       "  </thead>\n",
       "  <tbody>\n",
       "    <tr>\n",
       "      <th>wtkg</th>\n",
       "      <td>75.125311</td>\n",
       "      <td>13.263164</td>\n",
       "      <td>31.0</td>\n",
       "      <td>159.93936</td>\n",
       "    </tr>\n",
       "    <tr>\n",
       "      <th>age</th>\n",
       "      <td>35.248247</td>\n",
       "      <td>8.709026</td>\n",
       "      <td>12.0</td>\n",
       "      <td>70.00000</td>\n",
       "    </tr>\n",
       "    <tr>\n",
       "      <th>karnof</th>\n",
       "      <td>95.446470</td>\n",
       "      <td>5.900985</td>\n",
       "      <td>70.0</td>\n",
       "      <td>100.00000</td>\n",
       "    </tr>\n",
       "  </tbody>\n",
       "</table>\n",
       "</div>"
      ],
      "text/plain": [
       "             mean        std   min        max\n",
       "wtkg    75.125311  13.263164  31.0  159.93936\n",
       "age     35.248247   8.709026  12.0   70.00000\n",
       "karnof  95.446470   5.900985  70.0  100.00000"
      ]
     },
     "execution_count": 18,
     "metadata": {},
     "output_type": "execute_result"
    }
   ],
   "source": [
    "df[[\"wtkg\", \"age\", \"karnof\"]].describe().T[[\"mean\",\"std\",\"min\",\"max\"]]"
   ]
  },
  {
   "cell_type": "markdown",
   "id": "7873ba20-2c92-40ac-a778-1896e53b8b10",
   "metadata": {},
   "source": [
    "Note que el peso tiene una variación enorme, hay individuos de 31 kilos y otros de 160. Esto puede representar anomalías. A continuación valores que pueden estimar valores extremos de obesidad y desnutrición"
   ]
  },
  {
   "cell_type": "code",
   "execution_count": 19,
   "id": "6df7b791-1a91-4e68-8441-9755dd177098",
   "metadata": {},
   "outputs": [
    {
     "name": "stdout",
     "output_type": "stream",
     "text": [
      "12\n",
      "1\n"
     ]
    }
   ],
   "source": [
    "print(df[df[\"wtkg\"] > 120].shape[0])\n",
    "print(df[ (df[\"wtkg\"] < 40) & (df[\"age\"]>15)].shape[0])"
   ]
  },
  {
   "cell_type": "code",
   "execution_count": 20,
   "id": "aa321ebd-b8dd-4ef1-bcf4-6bd214ef186a",
   "metadata": {},
   "outputs": [
    {
     "data": {
      "text/html": [
       "<div>\n",
       "<style scoped>\n",
       "    .dataframe tbody tr th:only-of-type {\n",
       "        vertical-align: middle;\n",
       "    }\n",
       "\n",
       "    .dataframe tbody tr th {\n",
       "        vertical-align: top;\n",
       "    }\n",
       "\n",
       "    .dataframe thead th {\n",
       "        text-align: right;\n",
       "    }\n",
       "</style>\n",
       "<table border=\"1\" class=\"dataframe\">\n",
       "  <thead>\n",
       "    <tr style=\"text-align: right;\">\n",
       "      <th></th>\n",
       "      <th>pidnum</th>\n",
       "      <th>age</th>\n",
       "      <th>wtkg</th>\n",
       "    </tr>\n",
       "  </thead>\n",
       "  <tbody>\n",
       "    <tr>\n",
       "      <th>304</th>\n",
       "      <td>50629</td>\n",
       "      <td>46</td>\n",
       "      <td>123.37920</td>\n",
       "    </tr>\n",
       "    <tr>\n",
       "      <th>629</th>\n",
       "      <td>110717</td>\n",
       "      <td>36</td>\n",
       "      <td>120.65760</td>\n",
       "    </tr>\n",
       "    <tr>\n",
       "      <th>945</th>\n",
       "      <td>170972</td>\n",
       "      <td>38</td>\n",
       "      <td>130.63680</td>\n",
       "    </tr>\n",
       "    <tr>\n",
       "      <th>1060</th>\n",
       "      <td>190408</td>\n",
       "      <td>39</td>\n",
       "      <td>127.70000</td>\n",
       "    </tr>\n",
       "    <tr>\n",
       "      <th>1084</th>\n",
       "      <td>210039</td>\n",
       "      <td>30</td>\n",
       "      <td>149.00000</td>\n",
       "    </tr>\n",
       "    <tr>\n",
       "      <th>1177</th>\n",
       "      <td>220432</td>\n",
       "      <td>30</td>\n",
       "      <td>129.00000</td>\n",
       "    </tr>\n",
       "    <tr>\n",
       "      <th>1441</th>\n",
       "      <td>251059</td>\n",
       "      <td>45</td>\n",
       "      <td>127.00800</td>\n",
       "    </tr>\n",
       "    <tr>\n",
       "      <th>1569</th>\n",
       "      <td>270883</td>\n",
       "      <td>28</td>\n",
       "      <td>125.64720</td>\n",
       "    </tr>\n",
       "    <tr>\n",
       "      <th>1622</th>\n",
       "      <td>300517</td>\n",
       "      <td>31</td>\n",
       "      <td>122.47200</td>\n",
       "    </tr>\n",
       "    <tr>\n",
       "      <th>1707</th>\n",
       "      <td>320357</td>\n",
       "      <td>28</td>\n",
       "      <td>159.93936</td>\n",
       "    </tr>\n",
       "    <tr>\n",
       "      <th>1773</th>\n",
       "      <td>330242</td>\n",
       "      <td>30</td>\n",
       "      <td>135.17280</td>\n",
       "    </tr>\n",
       "    <tr>\n",
       "      <th>1837</th>\n",
       "      <td>520014</td>\n",
       "      <td>33</td>\n",
       "      <td>120.65760</td>\n",
       "    </tr>\n",
       "  </tbody>\n",
       "</table>\n",
       "</div>"
      ],
      "text/plain": [
       "      pidnum  age       wtkg\n",
       "304    50629   46  123.37920\n",
       "629   110717   36  120.65760\n",
       "945   170972   38  130.63680\n",
       "1060  190408   39  127.70000\n",
       "1084  210039   30  149.00000\n",
       "1177  220432   30  129.00000\n",
       "1441  251059   45  127.00800\n",
       "1569  270883   28  125.64720\n",
       "1622  300517   31  122.47200\n",
       "1707  320357   28  159.93936\n",
       "1773  330242   30  135.17280\n",
       "1837  520014   33  120.65760"
      ]
     },
     "execution_count": 20,
     "metadata": {},
     "output_type": "execute_result"
    }
   ],
   "source": [
    "# Revisemos estos registros\n",
    "\n",
    "df[df[\"wtkg\"] > 120][[\"pidnum\", \"age\", \"wtkg\"]]\n",
    "\n",
    "# Se ve razonable."
   ]
  },
  {
   "cell_type": "code",
   "execution_count": 21,
   "id": "96167761-bc74-4e37-853b-64ce2a61ce80",
   "metadata": {},
   "outputs": [
    {
     "data": {
      "text/html": [
       "<div>\n",
       "<style scoped>\n",
       "    .dataframe tbody tr th:only-of-type {\n",
       "        vertical-align: middle;\n",
       "    }\n",
       "\n",
       "    .dataframe tbody tr th {\n",
       "        vertical-align: top;\n",
       "    }\n",
       "\n",
       "    .dataframe thead th {\n",
       "        text-align: right;\n",
       "    }\n",
       "</style>\n",
       "<table border=\"1\" class=\"dataframe\">\n",
       "  <thead>\n",
       "    <tr style=\"text-align: right;\">\n",
       "      <th></th>\n",
       "      <th>pidnum</th>\n",
       "      <th>cid</th>\n",
       "      <th>time</th>\n",
       "      <th>trt</th>\n",
       "      <th>age</th>\n",
       "      <th>wtkg</th>\n",
       "      <th>hemo</th>\n",
       "      <th>homo</th>\n",
       "      <th>drugs</th>\n",
       "      <th>karnof</th>\n",
       "      <th>race</th>\n",
       "      <th>gender</th>\n",
       "      <th>symptom</th>\n",
       "      <th>treat</th>\n",
       "    </tr>\n",
       "  </thead>\n",
       "  <tbody>\n",
       "    <tr>\n",
       "      <th>1931</th>\n",
       "      <td>610043</td>\n",
       "      <td>0</td>\n",
       "      <td>225</td>\n",
       "      <td>2</td>\n",
       "      <td>30</td>\n",
       "      <td>36.78696</td>\n",
       "      <td>0</td>\n",
       "      <td>1</td>\n",
       "      <td>0</td>\n",
       "      <td>90</td>\n",
       "      <td>0</td>\n",
       "      <td>1</td>\n",
       "      <td>0</td>\n",
       "      <td>1</td>\n",
       "    </tr>\n",
       "  </tbody>\n",
       "</table>\n",
       "</div>"
      ],
      "text/plain": [
       "      pidnum  cid  time  trt  age      wtkg  hemo  homo  drugs  karnof  race  \\\n",
       "1931  610043    0   225    2   30  36.78696     0     1      0      90     0   \n",
       "\n",
       "      gender  symptom  treat  \n",
       "1931       1        0      1  "
      ]
     },
     "execution_count": 21,
     "metadata": {},
     "output_type": "execute_result"
    }
   ],
   "source": [
    "df[(df[\"wtkg\"] < 40) & (df[\"age\"]>15)]\n",
    "\n",
    "# Esta persona tiene 30 años y pesa 36.78 kg con un karnof de 90. Se ve sospechoso."
   ]
  },
  {
   "cell_type": "code",
   "execution_count": 22,
   "id": "9c56d325-43b7-4192-ac48-9c30a1922c35",
   "metadata": {},
   "outputs": [
    {
     "data": {
      "text/html": [
       "<div>\n",
       "<style scoped>\n",
       "    .dataframe tbody tr th:only-of-type {\n",
       "        vertical-align: middle;\n",
       "    }\n",
       "\n",
       "    .dataframe tbody tr th {\n",
       "        vertical-align: top;\n",
       "    }\n",
       "\n",
       "    .dataframe thead th {\n",
       "        text-align: right;\n",
       "    }\n",
       "</style>\n",
       "<table border=\"1\" class=\"dataframe\">\n",
       "  <thead>\n",
       "    <tr style=\"text-align: right;\">\n",
       "      <th></th>\n",
       "      <th>pidnum</th>\n",
       "      <th>cid</th>\n",
       "      <th>time</th>\n",
       "      <th>trt</th>\n",
       "      <th>age</th>\n",
       "      <th>wtkg</th>\n",
       "      <th>hemo</th>\n",
       "      <th>homo</th>\n",
       "      <th>drugs</th>\n",
       "      <th>karnof</th>\n",
       "      <th>race</th>\n",
       "      <th>gender</th>\n",
       "      <th>symptom</th>\n",
       "      <th>treat</th>\n",
       "    </tr>\n",
       "  </thead>\n",
       "  <tbody>\n",
       "    <tr>\n",
       "      <th>1931</th>\n",
       "      <td>610043</td>\n",
       "      <td>0</td>\n",
       "      <td>225</td>\n",
       "      <td>2</td>\n",
       "      <td>30</td>\n",
       "      <td>36.78696</td>\n",
       "      <td>0</td>\n",
       "      <td>1</td>\n",
       "      <td>0</td>\n",
       "      <td>90</td>\n",
       "      <td>0</td>\n",
       "      <td>1</td>\n",
       "      <td>0</td>\n",
       "      <td>1</td>\n",
       "    </tr>\n",
       "    <tr>\n",
       "      <th>2014</th>\n",
       "      <td>910034</td>\n",
       "      <td>0</td>\n",
       "      <td>1121</td>\n",
       "      <td>2</td>\n",
       "      <td>13</td>\n",
       "      <td>32.65920</td>\n",
       "      <td>1</td>\n",
       "      <td>0</td>\n",
       "      <td>0</td>\n",
       "      <td>100</td>\n",
       "      <td>0</td>\n",
       "      <td>1</td>\n",
       "      <td>1</td>\n",
       "      <td>1</td>\n",
       "    </tr>\n",
       "    <tr>\n",
       "      <th>2072</th>\n",
       "      <td>950056</td>\n",
       "      <td>1</td>\n",
       "      <td>324</td>\n",
       "      <td>1</td>\n",
       "      <td>12</td>\n",
       "      <td>31.00000</td>\n",
       "      <td>1</td>\n",
       "      <td>0</td>\n",
       "      <td>0</td>\n",
       "      <td>100</td>\n",
       "      <td>0</td>\n",
       "      <td>1</td>\n",
       "      <td>0</td>\n",
       "      <td>1</td>\n",
       "    </tr>\n",
       "  </tbody>\n",
       "</table>\n",
       "</div>"
      ],
      "text/plain": [
       "      pidnum  cid  time  trt  age      wtkg  hemo  homo  drugs  karnof  race  \\\n",
       "1931  610043    0   225    2   30  36.78696     0     1      0      90     0   \n",
       "2014  910034    0  1121    2   13  32.65920     1     0      0     100     0   \n",
       "2072  950056    1   324    1   12  31.00000     1     0      0     100     0   \n",
       "\n",
       "      gender  symptom  treat  \n",
       "1931       1        0      1  \n",
       "2014       1        1      1  \n",
       "2072       1        0      1  "
      ]
     },
     "execution_count": 22,
     "metadata": {},
     "output_type": "execute_result"
    }
   ],
   "source": [
    "df[(df[\"wtkg\"] < 40)]"
   ]
  },
  {
   "cell_type": "code",
   "execution_count": 23,
   "id": "dadd9947-63af-481f-8ca1-7fe12c0d919f",
   "metadata": {},
   "outputs": [
    {
     "name": "stdout",
     "output_type": "stream",
     "text": [
      "532\n",
      "532\n"
     ]
    }
   ],
   "source": [
    "# La variable treat se puede obtener de trt, entonces, cuando trt sea 0 treat debe ser 0. \n",
    "# Vemos que no hay instancias donde esto no se cumpla. La variable treat es lo que dice ser.\n",
    "\n",
    "print(df[(df[\"trt\"] == 0) & (df[\"treat\"] == 0)].shape[0])\n",
    "print(df[df[\"treat\"] == 0].shape[0])"
   ]
  },
  {
   "cell_type": "code",
   "execution_count": null,
   "id": "8c42e0ef-ed6b-4f7d-b96f-7beb70b97669",
   "metadata": {},
   "outputs": [],
   "source": []
  },
  {
   "cell_type": "code",
   "execution_count": 24,
   "id": "af277066-51d3-43e8-a174-0c87ee3ac125",
   "metadata": {},
   "outputs": [
    {
     "name": "stdout",
     "output_type": "stream",
     "text": [
      "             age    karnof\n",
      "age     1.000000 -0.084544\n",
      "karnof -0.084544  1.000000\n"
     ]
    },
    {
     "data": {
      "image/png": "[encoded data removed]",
      "text/plain": [
       "<Figure size 640x480 with 1 Axes>"
      ]
     },
     "metadata": {},
     "output_type": "display_data"
    }
   ],
   "source": [
    "import matplotlib.pyplot as plt\n",
    "print(df[['age', 'karnof']].corr(method='spearman'))\n",
    "plt.scatter(df['age'], df['karnof'])\n",
    "plt.xlabel('Edad')\n",
    "plt.ylabel('Índice Karnofsky')\n",
    "plt.show()\n"
   ]
  },
  {
   "cell_type": "markdown",
   "id": "aa361bb4-6b51-4363-bb91-a345e46210e5",
   "metadata": {},
   "source": [
    "Hay una correlacion negativa entre edad y karnofsky, el cual es esperado al debilitarse el sistema inmune y reducirse la funcionalidad física de los pacientes."
   ]
  },
  {
   "cell_type": "code",
   "execution_count": 25,
   "id": "c359b73c-420a-46a5-921a-f7720e17fb96",
   "metadata": {},
   "outputs": [
    {
     "name": "stdout",
     "output_type": "stream",
     "text": [
      "            wtkg    karnof\n",
      "wtkg    1.000000  0.040878\n",
      "karnof  0.040878  1.000000\n"
     ]
    },
    {
     "data": {
      "image/png": "[encoded data removed]",
      "text/plain": [
       "<Figure size 640x480 with 1 Axes>"
      ]
     },
     "metadata": {},
     "output_type": "display_data"
    }
   ],
   "source": [
    "print(df[['wtkg', 'karnof']].corr(method='spearman'))\n",
    "plt.scatter(df['wtkg'], df['karnof'])\n",
    "plt.xlabel('Peso')\n",
    "plt.ylabel('Índice Karnofsky')\n",
    "plt.show()"
   ]
  },
  {
   "cell_type": "markdown",
   "id": "3bbabf6a-15cb-41d4-bc76-bfc1f39fbdfc",
   "metadata": {},
   "source": [
    "La correlación entre peso y karnofsky puede variar, al tener menor puntaje en pesos extremos, pero valores altos en pesos saludables"
   ]
  },
  {
   "cell_type": "code",
   "execution_count": 26,
   "id": "fc1773b3-4d83-482c-abee-d03fdc339379",
   "metadata": {},
   "outputs": [
    {
     "data": {
      "image/png": "[encoded data removed]",
      "text/plain": [
       "<Figure size 500x500 with 2 Axes>"
      ]
     },
     "metadata": {},
     "output_type": "display_data"
    }
   ],
   "source": [
    "import seaborn as sns\n",
    "import matplotlib.pyplot as plt\n",
    "\n",
    "vars_numericas = [\"time\", \"age\", \"wtkg\", \"karnof\"]\n",
    "corr = df[vars_numericas].corr(method=\"pearson\")\n",
    "\n",
    "plt.figure(figsize=(5, 5))\n",
    "sns.heatmap(corr, annot=True, fmt=\".2f\", cmap=\"BuPu\")\n",
    "plt.title(\"Matriz de correlación entre variables continuas\")\n",
    "plt.show()\n"
   ]
  },
  {
   "cell_type": "markdown",
   "id": "19e2860b-0b9a-44e2-9e62-9b6698633483",
   "metadata": {},
   "source": [
    "## Detección de outliers unidimensionales para edad, peso y coeficiente de Karnofsky\n",
    "\n",
    "Decidimos detectar los outliers en estas variables ya que tienen el mayor impacto en la condición de salud del paciente. \n",
    "\n"
   ]
  },
  {
   "cell_type": "code",
   "execution_count": 27,
   "id": "8d0f272a-d230-4303-a335-e557f33e4469",
   "metadata": {},
   "outputs": [
    {
     "data": {
      "image/png": "[encoded data removed]",
      "text/plain": [
       "<Figure size 600x400 with 1 Axes>"
      ]
     },
     "metadata": {},
     "output_type": "display_data"
    },
    {
     "data": {
      "image/png": "[encoded data removed]",
      "text/plain": [
       "<Figure size 600x400 with 1 Axes>"
      ]
     },
     "metadata": {},
     "output_type": "display_data"
    },
    {
     "data": {
      "image/png": "[encoded data removed]",
      "text/plain": [
       "<Figure size 600x400 with 1 Axes>"
      ]
     },
     "metadata": {},
     "output_type": "display_data"
    }
   ],
   "source": [
    "import matplotlib.pyplot as plt\n",
    "urlcsv = \"http://archive.ics.uci.edu/static/public/890/data.csv\"\n",
    "df = pd.read_csv(urlcsv)\n",
    "vars_interes = ['age', 'wtkg', 'karnof']\n",
    "\n",
    "# Un boxplot separado para cada variable\n",
    "for var in vars_interes:\n",
    "    plt.figure(figsize=(6,4))\n",
    "    df.boxplot(column=var)\n",
    "    plt.title(f'Boxplot de {var}')\n",
    "    plt.ylabel(var)\n",
    "    plt.grid(True)\n",
    "    plt.show()"
   ]
  },
  {
   "cell_type": "markdown",
   "id": "35715281-234e-43f3-87c5-6b5d252296e1",
   "metadata": {},
   "source": [
    "### Detección de outliers para edad y peso\n",
    "Se usó un método de distancia de mahalanobis y además el DBSCAN para encontrar datos que no se acumulan. Los resultados de outliers dependen evidentemente de la distancia que tiene la curva de contorno de mahalanobis y el radio que se usa en el DBSCAN.\n"
   ]
  },
  {
   "cell_type": "code",
   "execution_count": 28,
   "id": "0d69b4a5-352a-4c22-98c4-7458cf94c445",
   "metadata": {},
   "outputs": [
    {
     "data": {
      "image/png": "[encoded data removed]",
      "text/plain": [
       "<Figure size 800x600 with 1 Axes>"
      ]
     },
     "metadata": {},
     "output_type": "display_data"
    },
    {
     "data": {
      "text/html": [
       "<div>\n",
       "<style scoped>\n",
       "    .dataframe tbody tr th:only-of-type {\n",
       "        vertical-align: middle;\n",
       "    }\n",
       "\n",
       "    .dataframe tbody tr th {\n",
       "        vertical-align: top;\n",
       "    }\n",
       "\n",
       "    .dataframe thead th {\n",
       "        text-align: right;\n",
       "    }\n",
       "</style>\n",
       "<table border=\"1\" class=\"dataframe\">\n",
       "  <thead>\n",
       "    <tr style=\"text-align: right;\">\n",
       "      <th></th>\n",
       "      <th>age</th>\n",
       "      <th>wtkg</th>\n",
       "    </tr>\n",
       "  </thead>\n",
       "  <tbody>\n",
       "    <tr>\n",
       "      <th>1</th>\n",
       "      <td>61</td>\n",
       "      <td>49.4424</td>\n",
       "    </tr>\n",
       "    <tr>\n",
       "      <th>49</th>\n",
       "      <td>67</td>\n",
       "      <td>71.0000</td>\n",
       "    </tr>\n",
       "    <tr>\n",
       "      <th>104</th>\n",
       "      <td>70</td>\n",
       "      <td>73.9368</td>\n",
       "    </tr>\n",
       "    <tr>\n",
       "      <th>271</th>\n",
       "      <td>68</td>\n",
       "      <td>90.5000</td>\n",
       "    </tr>\n",
       "    <tr>\n",
       "      <th>518</th>\n",
       "      <td>68</td>\n",
       "      <td>70.7616</td>\n",
       "    </tr>\n",
       "  </tbody>\n",
       "</table>\n",
       "</div>"
      ],
      "text/plain": [
       "     age     wtkg\n",
       "1     61  49.4424\n",
       "49    67  71.0000\n",
       "104   70  73.9368\n",
       "271   68  90.5000\n",
       "518   68  70.7616"
      ]
     },
     "execution_count": 28,
     "metadata": {},
     "output_type": "execute_result"
    }
   ],
   "source": [
    "import pandas as pd\n",
    "import numpy as np\n",
    "from scipy.stats import chi2\n",
    "import matplotlib.pyplot as plt\n",
    "\n",
    "# Cargar los datos nuevamente\n",
    "file_path = \"http://archive.ics.uci.edu/static/public/890/data.csv\"\n",
    "df = pd.read_csv(file_path)\n",
    "\n",
    "# Seleccionar variables relevantes\n",
    "data = df[['age', 'wtkg']]\n",
    "\n",
    "# Calcular media y matriz de covarianza\n",
    "mean_vec = np.mean(data, axis=0)\n",
    "cov_matrix = np.cov(data, rowvar=False)\n",
    "inv_cov_matrix = np.linalg.inv(cov_matrix)\n",
    "\n",
    "# Función para distancia de Mahalanobis\n",
    "def mahalanobis_distance(x, mean_vec, inv_cov_matrix):\n",
    "    x_minus_mu = x - mean_vec\n",
    "    return np.sqrt(x_minus_mu @ inv_cov_matrix @ x_minus_mu.T)\n",
    "\n",
    "# Calcular distancias\n",
    "distances = data.apply(lambda row: mahalanobis_distance(row, mean_vec, inv_cov_matrix), axis=1)\n",
    "\n",
    "# Umbral para p < 0.001\n",
    "threshold = np.sqrt(chi2.ppf(0.999, df=data.shape[1]))\n",
    "outliers = distances > threshold\n",
    "outlier_points = data[outliers]\n",
    "\n",
    "# Gráfico\n",
    "plt.figure(figsize=(8, 6))\n",
    "plt.scatter(data['age'], data['wtkg'], c='blue', label='Datos normales')\n",
    "plt.scatter(outlier_points['age'], outlier_points['wtkg'], c='red', label='Outliers')\n",
    "plt.xlabel('Edad')\n",
    "plt.ylabel('Peso (kg)')\n",
    "plt.title('Outliers (Distancia de Mahalanobis)')\n",
    "plt.legend()\n",
    "plt.grid(True)\n",
    "plt.show()\n",
    "\n",
    "outlier_points.head()"
   ]
  },
  {
   "cell_type": "code",
   "execution_count": 29,
   "id": "1159158b-1178-4265-b1a2-4e98714299e8",
   "metadata": {},
   "outputs": [
    {
     "name": "stdout",
     "output_type": "stream",
     "text": [
      "Número de outliers detectados: 21\n"
     ]
    },
    {
     "data": {
      "image/png": "[encoded data removed]",
      "text/plain": [
       "<Figure size 800x600 with 1 Axes>"
      ]
     },
     "metadata": {},
     "output_type": "display_data"
    }
   ],
   "source": [
    "import pandas as pd\n",
    "import numpy as np\n",
    "from sklearn.preprocessing import StandardScaler\n",
    "from sklearn.cluster import DBSCAN\n",
    "import matplotlib.pyplot as plt\n",
    "\n",
    "# Cargar los datos nuevamente\n",
    "file_path = \"http://archive.ics.uci.edu/static/public/890/data.csv\"\n",
    "df = pd.read_csv(file_path)\n",
    "\n",
    "data = df[['age', 'wtkg']]\n",
    "\n",
    "scaler = StandardScaler()\n",
    "data_scaled = scaler.fit_transform(data)\n",
    "dbscan = DBSCAN(eps = 0.6, min_samples = 10)\n",
    "labels = dbscan.fit_predict(data_scaled)\n",
    "\n",
    "data_outliers = data.copy()\n",
    "data_outliers['cluster'] = labels\n",
    "\n",
    "outliers_detectados = data_outliers[data_outliers['cluster'] == -1]\n",
    "print(f\"Número de outliers detectados: {outliers_detectados.shape[0]}\")\n",
    "labels = data_outliers['cluster'].values\n",
    "unique_labels = np.unique(labels)\n",
    "\n",
    "plt.figure(figsize=(8,6))\n",
    "\n",
    "for lab in unique_labels:\n",
    "    idx = labels == lab\n",
    "    if lab == -1:\n",
    "        # Outliers (DBSCAN noise)\n",
    "        plt.scatter(data_outliers.loc[idx, 'age'],\n",
    "                    data_outliers.loc[idx, 'wtkg'],\n",
    "                    c='black', marker='x', label='Outliers')\n",
    "    else:\n",
    "        plt.scatter(data_outliers.loc[idx, 'age'],\n",
    "                    data_outliers.loc[idx, 'wtkg'],\n",
    "                    label=f'Cluster {lab}')\n",
    "\n",
    "plt.title(\"Clusters y outliers detectados por DBSCAN (Age vs Weight)\")\n",
    "plt.xlabel(\"Edad (age)\")\n",
    "plt.ylabel(\"Peso (wtkg)\")\n",
    "plt.legend()\n",
    "plt.show()"
   ]
  },
  {
   "cell_type": "markdown",
   "id": "e538d9c0-ffdb-4bb9-b7aa-09aa6700c3b5",
   "metadata": {},
   "source": [
    "#### - Precisión/Exactitud:"
   ]
  },
  {
   "cell_type": "markdown",
   "id": "744fe8d0-df9b-4466-8fe7-7a85c6b1b095",
   "metadata": {},
   "source": [
    "Para la precisión se analizará si las variables están en rangos normales, especificamente para el peso y la edad. \n"
   ]
  },
  {
   "cell_type": "code",
   "execution_count": 30,
   "id": "928dfbeb-69ed-4237-be10-47b42fdab5aa",
   "metadata": {},
   "outputs": [
    {
     "data": {
      "text/html": [
       "<div>\n",
       "<style scoped>\n",
       "    .dataframe tbody tr th:only-of-type {\n",
       "        vertical-align: middle;\n",
       "    }\n",
       "\n",
       "    .dataframe tbody tr th {\n",
       "        vertical-align: top;\n",
       "    }\n",
       "\n",
       "    .dataframe thead th {\n",
       "        text-align: right;\n",
       "    }\n",
       "</style>\n",
       "<table border=\"1\" class=\"dataframe\">\n",
       "  <thead>\n",
       "    <tr style=\"text-align: right;\">\n",
       "      <th></th>\n",
       "      <th>pidnum</th>\n",
       "      <th>cid</th>\n",
       "      <th>time</th>\n",
       "      <th>trt</th>\n",
       "      <th>age</th>\n",
       "      <th>wtkg</th>\n",
       "      <th>hemo</th>\n",
       "      <th>homo</th>\n",
       "      <th>drugs</th>\n",
       "      <th>karnof</th>\n",
       "      <th>...</th>\n",
       "      <th>gender</th>\n",
       "      <th>str2</th>\n",
       "      <th>strat</th>\n",
       "      <th>symptom</th>\n",
       "      <th>treat</th>\n",
       "      <th>offtrt</th>\n",
       "      <th>cd40</th>\n",
       "      <th>cd420</th>\n",
       "      <th>cd80</th>\n",
       "      <th>cd820</th>\n",
       "    </tr>\n",
       "  </thead>\n",
       "  <tbody>\n",
       "  </tbody>\n",
       "</table>\n",
       "<p>0 rows × 25 columns</p>\n",
       "</div>"
      ],
      "text/plain": [
       "Empty DataFrame\n",
       "Columns: [pidnum, cid, time, trt, age, wtkg, hemo, homo, drugs, karnof, oprior, z30, zprior, preanti, race, gender, str2, strat, symptom, treat, offtrt, cd40, cd420, cd80, cd820]\n",
       "Index: []\n",
       "\n",
       "[0 rows x 25 columns]"
      ]
     },
     "execution_count": 30,
     "metadata": {},
     "output_type": "execute_result"
    }
   ],
   "source": [
    "df[(df[\"wtkg\"] > 200 ) | (df[\"wtkg\"] < 20)]"
   ]
  },
  {
   "cell_type": "code",
   "execution_count": 31,
   "id": "a7b72955-794d-4381-bbdb-cd5ff9de2a7f",
   "metadata": {},
   "outputs": [
    {
     "data": {
      "text/html": [
       "<div>\n",
       "<style scoped>\n",
       "    .dataframe tbody tr th:only-of-type {\n",
       "        vertical-align: middle;\n",
       "    }\n",
       "\n",
       "    .dataframe tbody tr th {\n",
       "        vertical-align: top;\n",
       "    }\n",
       "\n",
       "    .dataframe thead th {\n",
       "        text-align: right;\n",
       "    }\n",
       "</style>\n",
       "<table border=\"1\" class=\"dataframe\">\n",
       "  <thead>\n",
       "    <tr style=\"text-align: right;\">\n",
       "      <th></th>\n",
       "      <th>pidnum</th>\n",
       "      <th>cid</th>\n",
       "      <th>time</th>\n",
       "      <th>trt</th>\n",
       "      <th>age</th>\n",
       "      <th>wtkg</th>\n",
       "      <th>hemo</th>\n",
       "      <th>homo</th>\n",
       "      <th>drugs</th>\n",
       "      <th>karnof</th>\n",
       "      <th>...</th>\n",
       "      <th>gender</th>\n",
       "      <th>str2</th>\n",
       "      <th>strat</th>\n",
       "      <th>symptom</th>\n",
       "      <th>treat</th>\n",
       "      <th>offtrt</th>\n",
       "      <th>cd40</th>\n",
       "      <th>cd420</th>\n",
       "      <th>cd80</th>\n",
       "      <th>cd820</th>\n",
       "    </tr>\n",
       "  </thead>\n",
       "  <tbody>\n",
       "  </tbody>\n",
       "</table>\n",
       "<p>0 rows × 25 columns</p>\n",
       "</div>"
      ],
      "text/plain": [
       "Empty DataFrame\n",
       "Columns: [pidnum, cid, time, trt, age, wtkg, hemo, homo, drugs, karnof, oprior, z30, zprior, preanti, race, gender, str2, strat, symptom, treat, offtrt, cd40, cd420, cd80, cd820]\n",
       "Index: []\n",
       "\n",
       "[0 rows x 25 columns]"
      ]
     },
     "execution_count": 31,
     "metadata": {},
     "output_type": "execute_result"
    }
   ],
   "source": [
    "df[(df[\"age\"] > 100) | (df[\"age\"]<0)]"
   ]
  },
  {
   "cell_type": "markdown",
   "id": "bcef94eb-97e3-440a-aed8-2a39cde4172d",
   "metadata": {},
   "source": [
    "Hay fallas en la precisión en la variable race, al representar de manera precisa únicamente los individuos blancos. Aquellos registros con valor de race = 1, no se les puede representar de manera precisa al únicamente poder decir que el individuo no es blanco. Esto puede tener relevancia, ya que se pierde información en la correlación entre la raza y otras variables."
   ]
  },
  {
   "cell_type": "markdown",
   "id": "43ee0db7-bd4e-408f-9d95-fe9d7e946f23",
   "metadata": {},
   "source": [
    "#### - Duplicidad/Unicidad:"
   ]
  },
  {
   "cell_type": "code",
   "execution_count": 32,
   "id": "3988797a-9489-4d16-b3d3-f7d6af2a1201",
   "metadata": {},
   "outputs": [
    {
     "data": {
      "text/plain": [
       "np.int64(0)"
      ]
     },
     "execution_count": 32,
     "metadata": {},
     "output_type": "execute_result"
    }
   ],
   "source": [
    "df.duplicated().sum()"
   ]
  },
  {
   "cell_type": "markdown",
   "id": "5245b75d-6475-4648-8ab4-7668f294f749",
   "metadata": {},
   "source": [
    "No existen registros repetidos"
   ]
  },
  {
   "cell_type": "code",
   "execution_count": 33,
   "id": "50411417-c9e9-4b51-b041-9004f3110f6c",
   "metadata": {},
   "outputs": [
    {
     "data": {
      "text/plain": [
       "True"
      ]
     },
     "execution_count": 33,
     "metadata": {},
     "output_type": "execute_result"
    }
   ],
   "source": [
    "# Cada paciente tiene un id único.\n",
    "df['pidnum'].is_unique"
   ]
  },
  {
   "cell_type": "markdown",
   "id": "ce0e6592-db32-4583-a29b-83bbe0bfe250",
   "metadata": {},
   "source": [
    "#### - Integridad:"
   ]
  },
  {
   "cell_type": "markdown",
   "id": "2f320cfb-9e6f-4cfa-9bc5-1625d9668c81",
   "metadata": {},
   "source": [
    "Todos los datos provienen de una misma fuente, al sólo haber una fuente de datos es evidente que debe estar sincronizada consigo misma. Es decir, los datos cumplen con la dimensión de calidad \"integridad\". "
   ]
  },
  {
   "cell_type": "markdown",
   "id": "14be5522-3550-435e-943a-702c849fcec0",
   "metadata": {},
   "source": [
    "## Pasos futuros a desarrollar\n",
    "Antes de continuar de pasar a otros pasos del CRISP-DM, se debería de revisar la posibilidad de usar datos mas recientes, esoecialmente que cumplan con las dimensiones de completitud y precisión según con lo escrito anteriormente. \n",
    "Además, se debe preparar los datos, especialmente crear nuevas variables más descriptivas para poder predecir la mortalidad.\n",
    "Se debe partir el dataset para entrenamiento, testeo y validación.\n",
    "\n",
    "Después de esto, se debe proseguir con el modelado, en el cual se debe de escoger un modelo de clasificación.\n",
    "\n",
    "Para la evaluación se debe evaluar el desempeño del modelo con algunos estadísticos y medidas de error. También, se debe ver si el modelo cumple los objetivos de negocio.\n",
    "\n",
    "En caso tal, se puede proceder con el despliegue, el cual incluye la documentación de resultados y subir el modelo, ya sea a un servidor, a un servicio cloud o a un contenedor, etc.\n",
    "\n",
    "\n"
   ]
  },
  {
   "cell_type": "code",
   "execution_count": null,
   "id": "3c2fb46c-a847-45c2-b0e4-433ce2fc6d04",
   "metadata": {},
   "outputs": [],
   "source": []
  },
  {
   "cell_type": "markdown",
   "id": "2c125838-c92a-419e-a349-61910cbecd4c",
   "metadata": {},
   "source": [
    "# Punto 2"
   ]
  },
  {
   "cell_type": "code",
   "execution_count": 34,
   "id": "db66355b-2327-4835-93e2-21933147273e",
   "metadata": {},
   "outputs": [
    {
     "ename": "NameError",
     "evalue": "name 'df2' is not defined",
     "output_type": "error",
     "traceback": [
      "\u001b[31m---------------------------------------------------------------------------\u001b[39m",
      "\u001b[31mNameError\u001b[39m                                 Traceback (most recent call last)",
      "\u001b[36mCell\u001b[39m\u001b[36m \u001b[39m\u001b[32mIn[34]\u001b[39m\u001b[32m, line 2\u001b[39m\n\u001b[32m      1\u001b[39m \u001b[38;5;66;03m#a)\u001b[39;00m\n\u001b[32m----> \u001b[39m\u001b[32m2\u001b[39m dfg = \u001b[43mdf2\u001b[49m.groupby(\u001b[33m'\u001b[39m\u001b[33mState\u001b[39m\u001b[33m'\u001b[39m)[\u001b[33m'\u001b[39m\u001b[33mAdult smoking\u001b[39m\u001b[33m'\u001b[39m].mean().sort_values(ascending=\u001b[38;5;28;01mFalse\u001b[39;00m)\n\u001b[32m      3\u001b[39m \u001b[38;5;28mprint\u001b[39m(dfg.head(\u001b[32m5\u001b[39m))\n\u001b[32m      6\u001b[39m \u001b[38;5;66;03m#b)\u001b[39;00m\n",
      "\u001b[31mNameError\u001b[39m: name 'df2' is not defined"
     ]
    }
   ],
   "source": [
    "#a)\n",
    "dfg = df2.groupby('State')['Adult smoking'].mean().sort_values(ascending=False)\n",
    "print(dfg.head(5))\n",
    "\n",
    "\n",
    "#b)\n",
    "import sqlite3  \n",
    "import sqlalchemy as sqla\n",
    "\n",
    "db = sqla.create_engine('sqlite:///datos.sqlite')\n",
    "df.to_sql('datos', con=db, if_exists='append', index=False)\n",
    "\n",
    "tabla = pd.read_sql(\"SELECT * FROM datos\", db)\n",
    "query = \"\"\"SELECT State, AVG(\"Adult smoking\") AS \"Smoking rate\" FROM datos GROUP BY State ORDER BY \"Smoking rate\" DESC LIMIT 5;\"\"\"\n",
    "\n",
    "resultado = pd.read_sql(query, db)\n",
    "resultado"
   ]
  },
  {
   "cell_type": "code",
   "execution_count": null,
   "id": "97288b55-2a02-40ec-9988-66d4363ad9c2",
   "metadata": {},
   "outputs": [],
   "source": [
    "import pandas as pd\n",
    "import numpy as np\n",
    "import matplotlib"
   ]
  },
  {
   "cell_type": "code",
   "execution_count": null,
   "id": "f3db907f-bb2e-47eb-8e38-ed01fcaf6c52",
   "metadata": {},
   "outputs": [],
   "source": [
    "df2 = pd.read_csv(\"CountyHealthData_2014-2015.csv\")\n",
    "df2"
   ]
  },
  {
   "cell_type": "markdown",
   "id": "00687ce0-dffa-41e0-960e-6c76267b3c85",
   "metadata": {},
   "source": [
    "### Condados con FEI mayores a 9 (Usando filtrado de Pandas)"
   ]
  },
  {
   "cell_type": "code",
   "execution_count": null,
   "id": "7b68f429-e428-4ab1-bb94-c24cea7684ff",
   "metadata": {},
   "outputs": [],
   "source": [
    "dfFEI9 = df2[df2[\"Food environment index\"]>=9]\n",
    "dfFEI9u = dfFEI9.drop_duplicates(['State','County'])"
   ]
  },
  {
   "cell_type": "code",
   "execution_count": null,
   "id": "b00e5412-c0d2-495c-a77f-23a4dee38a9d",
   "metadata": {},
   "outputs": [],
   "source": [
    "dfFEI9[\"State\"].value_counts().head(5)"
   ]
  },
  {
   "cell_type": "markdown",
   "id": "966bdd15-dffe-4b63-ab3f-83b93f9e42a0",
   "metadata": {},
   "source": [
    "### Condados con FEI mayores a 9 (Usando SQLite)"
   ]
  },
  {
   "cell_type": "code",
   "execution_count": null,
   "id": "484b0a66-1cef-45b4-a7e2-a7d6a9823531",
   "metadata": {},
   "outputs": [],
   "source": [
    "import pandas as pd\n",
    "from sqlalchemy import create_engine\n",
    "engine = create_engine('sqlite:///countyhealth.db', echo=False)\n",
    "county_health = df2.to_sql('county_health', con = engine, index = False, if_exists = 'replace')"
   ]
  },
  {
   "cell_type": "code",
   "execution_count": null,
   "id": "68fc30f2-2df9-4a6f-90de-103cf54c8086",
   "metadata": {},
   "outputs": [],
   "source": [
    "query = \"\"\" \n",
    "SELECT State, County, [Food environment index]\n",
    "FROM county_health\n",
    "WHERE [Food environment index] >= 9\n",
    "\"\"\"\n",
    "df2_filtrado = pd.read_sql(query, con = engine)\n",
    "\n",
    "top5_estados = (df2_filtrado.groupby('State')\n",
    "               .size()\n",
    "                .sort_values(ascending = False)\n",
    "                .head(5)\n",
    "               \n",
    "               )\n",
    "\n",
    "print(df2_filtrado.head())\n",
    "print(top5_estados)                "
   ]
  },
  {
   "cell_type": "markdown",
   "id": "16eaffc5-0e52-4f7e-9db7-456871979966",
   "metadata": {},
   "source": [
    "## Santiago vos haces el punto 3 del intropandas, o sea hacer el punto 1.a y 1.b con ese problema\n"
   ]
  },
  {
   "cell_type": "markdown",
   "id": "81afe33b-f8ae-44fb-85af-c13e3fb08b55",
   "metadata": {},
   "source": [
    "## ¿Qué estados tienen más de 100 condados? (Pandas)"
   ]
  },
  {
   "cell_type": "code",
   "execution_count": null,
   "id": "2b6d03c2-3640-4cdb-90d9-d99aa8c8c43b",
   "metadata": {},
   "outputs": [
    {
     "name": "stdout",
     "output_type": "stream",
     "text": [
      "Collecting plotly\n",
      "  Downloading plotly-6.3.0-py3-none-any.whl.metadata (8.5 kB)\n",
      "Collecting narwhals>=1.15.1 (from plotly)\n",
      "  Downloading narwhals-2.5.0-py3-none-any.whl.metadata (11 kB)\n",
      "Requirement already satisfied: packaging in /Users/santiagobeltran/.pyenv/versions/3.13.5/lib/python3.13/site-packages (from plotly) (25.0)\n",
      "Downloading plotly-6.3.0-py3-none-any.whl (9.8 MB)\n",
      "\u001b[2K   \u001b[38;2;249;38;114m━━━━━━━━━━━━━━━━━━━━━━━━━━━━━━━━━━\u001b[0m\u001b[38;5;237m╺\u001b[0m\u001b[38;5;237m━━━━━\u001b[0m \u001b[32m8.4/9.8 MB\u001b[0m \u001b[31m51.4 kB/s\u001b[0m eta \u001b[36m0:00:28\u001b[0mm:14\u001b[0m"
     ]
    }
   ],
   "source": [
    "!pip install plotly"
   ]
  },
  {
   "cell_type": "code",
   "execution_count": null,
   "id": "fd11073a-e961-46ca-9df0-2fa388cc19c8",
   "metadata": {},
   "outputs": [],
   "source": [
    "import plotly.express as px\n",
    "df2_u = df2.drop_duplicates(\"FIPS\")\n",
    "condados_por_estado = df2_u.groupby('State')['FIPS'].count().reset_index(name = 'num_condados')\n",
    "estados_mas_de_100 = condados_por_estado[condados_por_estado['num_condados'] >= 100]\n",
    "estados_mas_de_100\n",
    "\n",
    "fig = px.treemap(estados_mas_de_100,\n",
    "                 path=['State'],\n",
    "                 values='num_condados',\n",
    "                 title='Estados con más de 100 condados únicos')\n",
    "fig.show()"
   ]
  },
  {
   "cell_type": "markdown",
   "id": "c38a6cd1-b21d-4221-a8d6-30c1f9931f27",
   "metadata": {},
   "source": [
    "## ¿Qué estados tienen más de 100 condados? (SQLite)"
   ]
  },
  {
   "cell_type": "code",
   "execution_count": 36,
   "id": "a4afdbe7-677d-4d03-9ca0-2239b8cfe79d",
   "metadata": {},
   "outputs": [
    {
     "name": "stdout",
     "output_type": "stream",
     "text": [
      "Collecting squarify\n",
      "  Downloading squarify-0.4.4-py3-none-any.whl.metadata (600 bytes)\n",
      "Downloading squarify-0.4.4-py3-none-any.whl (4.1 kB)\n",
      "Installing collected packages: squarify\n",
      "Successfully installed squarify-0.4.4\n"
     ]
    }
   ],
   "source": [
    "!pip install squarify"
   ]
  },
  {
   "cell_type": "code",
   "execution_count": 74,
   "id": "015afb65-4c49-422a-be69-2ce71859c303",
   "metadata": {},
   "outputs": [
    {
     "name": "stdout",
     "output_type": "stream",
     "text": [
      "('TX', 237)\n",
      "('GA', 159)\n",
      "('VA', 133)\n",
      "('KY', 120)\n",
      "('MO', 115)\n",
      "('IL', 102)\n",
      "('KS', 101)\n",
      "('NC', 100)\n"
     ]
    },
    {
     "data": {
      "image/png": "[encoded data removed]",
      "text/plain": [
       "<Figure size 1200x800 with 1 Axes>"
      ]
     },
     "metadata": {},
     "output_type": "display_data"
    }
   ],
   "source": [
    "import pandas as pd\n",
    "from sqlalchemy import create_engine, MetaData, Table, select, func\n",
    "import matplotlib.pyplot as plt\n",
    "import squarify\n",
    "\n",
    "# 1. Leer CSV\n",
    "df = pd.read_csv(\"CountyHealthData_2014-2015.csv\")\n",
    "\n",
    "# 2. Guardarlo en SQLite en una tabla nueva\n",
    "engine = create_engine(\"sqlite:///healthdata.db\")\n",
    "df.to_sql(\"county_health_new\", engine, if_exists=\"replace\", index=False)\n",
    "\n",
    "# 3. Reflejar la tabla\n",
    "metadata = MetaData()\n",
    "metadata.reflect(bind=engine)\n",
    "\n",
    "county_health = Table(\"county_health_new\", metadata, autoload_with=engine)\n",
    "\n",
    "# 4. Query: contar condados únicos por estado y filtrar los >100\n",
    "stmt = (\n",
    "    select(\n",
    "        county_health.c.State,\n",
    "        func.count(func.distinct(county_health.c.FIPS)).label(\"num_condados\")\n",
    "    )\n",
    "    .group_by(county_health.c.State)\n",
    "    .having(func.count(func.distinct(county_health.c.FIPS)) >= 100)\n",
    "    .order_by(func.count(func.distinct(county_health.c.FIPS)).desc())\n",
    ")\n",
    "\n",
    "with engine.connect() as conn:\n",
    "    result = conn.execute(stmt).fetchall()\n",
    "\n",
    "for row in result:\n",
    "    print(row)\n",
    "\n",
    "\n",
    "# Convertir el resultado en DataFrame\n",
    "result_df = pd.DataFrame(result, columns=['State', 'num_condados'])\n",
    "\n",
    "# Graficar treemap\n",
    "plt.figure(figsize=(12,8))\n",
    "squarify.plot(sizes=result_df['num_condados'], \n",
    "              label=result_df['State'], \n",
    "              alpha=0.8)\n",
    "\n",
    "plt.title('Número de condados (>= 100) por estado', fontsize=16)\n",
    "plt.axis('off')\n",
    "plt.show()"
   ]
  },
  {
   "cell_type": "markdown",
   "id": "97e28944-f8a7-49d9-8e1b-7069aa4708f5",
   "metadata": {},
   "source": [
    "## Punto 3"
   ]
  },
  {
   "cell_type": "markdown",
   "id": "1b406710-ab07-4aaa-b993-79da9aa3240a",
   "metadata": {},
   "source": [
    "Suponga que Ana, Bernardo y Camila son 3 amigos... \n",
    "\n",
    "Fuerza bruta! (Enfoque de simulación)"
   ]
  },
  {
   "cell_type": "code",
   "execution_count": 16,
   "id": "a91ac3a2-6c4c-4054-a36a-08106b7e92ce",
   "metadata": {},
   "outputs": [],
   "source": [
    "import random\n",
    "import pandas as pd\n",
    "from itertools import permutations\n",
    "\n",
    "# Probabilidades\n",
    "prob = {\n",
    "    'ana': 0.7,\n",
    "    'bernardo': 0.3,\n",
    "    \"camila\": 0.1\n",
    "}\n",
    "\n",
    "# Tamaño de simulación\n",
    "N = 10000\n",
    "\n",
    "# Constantes de tiempos\n",
    "tiempo_en_acomodarse_en_segs = 8\n",
    "tiempo_por_lanzamiento_en_segs = 5\n",
    "\n",
    "ordenes = permutations(prob.keys())\n",
    "\n",
    "\n",
    "def hacer_reto(orden, intentos, tiempo, lanzaron):\n",
    "    '''\n",
    "    cree un código que de forma aleatoria empiece a jugar varias el reto hasta \n",
    "    que lo ganen (es decir, hasta que los tres encesten correctamente), \n",
    "    registrando cuántos intentos totales hubo y en cada intento quienes \n",
    "    alcanzaron a lanzar, y además registrar cuánto tiempo en total se tomaron en \n",
    "    terminar todo el reto. \n",
    "    '''\n",
    "    lanzaron.append(set())\n",
    "    intentos += 1\n",
    "    \n",
    "    # Se acomodan\n",
    "    tiempo += 8\n",
    "    exito = False\n",
    "\n",
    "    for nombre in orden:\n",
    "        while True:\n",
    "            # Hace el tiro\n",
    "            tiempo += 5\n",
    "            lanzaron[intentos-1].add(nombre)\n",
    "            \n",
    "            # Si la encesta\n",
    "            if random.random() <= prob[nombre]:\n",
    "                break\n",
    "\n",
    "            # Si no la encesta, inicia otro intento.\n",
    "            else:\n",
    "                return hacer_reto(orden, intentos, tiempo, lanzaron)\n",
    "                \n",
    "\n",
    "            # Si no pasa lo anterior, sigue lanzando.\n",
    "\n",
    "    # Al terminar el intento, retorne los datos recopilados.\n",
    "    return (orden, intentos, tiempo, lanzaron)\n"
   ]
  },
  {
   "cell_type": "code",
   "execution_count": 17,
   "id": "9c5fb9ae-7b3f-4816-bebe-25640a9eb23b",
   "metadata": {},
   "outputs": [],
   "source": [
    "import pandas as pd\n",
    "\n",
    "resumen_records = []\n",
    "historial_records = []\n",
    "\n",
    "for orden in ordenes:\n",
    "    orden_str = \"->\".join(orden)  \n",
    "    for i in range(1, 10001):  # 10,000\n",
    "        orden_sim, intentos, tiempo, lanzaron = hacer_reto(orden, 0, 0, [])\n",
    "\n",
    "        resumen_records.append((orden_str, i, intentos, tiempo))\n",
    "\n",
    "        for j, lanz in enumerate(lanzaron, start=1):\n",
    "            historial_records.append((orden_str, i, j, lanz))\n",
    "\n",
    "# Build DataFrames once at the end\n",
    "df_resumen = pd.DataFrame.from_records(\n",
    "    resumen_records,\n",
    "    columns=[\"orden\", \"n-reto\", \"intentos\", \"tiempo (segs)\"]\n",
    ").set_index([\"orden\", \"n-reto\"])\n",
    "\n",
    "df_historial = pd.DataFrame.from_records(\n",
    "    historial_records,\n",
    "    columns=[\"orden\", \"n-reto\", \"intento\", \"lanzaron\"]\n",
    ").set_index([\"orden\", \"n-reto\", \"intento\"])\n"
   ]
  },
  {
   "cell_type": "code",
   "execution_count": 18,
   "id": "7a2c8db9-dcde-412f-a3fb-df349934b663",
   "metadata": {},
   "outputs": [
    {
     "data": {
      "text/html": [
       "<div>\n",
       "<style scoped>\n",
       "    .dataframe tbody tr th:only-of-type {\n",
       "        vertical-align: middle;\n",
       "    }\n",
       "\n",
       "    .dataframe tbody tr th {\n",
       "        vertical-align: top;\n",
       "    }\n",
       "\n",
       "    .dataframe thead th {\n",
       "        text-align: right;\n",
       "    }\n",
       "</style>\n",
       "<table border=\"1\" class=\"dataframe\">\n",
       "  <thead>\n",
       "    <tr style=\"text-align: right;\">\n",
       "      <th></th>\n",
       "      <th></th>\n",
       "      <th>intentos</th>\n",
       "      <th>tiempo (segs)</th>\n",
       "    </tr>\n",
       "    <tr>\n",
       "      <th>orden</th>\n",
       "      <th>n-reto</th>\n",
       "      <th></th>\n",
       "      <th></th>\n",
       "    </tr>\n",
       "  </thead>\n",
       "  <tbody>\n",
       "    <tr>\n",
       "      <th rowspan=\"5\" valign=\"top\">ana-&gt;bernardo-&gt;camila</th>\n",
       "      <th>1</th>\n",
       "      <td>2</td>\n",
       "      <td>36</td>\n",
       "    </tr>\n",
       "    <tr>\n",
       "      <th>2</th>\n",
       "      <td>98</td>\n",
       "      <td>1729</td>\n",
       "    </tr>\n",
       "    <tr>\n",
       "      <th>3</th>\n",
       "      <td>171</td>\n",
       "      <td>3008</td>\n",
       "    </tr>\n",
       "    <tr>\n",
       "      <th>4</th>\n",
       "      <td>65</td>\n",
       "      <td>1125</td>\n",
       "    </tr>\n",
       "    <tr>\n",
       "      <th>5</th>\n",
       "      <td>68</td>\n",
       "      <td>1189</td>\n",
       "    </tr>\n",
       "    <tr>\n",
       "      <th>...</th>\n",
       "      <th>...</th>\n",
       "      <td>...</td>\n",
       "      <td>...</td>\n",
       "    </tr>\n",
       "    <tr>\n",
       "      <th rowspan=\"5\" valign=\"top\">camila-&gt;bernardo-&gt;ana</th>\n",
       "      <th>9996</th>\n",
       "      <td>23</td>\n",
       "      <td>314</td>\n",
       "    </tr>\n",
       "    <tr>\n",
       "      <th>9997</th>\n",
       "      <td>3</td>\n",
       "      <td>49</td>\n",
       "    </tr>\n",
       "    <tr>\n",
       "      <th>9998</th>\n",
       "      <td>51</td>\n",
       "      <td>688</td>\n",
       "    </tr>\n",
       "    <tr>\n",
       "      <th>9999</th>\n",
       "      <td>34</td>\n",
       "      <td>477</td>\n",
       "    </tr>\n",
       "    <tr>\n",
       "      <th>10000</th>\n",
       "      <td>62</td>\n",
       "      <td>841</td>\n",
       "    </tr>\n",
       "  </tbody>\n",
       "</table>\n",
       "<p>60000 rows × 2 columns</p>\n",
       "</div>"
      ],
      "text/plain": [
       "                              intentos  tiempo (segs)\n",
       "orden                 n-reto                         \n",
       "ana->bernardo->camila 1              2             36\n",
       "                      2             98           1729\n",
       "                      3            171           3008\n",
       "                      4             65           1125\n",
       "                      5             68           1189\n",
       "...                                ...            ...\n",
       "camila->bernardo->ana 9996          23            314\n",
       "                      9997           3             49\n",
       "                      9998          51            688\n",
       "                      9999          34            477\n",
       "                      10000         62            841\n",
       "\n",
       "[60000 rows x 2 columns]"
      ]
     },
     "execution_count": 18,
     "metadata": {},
     "output_type": "execute_result"
    }
   ],
   "source": [
    "df_resumen"
   ]
  },
  {
   "cell_type": "code",
   "execution_count": 44,
   "id": "08cabcbe-b704-4b00-a1a6-25a395246064",
   "metadata": {},
   "outputs": [
    {
     "data": {
      "text/html": [
       "<div>\n",
       "<style scoped>\n",
       "    .dataframe tbody tr th:only-of-type {\n",
       "        vertical-align: middle;\n",
       "    }\n",
       "\n",
       "    .dataframe tbody tr th {\n",
       "        vertical-align: top;\n",
       "    }\n",
       "\n",
       "    .dataframe thead th {\n",
       "        text-align: right;\n",
       "    }\n",
       "</style>\n",
       "<table border=\"1\" class=\"dataframe\">\n",
       "  <thead>\n",
       "    <tr style=\"text-align: right;\">\n",
       "      <th></th>\n",
       "      <th></th>\n",
       "      <th></th>\n",
       "      <th>lanzaron</th>\n",
       "    </tr>\n",
       "    <tr>\n",
       "      <th>orden</th>\n",
       "      <th>n-reto</th>\n",
       "      <th>intento</th>\n",
       "      <th></th>\n",
       "    </tr>\n",
       "  </thead>\n",
       "  <tbody>\n",
       "    <tr>\n",
       "      <th rowspan=\"5\" valign=\"top\">ana-&gt;bernardo-&gt;camila</th>\n",
       "      <th rowspan=\"5\" valign=\"top\">1</th>\n",
       "      <th>1</th>\n",
       "      <td>{ana, bernardo}</td>\n",
       "    </tr>\n",
       "    <tr>\n",
       "      <th>2</th>\n",
       "      <td>{ana, bernardo}</td>\n",
       "    </tr>\n",
       "    <tr>\n",
       "      <th>3</th>\n",
       "      <td>{ana, bernardo}</td>\n",
       "    </tr>\n",
       "    <tr>\n",
       "      <th>4</th>\n",
       "      <td>{ana, bernardo}</td>\n",
       "    </tr>\n",
       "    <tr>\n",
       "      <th>5</th>\n",
       "      <td>{camila, ana, bernardo}</td>\n",
       "    </tr>\n",
       "    <tr>\n",
       "      <th>...</th>\n",
       "      <th>...</th>\n",
       "      <th>...</th>\n",
       "      <td>...</td>\n",
       "    </tr>\n",
       "    <tr>\n",
       "      <th rowspan=\"5\" valign=\"top\">camila-&gt;bernardo-&gt;ana</th>\n",
       "      <th rowspan=\"5\" valign=\"top\">10000</th>\n",
       "      <th>1</th>\n",
       "      <td>{camila, bernardo}</td>\n",
       "    </tr>\n",
       "    <tr>\n",
       "      <th>2</th>\n",
       "      <td>{camila, bernardo}</td>\n",
       "    </tr>\n",
       "    <tr>\n",
       "      <th>3</th>\n",
       "      <td>{camila, bernardo}</td>\n",
       "    </tr>\n",
       "    <tr>\n",
       "      <th>4</th>\n",
       "      <td>{camila, ana, bernardo}</td>\n",
       "    </tr>\n",
       "    <tr>\n",
       "      <th>5</th>\n",
       "      <td>{camila, ana, bernardo}</td>\n",
       "    </tr>\n",
       "  </tbody>\n",
       "</table>\n",
       "<p>1053013 rows × 1 columns</p>\n",
       "</div>"
      ],
      "text/plain": [
       "                                                     lanzaron\n",
       "orden                 n-reto intento                         \n",
       "ana->bernardo->camila 1      1                {ana, bernardo}\n",
       "                             2                {ana, bernardo}\n",
       "                             3                {ana, bernardo}\n",
       "                             4                {ana, bernardo}\n",
       "                             5        {camila, ana, bernardo}\n",
       "...                                                       ...\n",
       "camila->bernardo->ana 10000  1             {camila, bernardo}\n",
       "                             2             {camila, bernardo}\n",
       "                             3             {camila, bernardo}\n",
       "                             4        {camila, ana, bernardo}\n",
       "                             5        {camila, ana, bernardo}\n",
       "\n",
       "[1053013 rows x 1 columns]"
      ]
     },
     "execution_count": 44,
     "metadata": {},
     "output_type": "execute_result"
    }
   ],
   "source": [
    "df_historial"
   ]
  },
  {
   "cell_type": "code",
   "execution_count": 25,
   "id": "7a2b7628-434b-4918-9f1c-11caf4138785",
   "metadata": {},
   "outputs": [
    {
     "data": {
      "text/html": [
       "<div>\n",
       "<style scoped>\n",
       "    .dataframe tbody tr th:only-of-type {\n",
       "        vertical-align: middle;\n",
       "    }\n",
       "\n",
       "    .dataframe tbody tr th {\n",
       "        vertical-align: top;\n",
       "    }\n",
       "\n",
       "    .dataframe thead th {\n",
       "        text-align: right;\n",
       "    }\n",
       "</style>\n",
       "<table border=\"1\" class=\"dataframe\">\n",
       "  <thead>\n",
       "    <tr style=\"text-align: right;\">\n",
       "      <th></th>\n",
       "      <th>intentos</th>\n",
       "      <th>tiempo (segs)</th>\n",
       "    </tr>\n",
       "    <tr>\n",
       "      <th>n-reto</th>\n",
       "      <th></th>\n",
       "      <th></th>\n",
       "    </tr>\n",
       "  </thead>\n",
       "  <tbody>\n",
       "    <tr>\n",
       "      <th>1</th>\n",
       "      <td>8</td>\n",
       "      <td>174</td>\n",
       "    </tr>\n",
       "    <tr>\n",
       "      <th>2</th>\n",
       "      <td>5</td>\n",
       "      <td>110</td>\n",
       "    </tr>\n",
       "    <tr>\n",
       "      <th>3</th>\n",
       "      <td>7</td>\n",
       "      <td>151</td>\n",
       "    </tr>\n",
       "    <tr>\n",
       "      <th>4</th>\n",
       "      <td>18</td>\n",
       "      <td>359</td>\n",
       "    </tr>\n",
       "    <tr>\n",
       "      <th>5</th>\n",
       "      <td>34</td>\n",
       "      <td>717</td>\n",
       "    </tr>\n",
       "    <tr>\n",
       "      <th>...</th>\n",
       "      <td>...</td>\n",
       "      <td>...</td>\n",
       "    </tr>\n",
       "    <tr>\n",
       "      <th>9996</th>\n",
       "      <td>39</td>\n",
       "      <td>847</td>\n",
       "    </tr>\n",
       "    <tr>\n",
       "      <th>9997</th>\n",
       "      <td>29</td>\n",
       "      <td>657</td>\n",
       "    </tr>\n",
       "    <tr>\n",
       "      <th>9998</th>\n",
       "      <td>2</td>\n",
       "      <td>76</td>\n",
       "    </tr>\n",
       "    <tr>\n",
       "      <th>9999</th>\n",
       "      <td>44</td>\n",
       "      <td>912</td>\n",
       "    </tr>\n",
       "    <tr>\n",
       "      <th>10000</th>\n",
       "      <td>12</td>\n",
       "      <td>271</td>\n",
       "    </tr>\n",
       "  </tbody>\n",
       "</table>\n",
       "<p>10000 rows × 2 columns</p>\n",
       "</div>"
      ],
      "text/plain": [
       "        intentos  tiempo (segs)\n",
       "n-reto                         \n",
       "1              8            174\n",
       "2              5            110\n",
       "3              7            151\n",
       "4             18            359\n",
       "5             34            717\n",
       "...          ...            ...\n",
       "9996          39            847\n",
       "9997          29            657\n",
       "9998           2             76\n",
       "9999          44            912\n",
       "10000         12            271\n",
       "\n",
       "[10000 rows x 2 columns]"
      ]
     },
     "execution_count": 25,
     "metadata": {},
     "output_type": "execute_result"
    }
   ],
   "source": [
    "# Para elegir uno en particular...\n",
    "\n",
    "df_resumen.loc[\"ana->bernardo->camila\"]"
   ]
  },
  {
   "cell_type": "code",
   "execution_count": 19,
   "id": "d72c0f34-bdf5-4e21-bd89-e365162b06e1",
   "metadata": {},
   "outputs": [
    {
     "data": {
      "image/png": "[encoded data removed]",
      "text/plain": [
       "<Figure size 1200x600 with 1 Axes>"
      ]
     },
     "metadata": {},
     "output_type": "display_data"
    },
    {
     "data": {
      "image/png": "[encoded data removed]",
      "text/plain": [
       "<Figure size 1200x600 with 1 Axes>"
      ]
     },
     "metadata": {},
     "output_type": "display_data"
    }
   ],
   "source": [
    "import matplotlib.pyplot as plt\n",
    "\n",
    "# Obtener los órdenes únicos\n",
    "ordenes_unicos = df_resumen.index.get_level_values(\"orden\").unique()\n",
    "\n",
    "# Crear figura\n",
    "plt.figure(figsize=(12, 6))\n",
    "\n",
    "# Histograma de intentos por cada orden\n",
    "for orden in ordenes_unicos:\n",
    "    subset = df_resumen.loc[orden, \"intentos\"]\n",
    "    plt.hist(subset, bins=30, alpha=0.5, label=f\"{orden}\")\n",
    "\n",
    "plt.xlabel(\"Número de intentos\")\n",
    "plt.ylabel(\"Frecuencia\")\n",
    "plt.title(\"Distribución de intentos por orden\")\n",
    "plt.legend()\n",
    "plt.show()\n",
    "\n",
    "\n",
    "\n",
    "# Histograma de tiempos por orden\n",
    "plt.figure(figsize=(12, 6))\n",
    "\n",
    "for orden in ordenes_unicos:\n",
    "    subset = df_resumen.loc[orden, \"tiempo (segs)\"]\n",
    "    plt.hist(subset, bins=30, alpha=0.5, label=f\"{orden}\")\n",
    "\n",
    "plt.xlabel(\"Tiempo total (segundos)\")\n",
    "plt.ylabel(\"Frecuencia\")\n",
    "plt.title(\"Distribución de tiempos por orden\")\n",
    "plt.legend()\n",
    "plt.show()\n"
   ]
  },
  {
   "cell_type": "code",
   "execution_count": 20,
   "id": "0f7a29bb-fad4-4d50-8f5a-e42232836747",
   "metadata": {},
   "outputs": [
    {
     "data": {
      "image/png": "[encoded data removed]",
      "text/plain": [
       "<Figure size 1500x800 with 6 Axes>"
      ]
     },
     "metadata": {},
     "output_type": "display_data"
    },
    {
     "data": {
      "image/png": "[encoded data removed]",
      "text/plain": [
       "<Figure size 1500x800 with 6 Axes>"
      ]
     },
     "metadata": {},
     "output_type": "display_data"
    }
   ],
   "source": [
    "# En subplots...\n",
    "\n",
    "import matplotlib.pyplot as plt\n",
    "\n",
    "\n",
    "\n",
    "fig, axes = plt.subplots(2, 3, figsize=(15, 8), sharex=True, sharey=True)\n",
    "axes = axes.flatten()\n",
    "\n",
    "for ax, orden in zip(axes, ordenes_unicos):\n",
    "    subset = df_resumen.loc[orden, \"intentos\"]\n",
    "    ax.hist(subset, bins=30, alpha=0.7)\n",
    "    ax.set_title(f\"Intentos - {orden}\")\n",
    "    ax.set_xlabel(\"Intentos\")\n",
    "    ax.set_ylabel(\"Frecuencia\")\n",
    "\n",
    "plt.suptitle(\"Distribución de intentos por orden\", fontsize=16)\n",
    "plt.tight_layout(rect=[0, 0, 1, 0.96])\n",
    "plt.show()\n",
    "\n",
    "\n",
    "fig, axes = plt.subplots(2, 3, figsize=(15, 8), sharex=True, sharey=True)\n",
    "axes = axes.flatten()\n",
    "\n",
    "for ax, orden in zip(axes, ordenes_unicos):\n",
    "    subset = df_resumen.loc[orden, \"tiempo (segs)\"]\n",
    "    ax.hist(subset, bins=30, alpha=0.7)\n",
    "    ax.set_title(f\"Tiempos - {orden}\")\n",
    "    ax.set_xlabel(\"Tiempo (s)\")\n",
    "    ax.set_ylabel(\"Frecuencia\")\n",
    "\n",
    "plt.suptitle(\"Distribución de tiempos por orden\", fontsize=16)\n",
    "plt.tight_layout(rect=[0, 0, 1, 0.96])\n",
    "plt.show()\n"
   ]
  },
  {
   "cell_type": "code",
   "execution_count": 21,
   "id": "a77c2b72-2dc9-4366-b26e-322bbc05baa4",
   "metadata": {},
   "outputs": [],
   "source": [
    "# ¿ Cuál es el número promedio de veces que se debe intentar el reto para ganarlo?\n",
    "promedios = df_resumen.groupby(level=0).mean()"
   ]
  },
  {
   "cell_type": "code",
   "execution_count": 23,
   "id": "fb43cfdc-ca29-481c-b15b-a2d79c0d4c84",
   "metadata": {},
   "outputs": [
    {
     "data": {
      "text/html": [
       "<div>\n",
       "<style scoped>\n",
       "    .dataframe tbody tr th:only-of-type {\n",
       "        vertical-align: middle;\n",
       "    }\n",
       "\n",
       "    .dataframe tbody tr th {\n",
       "        vertical-align: top;\n",
       "    }\n",
       "\n",
       "    .dataframe thead th {\n",
       "        text-align: right;\n",
       "    }\n",
       "</style>\n",
       "<table border=\"1\" class=\"dataframe\">\n",
       "  <thead>\n",
       "    <tr style=\"text-align: right;\">\n",
       "      <th></th>\n",
       "      <th>intentos</th>\n",
       "      <th>tiempo (segs)</th>\n",
       "    </tr>\n",
       "    <tr>\n",
       "      <th>orden</th>\n",
       "      <th></th>\n",
       "      <th></th>\n",
       "    </tr>\n",
       "  </thead>\n",
       "  <tbody>\n",
       "    <tr>\n",
       "      <th>camila-&gt;ana-&gt;bernardo</th>\n",
       "      <td>47.1872</td>\n",
       "      <td>653.3431</td>\n",
       "    </tr>\n",
       "    <tr>\n",
       "      <th>bernardo-&gt;ana-&gt;camila</th>\n",
       "      <td>47.2417</td>\n",
       "      <td>734.9696</td>\n",
       "    </tr>\n",
       "    <tr>\n",
       "      <th>ana-&gt;camila-&gt;bernardo</th>\n",
       "      <td>47.3947</td>\n",
       "      <td>798.6141</td>\n",
       "    </tr>\n",
       "    <tr>\n",
       "      <th>bernardo-&gt;camila-&gt;ana</th>\n",
       "      <td>47.4270</td>\n",
       "      <td>694.7620</td>\n",
       "    </tr>\n",
       "    <tr>\n",
       "      <th>camila-&gt;bernardo-&gt;ana</th>\n",
       "      <td>48.1225</td>\n",
       "      <td>656.8225</td>\n",
       "    </tr>\n",
       "    <tr>\n",
       "      <th>ana-&gt;bernardo-&gt;camila</th>\n",
       "      <td>48.4709</td>\n",
       "      <td>850.5097</td>\n",
       "    </tr>\n",
       "  </tbody>\n",
       "</table>\n",
       "</div>"
      ],
      "text/plain": [
       "                       intentos  tiempo (segs)\n",
       "orden                                         \n",
       "camila->ana->bernardo   47.1872       653.3431\n",
       "bernardo->ana->camila   47.2417       734.9696\n",
       "ana->camila->bernardo   47.3947       798.6141\n",
       "bernardo->camila->ana   47.4270       694.7620\n",
       "camila->bernardo->ana   48.1225       656.8225\n",
       "ana->bernardo->camila   48.4709       850.5097"
      ]
     },
     "execution_count": 23,
     "metadata": {},
     "output_type": "execute_result"
    }
   ],
   "source": [
    "# Promedios ordenados por número de intentos (Menor a mayor)\n",
    "\n",
    "promedios.sort_values(\"intentos\")"
   ]
  },
  {
   "cell_type": "code",
   "execution_count": 26,
   "id": "3e2bfaea-c127-4533-854b-df7f5a9f854f",
   "metadata": {},
   "outputs": [
    {
     "data": {
      "text/html": [
       "<div>\n",
       "<style scoped>\n",
       "    .dataframe tbody tr th:only-of-type {\n",
       "        vertical-align: middle;\n",
       "    }\n",
       "\n",
       "    .dataframe tbody tr th {\n",
       "        vertical-align: top;\n",
       "    }\n",
       "\n",
       "    .dataframe thead th {\n",
       "        text-align: right;\n",
       "    }\n",
       "</style>\n",
       "<table border=\"1\" class=\"dataframe\">\n",
       "  <thead>\n",
       "    <tr style=\"text-align: right;\">\n",
       "      <th></th>\n",
       "      <th>intentos</th>\n",
       "      <th>tiempo (segs)</th>\n",
       "    </tr>\n",
       "    <tr>\n",
       "      <th>orden</th>\n",
       "      <th></th>\n",
       "      <th></th>\n",
       "    </tr>\n",
       "  </thead>\n",
       "  <tbody>\n",
       "    <tr>\n",
       "      <th>camila-&gt;ana-&gt;bernardo</th>\n",
       "      <td>47.1872</td>\n",
       "      <td>653.3431</td>\n",
       "    </tr>\n",
       "    <tr>\n",
       "      <th>camila-&gt;bernardo-&gt;ana</th>\n",
       "      <td>48.1225</td>\n",
       "      <td>656.8225</td>\n",
       "    </tr>\n",
       "    <tr>\n",
       "      <th>bernardo-&gt;camila-&gt;ana</th>\n",
       "      <td>47.4270</td>\n",
       "      <td>694.7620</td>\n",
       "    </tr>\n",
       "    <tr>\n",
       "      <th>bernardo-&gt;ana-&gt;camila</th>\n",
       "      <td>47.2417</td>\n",
       "      <td>734.9696</td>\n",
       "    </tr>\n",
       "    <tr>\n",
       "      <th>ana-&gt;camila-&gt;bernardo</th>\n",
       "      <td>47.3947</td>\n",
       "      <td>798.6141</td>\n",
       "    </tr>\n",
       "    <tr>\n",
       "      <th>ana-&gt;bernardo-&gt;camila</th>\n",
       "      <td>48.4709</td>\n",
       "      <td>850.5097</td>\n",
       "    </tr>\n",
       "  </tbody>\n",
       "</table>\n",
       "</div>"
      ],
      "text/plain": [
       "                       intentos  tiempo (segs)\n",
       "orden                                         \n",
       "camila->ana->bernardo   47.1872       653.3431\n",
       "camila->bernardo->ana   48.1225       656.8225\n",
       "bernardo->camila->ana   47.4270       694.7620\n",
       "bernardo->ana->camila   47.2417       734.9696\n",
       "ana->camila->bernardo   47.3947       798.6141\n",
       "ana->bernardo->camila   48.4709       850.5097"
      ]
     },
     "execution_count": 26,
     "metadata": {},
     "output_type": "execute_result"
    }
   ],
   "source": [
    "# Promedios ordenados por tiempo haciendo el reto (Menor a mayor)\n",
    "promedios.sort_values(\"tiempo (segs)\")"
   ]
  },
  {
   "cell_type": "code",
   "execution_count": 27,
   "id": "1972719a-629e-4a20-994e-e18f8e5728e7",
   "metadata": {},
   "outputs": [
    {
     "data": {
      "text/plain": [
       "intentos          47.640667\n",
       "tiempo (segs)    731.503500\n",
       "dtype: float64"
      ]
     },
     "execution_count": 27,
     "metadata": {},
     "output_type": "execute_result"
    }
   ],
   "source": [
    "# En promedio, sin importar el orden (si importáse se puede consultar la tabla), ¿cuál es el número de intentos que \n",
    "# se necesitan para completar el reto? ¿En cuánto tiempo?\n",
    "\n",
    "promedios.mean()\n",
    "\n",
    "# Es decir, entre 70 y 71 intentos.\n",
    "# En 491 segundos (8.18 mins aprox)."
   ]
  },
  {
   "cell_type": "code",
   "execution_count": 29,
   "id": "0b8758b0-be55-49fb-af2f-68304c4c86cd",
   "metadata": {},
   "outputs": [
    {
     "data": {
      "text/plain": [
       "intentos          47.1872\n",
       "tiempo (segs)    653.3431\n",
       "Name: camila->ana->bernardo, dtype: float64"
      ]
     },
     "execution_count": 29,
     "metadata": {},
     "output_type": "execute_result"
    }
   ],
   "source": [
    "# Note que\n",
    "promedios.sort_values(\"tiempo (segs)\").iloc[0]\n",
    "\n",
    "# Es la configuración que menos tiempo necesita, esta corresponde al orden \"camila -> bernardo -> ana\" que resulta\n",
    "# ser que tiren de \"peor\" a \"mejor\". "
   ]
  },
  {
   "cell_type": "code",
   "execution_count": 31,
   "id": "e5e59041-8f73-4de6-8b81-3958bc921042",
   "metadata": {},
   "outputs": [
    {
     "data": {
      "text/plain": [
       "intentos          48.4709\n",
       "tiempo (segs)    850.5097\n",
       "Name: ana->bernardo->camila, dtype: float64"
      ]
     },
     "execution_count": 31,
     "metadata": {},
     "output_type": "execute_result"
    }
   ],
   "source": [
    "# En cambio, observemos que la peor configuración es precisamente la mejor en orden inverso, es decir, tirar de \n",
    "# \"mejor\" a \"peor\".\n",
    "\n",
    "promedios.sort_values(\"tiempo (segs)\").iloc[-1]\n"
   ]
  },
  {
   "cell_type": "code",
   "execution_count": 33,
   "id": "8737302c-b44c-4c07-9ed9-dc3ff7fecd65",
   "metadata": {},
   "outputs": [
    {
     "data": {
      "text/plain": [
       "intentos          47.1872\n",
       "tiempo (segs)    653.3431\n",
       "Name: camila->ana->bernardo, dtype: float64"
      ]
     },
     "execution_count": 33,
     "metadata": {},
     "output_type": "execute_result"
    }
   ],
   "source": [
    "# Experimentalmente, si se desea minimizar el número de intentos, la mejor combinación es:\n",
    "\n",
    "promedios.sort_values(\"intentos\").iloc[0]\n",
    "\n",
    "# Que en la simulación es también la más rápida (\"peor\" a \"mejor\")"
   ]
  },
  {
   "cell_type": "markdown",
   "id": "eecf049f-2286-47bc-ac7b-72dee713af47",
   "metadata": {},
   "source": [
    "### Ahora sí... Analíticamente"
   ]
  },
  {
   "cell_type": "markdown",
   "id": "841b2924-1ad8-4ea5-a4bf-78414a016c8d",
   "metadata": {},
   "source": [
    "En el problema anterior se termina el reto si los tres encestan consecutivamente, esto puede modelarse como una distribución binomial negativa con $$p = (0.7)(0.3)(0.1)$$  $$r=1$$ De ahí se obtiene que el número promedio de intentos es el mismo, sin importar el orden, es el mismo. Sea $N$ una v.a que representa el número de intentos necesarios para ganar el reto, $E(N) = 1 / p \\approx 47.62$.\n",
    "\n",
    "Sin embargo, la cantidad de lanzamientos por intento es diferente, la cantidad de lanzamientos promedio por intento es $E(lanzamientos_{intento}) = 1 + p_1 + p_1 p_2$\n",
    "\n",
    "El tiempo promedio es 8 segs de preparación mas 5 segundos por tiro en promedio, es decir\n",
    "\n",
    "$ E(tiempo_{intento}) = 8 + 5E(lanzamientos_{intento})$\n",
    "\n",
    "Para cada orden se obtienen los siguientes promedios analíticamente"
   ]
  },
  {
   "cell_type": "code",
   "execution_count": 39,
   "id": "7ae5d338-e9bc-4e2b-a0a3-78e614e2de2c",
   "metadata": {},
   "outputs": [],
   "source": [
    "promedios_analiticos = pd.DataFrame()\n",
    "ordenes_unicos = df_resumen.index.get_level_values(\"orden\").unique()\n",
    "numero_de_intentos_promedio = 1 / (0.7 * 0.3 * 0.1)\n",
    "\n",
    "\n",
    "for orden in ordenes_unicos:\n",
    "    lista_ordenes = orden.split('->')\n",
    "\n",
    "    p1 = prob[lista_ordenes[0]]\n",
    "    p2 = prob[lista_ordenes[1]]\n",
    "\n",
    "    lanzamientos_por_intento_promedio = 1+  p1 + p1 * p2\n",
    "    tiempo_por_intento_promedio = 8 + 5 * lanzamientos_por_intento_promedio\n",
    "\n",
    "    lanzamientos_reto_promedio = numero_de_intentos_promedio * lanzamientos_por_intento_promedio\n",
    "    tiempo_reto_promedio = (8 * numero_de_intentos_promedio) + (5 * lanzamientos_reto_promedio)\n",
    "    \n",
    "    \n",
    "    \n",
    "    nueva_fila = pd.DataFrame({'tiempo_reto_promedio (segs)': tiempo_reto_promedio, \n",
    "                  'lanzamientos_reto_promedio': lanzamientos_reto_promedio},\n",
    "                 index=[orden])\n",
    "\n",
    "    promedios_analiticos = pd.concat([promedios_analiticos, nueva_fila])\n",
    "\n",
    "    "
   ]
  },
  {
   "cell_type": "code",
   "execution_count": 40,
   "id": "71178265-97fe-4eee-a676-1ae0134533fd",
   "metadata": {},
   "outputs": [
    {
     "data": {
      "text/html": [
       "<div>\n",
       "<style scoped>\n",
       "    .dataframe tbody tr th:only-of-type {\n",
       "        vertical-align: middle;\n",
       "    }\n",
       "\n",
       "    .dataframe tbody tr th {\n",
       "        vertical-align: top;\n",
       "    }\n",
       "\n",
       "    .dataframe thead th {\n",
       "        text-align: right;\n",
       "    }\n",
       "</style>\n",
       "<table border=\"1\" class=\"dataframe\">\n",
       "  <thead>\n",
       "    <tr style=\"text-align: right;\">\n",
       "      <th></th>\n",
       "      <th>tiempo_reto_promedio (segs)</th>\n",
       "      <th>lanzamientos_reto_promedio</th>\n",
       "    </tr>\n",
       "  </thead>\n",
       "  <tbody>\n",
       "    <tr>\n",
       "      <th>camila-&gt;bernardo-&gt;ana</th>\n",
       "      <td>650.000000</td>\n",
       "      <td>53.809524</td>\n",
       "    </tr>\n",
       "    <tr>\n",
       "      <th>camila-&gt;ana-&gt;bernardo</th>\n",
       "      <td>659.523810</td>\n",
       "      <td>55.714286</td>\n",
       "    </tr>\n",
       "    <tr>\n",
       "      <th>bernardo-&gt;camila-&gt;ana</th>\n",
       "      <td>697.619048</td>\n",
       "      <td>63.333333</td>\n",
       "    </tr>\n",
       "    <tr>\n",
       "      <th>bernardo-&gt;ana-&gt;camila</th>\n",
       "      <td>740.476190</td>\n",
       "      <td>71.904762</td>\n",
       "    </tr>\n",
       "    <tr>\n",
       "      <th>ana-&gt;camila-&gt;bernardo</th>\n",
       "      <td>802.380952</td>\n",
       "      <td>84.285714</td>\n",
       "    </tr>\n",
       "    <tr>\n",
       "      <th>ana-&gt;bernardo-&gt;camila</th>\n",
       "      <td>835.714286</td>\n",
       "      <td>90.952381</td>\n",
       "    </tr>\n",
       "  </tbody>\n",
       "</table>\n",
       "</div>"
      ],
      "text/plain": [
       "                       tiempo_reto_promedio (segs)  lanzamientos_reto_promedio\n",
       "camila->bernardo->ana                   650.000000                   53.809524\n",
       "camila->ana->bernardo                   659.523810                   55.714286\n",
       "bernardo->camila->ana                   697.619048                   63.333333\n",
       "bernardo->ana->camila                   740.476190                   71.904762\n",
       "ana->camila->bernardo                   802.380952                   84.285714\n",
       "ana->bernardo->camila                   835.714286                   90.952381"
      ]
     },
     "execution_count": 40,
     "metadata": {},
     "output_type": "execute_result"
    }
   ],
   "source": [
    "promedios_analiticos.sort_values(\"tiempo_reto_promedio (segs)\")"
   ]
  },
  {
   "cell_type": "code",
   "execution_count": 43,
   "id": "84c9282b-ad10-4c79-bdf0-02c307f2f61e",
   "metadata": {},
   "outputs": [
    {
     "data": {
      "text/html": [
       "<div>\n",
       "<style scoped>\n",
       "    .dataframe tbody tr th:only-of-type {\n",
       "        vertical-align: middle;\n",
       "    }\n",
       "\n",
       "    .dataframe tbody tr th {\n",
       "        vertical-align: top;\n",
       "    }\n",
       "\n",
       "    .dataframe thead th {\n",
       "        text-align: right;\n",
       "    }\n",
       "</style>\n",
       "<table border=\"1\" class=\"dataframe\">\n",
       "  <thead>\n",
       "    <tr style=\"text-align: right;\">\n",
       "      <th></th>\n",
       "      <th>intentos</th>\n",
       "      <th>tiempo (segs)</th>\n",
       "    </tr>\n",
       "    <tr>\n",
       "      <th>orden</th>\n",
       "      <th></th>\n",
       "      <th></th>\n",
       "    </tr>\n",
       "  </thead>\n",
       "  <tbody>\n",
       "    <tr>\n",
       "      <th>camila-&gt;ana-&gt;bernardo</th>\n",
       "      <td>47.1872</td>\n",
       "      <td>653.3431</td>\n",
       "    </tr>\n",
       "    <tr>\n",
       "      <th>camila-&gt;bernardo-&gt;ana</th>\n",
       "      <td>48.1225</td>\n",
       "      <td>656.8225</td>\n",
       "    </tr>\n",
       "    <tr>\n",
       "      <th>bernardo-&gt;camila-&gt;ana</th>\n",
       "      <td>47.4270</td>\n",
       "      <td>694.7620</td>\n",
       "    </tr>\n",
       "    <tr>\n",
       "      <th>bernardo-&gt;ana-&gt;camila</th>\n",
       "      <td>47.2417</td>\n",
       "      <td>734.9696</td>\n",
       "    </tr>\n",
       "    <tr>\n",
       "      <th>ana-&gt;camila-&gt;bernardo</th>\n",
       "      <td>47.3947</td>\n",
       "      <td>798.6141</td>\n",
       "    </tr>\n",
       "    <tr>\n",
       "      <th>ana-&gt;bernardo-&gt;camila</th>\n",
       "      <td>48.4709</td>\n",
       "      <td>850.5097</td>\n",
       "    </tr>\n",
       "  </tbody>\n",
       "</table>\n",
       "</div>"
      ],
      "text/plain": [
       "                       intentos  tiempo (segs)\n",
       "orden                                         \n",
       "camila->ana->bernardo   47.1872       653.3431\n",
       "camila->bernardo->ana   48.1225       656.8225\n",
       "bernardo->camila->ana   47.4270       694.7620\n",
       "bernardo->ana->camila   47.2417       734.9696\n",
       "ana->camila->bernardo   47.3947       798.6141\n",
       "ana->bernardo->camila   48.4709       850.5097"
      ]
     },
     "execution_count": 43,
     "metadata": {},
     "output_type": "execute_result"
    }
   ],
   "source": [
    "# Compárese esto con lo obtenido en simulación.\n",
    "\n",
    "promedios.sort_values(\"tiempo (segs)\")"
   ]
  },
  {
   "cell_type": "markdown",
   "id": "3413b11e-3ed9-499b-bd9b-82751d1bba84",
   "metadata": {},
   "source": [
    "Como se puede observar, ambos enfoques concuerdan en algo: La mejor forma de minimizar el tiempo en hacer el reto es que empiece\n",
    "lanzando el peor y termine lanzando el mejor. \n",
    "\n",
    "Analíticamente, la mejor forma de minimizar la cantidad de lanzamientos por reto es también iniciar con el peor y terminra con el mejor. \n",
    "¿Cómo podemos saber esto a través de la simulación? Como el tiempo está relaciionado con la cantidad de lanzamientos de la forma\n",
    "$tiempo = 8 * intentos + 5 * lanzamientos$  y como los intentos son relativamente similares, es posible deducir que el orden en que aparecen de mejor a peor tiempo es también el orden de mejor a peor número de lanzamientos."
   ]
  },
  {
   "cell_type": "code",
   "execution_count": null,
   "id": "3d917ad5-6489-43ee-8b51-73759b4e4315",
   "metadata": {},
   "outputs": [],
   "source": []
  },
  {
   "cell_type": "markdown",
   "id": "a6184c19-070e-4c6d-8b11-d50609921a33",
   "metadata": {},
   "source": []
  }
 ],
 "metadata": {
  "kernelspec": {
   "display_name": "Python 3 (ipykernel)",
   "language": "python",
   "name": "python3"
  },
  "language_info": {
   "codemirror_mode": {
    "name": "ipython",
    "version": 3
   },
   "file_extension": ".py",
   "mimetype": "text/x-python",
   "name": "python",
   "nbconvert_exporter": "python",
   "pygments_lexer": "ipython3",
   "version": "3.13.0"
  }
 },
 "nbformat": 4,
 "nbformat_minor": 5
}
